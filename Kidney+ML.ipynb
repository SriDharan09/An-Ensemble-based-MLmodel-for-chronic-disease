{
 "cells": [
  {
   "cell_type": "code",
   "execution_count": 97,
   "id": "89764c70",
   "metadata": {
    "execution": {
     "iopub.execute_input": "2021-08-03T10:26:46.139047Z",
     "iopub.status.busy": "2021-08-03T10:26:46.137938Z",
     "iopub.status.idle": "2021-08-03T10:26:48.406711Z",
     "shell.execute_reply": "2021-08-03T10:26:48.405410Z",
     "shell.execute_reply.started": "2021-08-03T10:09:00.112316Z"
    },
    "papermill": {
     "duration": 2.342669,
     "end_time": "2021-08-03T10:26:48.406881",
     "exception": false,
     "start_time": "2021-08-03T10:26:46.064212",
     "status": "completed"
    },
    "tags": []
   },
   "outputs": [],
   "source": [
    "# necessary imports \n",
    "\n",
    "import pandas as pd\n",
    "import numpy as np\n",
    "import matplotlib.pyplot as plt\n",
    "import seaborn as sns\n",
    "import plotly.express as px\n",
    "\n",
    "import warnings\n",
    "warnings.filterwarnings('ignore')\n",
    "\n",
    "plt.style.use('fivethirtyeight')\n",
    "%matplotlib inline\n",
    "pd.set_option('display.max_columns', 26)"
   ]
  },
  {
   "cell_type": "code",
   "execution_count": 98,
   "id": "f101956a",
   "metadata": {
    "execution": {
     "iopub.execute_input": "2021-08-03T10:26:48.551923Z",
     "iopub.status.busy": "2021-08-03T10:26:48.551258Z",
     "iopub.status.idle": "2021-08-03T10:26:48.611141Z",
     "shell.execute_reply": "2021-08-03T10:26:48.611631Z",
     "shell.execute_reply.started": "2021-08-03T10:09:01.365384Z"
    },
    "papermill": {
     "duration": 0.134709,
     "end_time": "2021-08-03T10:26:48.611821",
     "exception": false,
     "start_time": "2021-08-03T10:26:48.477112",
     "status": "completed"
    },
    "tags": []
   },
   "outputs": [
    {
     "data": {
      "text/html": [
       "<div>\n",
       "<style scoped>\n",
       "    .dataframe tbody tr th:only-of-type {\n",
       "        vertical-align: middle;\n",
       "    }\n",
       "\n",
       "    .dataframe tbody tr th {\n",
       "        vertical-align: top;\n",
       "    }\n",
       "\n",
       "    .dataframe thead th {\n",
       "        text-align: right;\n",
       "    }\n",
       "</style>\n",
       "<table border=\"1\" class=\"dataframe\">\n",
       "  <thead>\n",
       "    <tr style=\"text-align: right;\">\n",
       "      <th></th>\n",
       "      <th>id</th>\n",
       "      <th>age</th>\n",
       "      <th>bp</th>\n",
       "      <th>sg</th>\n",
       "      <th>al</th>\n",
       "      <th>su</th>\n",
       "      <th>rbc</th>\n",
       "      <th>pc</th>\n",
       "      <th>pcc</th>\n",
       "      <th>ba</th>\n",
       "      <th>bgr</th>\n",
       "      <th>bu</th>\n",
       "      <th>sc</th>\n",
       "      <th>sod</th>\n",
       "      <th>pot</th>\n",
       "      <th>hemo</th>\n",
       "      <th>pcv</th>\n",
       "      <th>wc</th>\n",
       "      <th>rc</th>\n",
       "      <th>htn</th>\n",
       "      <th>dm</th>\n",
       "      <th>cad</th>\n",
       "      <th>appet</th>\n",
       "      <th>pe</th>\n",
       "      <th>ane</th>\n",
       "      <th>classification</th>\n",
       "    </tr>\n",
       "  </thead>\n",
       "  <tbody>\n",
       "    <tr>\n",
       "      <th>0</th>\n",
       "      <td>0</td>\n",
       "      <td>48.0</td>\n",
       "      <td>80.0</td>\n",
       "      <td>1.020</td>\n",
       "      <td>1.0</td>\n",
       "      <td>0.0</td>\n",
       "      <td>NaN</td>\n",
       "      <td>normal</td>\n",
       "      <td>notpresent</td>\n",
       "      <td>notpresent</td>\n",
       "      <td>121.0</td>\n",
       "      <td>36.0</td>\n",
       "      <td>1.2</td>\n",
       "      <td>NaN</td>\n",
       "      <td>NaN</td>\n",
       "      <td>15.4</td>\n",
       "      <td>44</td>\n",
       "      <td>7800</td>\n",
       "      <td>5.2</td>\n",
       "      <td>yes</td>\n",
       "      <td>yes</td>\n",
       "      <td>no</td>\n",
       "      <td>good</td>\n",
       "      <td>no</td>\n",
       "      <td>no</td>\n",
       "      <td>ckd</td>\n",
       "    </tr>\n",
       "    <tr>\n",
       "      <th>1</th>\n",
       "      <td>1</td>\n",
       "      <td>7.0</td>\n",
       "      <td>50.0</td>\n",
       "      <td>1.020</td>\n",
       "      <td>4.0</td>\n",
       "      <td>0.0</td>\n",
       "      <td>NaN</td>\n",
       "      <td>normal</td>\n",
       "      <td>notpresent</td>\n",
       "      <td>notpresent</td>\n",
       "      <td>NaN</td>\n",
       "      <td>18.0</td>\n",
       "      <td>0.8</td>\n",
       "      <td>NaN</td>\n",
       "      <td>NaN</td>\n",
       "      <td>11.3</td>\n",
       "      <td>38</td>\n",
       "      <td>6000</td>\n",
       "      <td>NaN</td>\n",
       "      <td>no</td>\n",
       "      <td>no</td>\n",
       "      <td>no</td>\n",
       "      <td>good</td>\n",
       "      <td>no</td>\n",
       "      <td>no</td>\n",
       "      <td>ckd</td>\n",
       "    </tr>\n",
       "    <tr>\n",
       "      <th>2</th>\n",
       "      <td>2</td>\n",
       "      <td>62.0</td>\n",
       "      <td>80.0</td>\n",
       "      <td>1.010</td>\n",
       "      <td>2.0</td>\n",
       "      <td>3.0</td>\n",
       "      <td>normal</td>\n",
       "      <td>normal</td>\n",
       "      <td>notpresent</td>\n",
       "      <td>notpresent</td>\n",
       "      <td>423.0</td>\n",
       "      <td>53.0</td>\n",
       "      <td>1.8</td>\n",
       "      <td>NaN</td>\n",
       "      <td>NaN</td>\n",
       "      <td>9.6</td>\n",
       "      <td>31</td>\n",
       "      <td>7500</td>\n",
       "      <td>NaN</td>\n",
       "      <td>no</td>\n",
       "      <td>yes</td>\n",
       "      <td>no</td>\n",
       "      <td>poor</td>\n",
       "      <td>no</td>\n",
       "      <td>yes</td>\n",
       "      <td>ckd</td>\n",
       "    </tr>\n",
       "    <tr>\n",
       "      <th>3</th>\n",
       "      <td>3</td>\n",
       "      <td>48.0</td>\n",
       "      <td>70.0</td>\n",
       "      <td>1.005</td>\n",
       "      <td>4.0</td>\n",
       "      <td>0.0</td>\n",
       "      <td>normal</td>\n",
       "      <td>abnormal</td>\n",
       "      <td>present</td>\n",
       "      <td>notpresent</td>\n",
       "      <td>117.0</td>\n",
       "      <td>56.0</td>\n",
       "      <td>3.8</td>\n",
       "      <td>111.0</td>\n",
       "      <td>2.5</td>\n",
       "      <td>11.2</td>\n",
       "      <td>32</td>\n",
       "      <td>6700</td>\n",
       "      <td>3.9</td>\n",
       "      <td>yes</td>\n",
       "      <td>no</td>\n",
       "      <td>no</td>\n",
       "      <td>poor</td>\n",
       "      <td>yes</td>\n",
       "      <td>yes</td>\n",
       "      <td>ckd</td>\n",
       "    </tr>\n",
       "    <tr>\n",
       "      <th>4</th>\n",
       "      <td>4</td>\n",
       "      <td>51.0</td>\n",
       "      <td>80.0</td>\n",
       "      <td>1.010</td>\n",
       "      <td>2.0</td>\n",
       "      <td>0.0</td>\n",
       "      <td>normal</td>\n",
       "      <td>normal</td>\n",
       "      <td>notpresent</td>\n",
       "      <td>notpresent</td>\n",
       "      <td>106.0</td>\n",
       "      <td>26.0</td>\n",
       "      <td>1.4</td>\n",
       "      <td>NaN</td>\n",
       "      <td>NaN</td>\n",
       "      <td>11.6</td>\n",
       "      <td>35</td>\n",
       "      <td>7300</td>\n",
       "      <td>4.6</td>\n",
       "      <td>no</td>\n",
       "      <td>no</td>\n",
       "      <td>no</td>\n",
       "      <td>good</td>\n",
       "      <td>no</td>\n",
       "      <td>no</td>\n",
       "      <td>ckd</td>\n",
       "    </tr>\n",
       "  </tbody>\n",
       "</table>\n",
       "</div>"
      ],
      "text/plain": [
       "   id   age    bp     sg   al   su     rbc        pc         pcc          ba  \\\n",
       "0   0  48.0  80.0  1.020  1.0  0.0     NaN    normal  notpresent  notpresent   \n",
       "1   1   7.0  50.0  1.020  4.0  0.0     NaN    normal  notpresent  notpresent   \n",
       "2   2  62.0  80.0  1.010  2.0  3.0  normal    normal  notpresent  notpresent   \n",
       "3   3  48.0  70.0  1.005  4.0  0.0  normal  abnormal     present  notpresent   \n",
       "4   4  51.0  80.0  1.010  2.0  0.0  normal    normal  notpresent  notpresent   \n",
       "\n",
       "     bgr    bu   sc    sod  pot  hemo pcv    wc   rc  htn   dm cad appet   pe  \\\n",
       "0  121.0  36.0  1.2    NaN  NaN  15.4  44  7800  5.2  yes  yes  no  good   no   \n",
       "1    NaN  18.0  0.8    NaN  NaN  11.3  38  6000  NaN   no   no  no  good   no   \n",
       "2  423.0  53.0  1.8    NaN  NaN   9.6  31  7500  NaN   no  yes  no  poor   no   \n",
       "3  117.0  56.0  3.8  111.0  2.5  11.2  32  6700  3.9  yes   no  no  poor  yes   \n",
       "4  106.0  26.0  1.4    NaN  NaN  11.6  35  7300  4.6   no   no  no  good   no   \n",
       "\n",
       "   ane classification  \n",
       "0   no            ckd  \n",
       "1   no            ckd  \n",
       "2  yes            ckd  \n",
       "3  yes            ckd  \n",
       "4   no            ckd  "
      ]
     },
     "execution_count": 98,
     "metadata": {},
     "output_type": "execute_result"
    }
   ],
   "source": [
    "# loading data\n",
    "\n",
    "df= pd.read_csv('D:/CapStone Project/Dumb/Models/Kidney Dataset/kidney_disease.csv')\n",
    "df.head()"
   ]
  },
  {
   "cell_type": "code",
   "execution_count": 99,
   "id": "c7a54143",
   "metadata": {
    "execution": {
     "iopub.execute_input": "2021-08-03T10:26:48.760118Z",
     "iopub.status.busy": "2021-08-03T10:26:48.759492Z",
     "iopub.status.idle": "2021-08-03T10:26:48.761862Z",
     "shell.execute_reply": "2021-08-03T10:26:48.762418Z",
     "shell.execute_reply.started": "2021-08-03T10:09:01.415115Z"
    },
    "papermill": {
     "duration": 0.078791,
     "end_time": "2021-08-03T10:26:48.762575",
     "exception": false,
     "start_time": "2021-08-03T10:26:48.683784",
     "status": "completed"
    },
    "tags": []
   },
   "outputs": [
    {
     "data": {
      "text/plain": [
       "(400, 26)"
      ]
     },
     "execution_count": 99,
     "metadata": {},
     "output_type": "execute_result"
    }
   ],
   "source": [
    "df.shape"
   ]
  },
  {
   "cell_type": "code",
   "execution_count": 100,
   "id": "a2142b9e",
   "metadata": {
    "execution": {
     "iopub.execute_input": "2021-08-03T10:26:48.908090Z",
     "iopub.status.busy": "2021-08-03T10:26:48.907440Z",
     "iopub.status.idle": "2021-08-03T10:26:48.915300Z",
     "shell.execute_reply": "2021-08-03T10:26:48.914746Z",
     "shell.execute_reply.started": "2021-08-03T10:09:01.421922Z"
    },
    "papermill": {
     "duration": 0.081484,
     "end_time": "2021-08-03T10:26:48.915444",
     "exception": false,
     "start_time": "2021-08-03T10:26:48.833960",
     "status": "completed"
    },
    "tags": []
   },
   "outputs": [],
   "source": [
    "# dropping id column\n",
    "df.drop('id', axis = 1, inplace = True)"
   ]
  },
  {
   "cell_type": "code",
   "execution_count": 101,
   "id": "07a84f5d",
   "metadata": {
    "execution": {
     "iopub.execute_input": "2021-08-03T10:26:49.066447Z",
     "iopub.status.busy": "2021-08-03T10:26:49.065652Z",
     "iopub.status.idle": "2021-08-03T10:26:49.068464Z",
     "shell.execute_reply": "2021-08-03T10:26:49.067989Z",
     "shell.execute_reply.started": "2021-08-03T10:09:01.432801Z"
    },
    "papermill": {
     "duration": 0.081719,
     "end_time": "2021-08-03T10:26:49.068594",
     "exception": false,
     "start_time": "2021-08-03T10:26:48.986875",
     "status": "completed"
    },
    "tags": []
   },
   "outputs": [],
   "source": [
    "# rename column names to make it more user-friendly\n",
    "\n",
    "df.columns = ['age', 'blood_pressure', 'specific_gravity', 'albumin', 'sugar', 'red_blood_cells', 'pus_cell',\n",
    "              'pus_cell_clumps', 'bacteria', 'blood_glucose_random', 'blood_urea', 'serum_creatinine', 'sodium',\n",
    "              'potassium', 'haemoglobin', 'packed_cell_volume', 'white_blood_cell_count', 'red_blood_cell_count',\n",
    "              'hypertension', 'diabetes_mellitus', 'coronary_artery_disease', 'appetite', 'peda_edema',\n",
    "              'aanemia', 'class']"
   ]
  },
  {
   "cell_type": "code",
   "execution_count": 102,
   "id": "68d8ee8b",
   "metadata": {
    "execution": {
     "iopub.execute_input": "2021-08-03T10:26:49.213981Z",
     "iopub.status.busy": "2021-08-03T10:26:49.213021Z",
     "iopub.status.idle": "2021-08-03T10:26:49.245737Z",
     "shell.execute_reply": "2021-08-03T10:26:49.245204Z",
     "shell.execute_reply.started": "2021-08-03T10:09:01.443762Z"
    },
    "papermill": {
     "duration": 0.10622,
     "end_time": "2021-08-03T10:26:49.245870",
     "exception": false,
     "start_time": "2021-08-03T10:26:49.139650",
     "status": "completed"
    },
    "tags": []
   },
   "outputs": [
    {
     "data": {
      "text/html": [
       "<div>\n",
       "<style scoped>\n",
       "    .dataframe tbody tr th:only-of-type {\n",
       "        vertical-align: middle;\n",
       "    }\n",
       "\n",
       "    .dataframe tbody tr th {\n",
       "        vertical-align: top;\n",
       "    }\n",
       "\n",
       "    .dataframe thead th {\n",
       "        text-align: right;\n",
       "    }\n",
       "</style>\n",
       "<table border=\"1\" class=\"dataframe\">\n",
       "  <thead>\n",
       "    <tr style=\"text-align: right;\">\n",
       "      <th></th>\n",
       "      <th>age</th>\n",
       "      <th>blood_pressure</th>\n",
       "      <th>specific_gravity</th>\n",
       "      <th>albumin</th>\n",
       "      <th>sugar</th>\n",
       "      <th>red_blood_cells</th>\n",
       "      <th>pus_cell</th>\n",
       "      <th>pus_cell_clumps</th>\n",
       "      <th>bacteria</th>\n",
       "      <th>blood_glucose_random</th>\n",
       "      <th>blood_urea</th>\n",
       "      <th>serum_creatinine</th>\n",
       "      <th>sodium</th>\n",
       "      <th>potassium</th>\n",
       "      <th>haemoglobin</th>\n",
       "      <th>packed_cell_volume</th>\n",
       "      <th>white_blood_cell_count</th>\n",
       "      <th>red_blood_cell_count</th>\n",
       "      <th>hypertension</th>\n",
       "      <th>diabetes_mellitus</th>\n",
       "      <th>coronary_artery_disease</th>\n",
       "      <th>appetite</th>\n",
       "      <th>peda_edema</th>\n",
       "      <th>aanemia</th>\n",
       "      <th>class</th>\n",
       "    </tr>\n",
       "  </thead>\n",
       "  <tbody>\n",
       "    <tr>\n",
       "      <th>0</th>\n",
       "      <td>48.0</td>\n",
       "      <td>80.0</td>\n",
       "      <td>1.020</td>\n",
       "      <td>1.0</td>\n",
       "      <td>0.0</td>\n",
       "      <td>NaN</td>\n",
       "      <td>normal</td>\n",
       "      <td>notpresent</td>\n",
       "      <td>notpresent</td>\n",
       "      <td>121.0</td>\n",
       "      <td>36.0</td>\n",
       "      <td>1.2</td>\n",
       "      <td>NaN</td>\n",
       "      <td>NaN</td>\n",
       "      <td>15.4</td>\n",
       "      <td>44</td>\n",
       "      <td>7800</td>\n",
       "      <td>5.2</td>\n",
       "      <td>yes</td>\n",
       "      <td>yes</td>\n",
       "      <td>no</td>\n",
       "      <td>good</td>\n",
       "      <td>no</td>\n",
       "      <td>no</td>\n",
       "      <td>ckd</td>\n",
       "    </tr>\n",
       "    <tr>\n",
       "      <th>1</th>\n",
       "      <td>7.0</td>\n",
       "      <td>50.0</td>\n",
       "      <td>1.020</td>\n",
       "      <td>4.0</td>\n",
       "      <td>0.0</td>\n",
       "      <td>NaN</td>\n",
       "      <td>normal</td>\n",
       "      <td>notpresent</td>\n",
       "      <td>notpresent</td>\n",
       "      <td>NaN</td>\n",
       "      <td>18.0</td>\n",
       "      <td>0.8</td>\n",
       "      <td>NaN</td>\n",
       "      <td>NaN</td>\n",
       "      <td>11.3</td>\n",
       "      <td>38</td>\n",
       "      <td>6000</td>\n",
       "      <td>NaN</td>\n",
       "      <td>no</td>\n",
       "      <td>no</td>\n",
       "      <td>no</td>\n",
       "      <td>good</td>\n",
       "      <td>no</td>\n",
       "      <td>no</td>\n",
       "      <td>ckd</td>\n",
       "    </tr>\n",
       "    <tr>\n",
       "      <th>2</th>\n",
       "      <td>62.0</td>\n",
       "      <td>80.0</td>\n",
       "      <td>1.010</td>\n",
       "      <td>2.0</td>\n",
       "      <td>3.0</td>\n",
       "      <td>normal</td>\n",
       "      <td>normal</td>\n",
       "      <td>notpresent</td>\n",
       "      <td>notpresent</td>\n",
       "      <td>423.0</td>\n",
       "      <td>53.0</td>\n",
       "      <td>1.8</td>\n",
       "      <td>NaN</td>\n",
       "      <td>NaN</td>\n",
       "      <td>9.6</td>\n",
       "      <td>31</td>\n",
       "      <td>7500</td>\n",
       "      <td>NaN</td>\n",
       "      <td>no</td>\n",
       "      <td>yes</td>\n",
       "      <td>no</td>\n",
       "      <td>poor</td>\n",
       "      <td>no</td>\n",
       "      <td>yes</td>\n",
       "      <td>ckd</td>\n",
       "    </tr>\n",
       "    <tr>\n",
       "      <th>3</th>\n",
       "      <td>48.0</td>\n",
       "      <td>70.0</td>\n",
       "      <td>1.005</td>\n",
       "      <td>4.0</td>\n",
       "      <td>0.0</td>\n",
       "      <td>normal</td>\n",
       "      <td>abnormal</td>\n",
       "      <td>present</td>\n",
       "      <td>notpresent</td>\n",
       "      <td>117.0</td>\n",
       "      <td>56.0</td>\n",
       "      <td>3.8</td>\n",
       "      <td>111.0</td>\n",
       "      <td>2.5</td>\n",
       "      <td>11.2</td>\n",
       "      <td>32</td>\n",
       "      <td>6700</td>\n",
       "      <td>3.9</td>\n",
       "      <td>yes</td>\n",
       "      <td>no</td>\n",
       "      <td>no</td>\n",
       "      <td>poor</td>\n",
       "      <td>yes</td>\n",
       "      <td>yes</td>\n",
       "      <td>ckd</td>\n",
       "    </tr>\n",
       "    <tr>\n",
       "      <th>4</th>\n",
       "      <td>51.0</td>\n",
       "      <td>80.0</td>\n",
       "      <td>1.010</td>\n",
       "      <td>2.0</td>\n",
       "      <td>0.0</td>\n",
       "      <td>normal</td>\n",
       "      <td>normal</td>\n",
       "      <td>notpresent</td>\n",
       "      <td>notpresent</td>\n",
       "      <td>106.0</td>\n",
       "      <td>26.0</td>\n",
       "      <td>1.4</td>\n",
       "      <td>NaN</td>\n",
       "      <td>NaN</td>\n",
       "      <td>11.6</td>\n",
       "      <td>35</td>\n",
       "      <td>7300</td>\n",
       "      <td>4.6</td>\n",
       "      <td>no</td>\n",
       "      <td>no</td>\n",
       "      <td>no</td>\n",
       "      <td>good</td>\n",
       "      <td>no</td>\n",
       "      <td>no</td>\n",
       "      <td>ckd</td>\n",
       "    </tr>\n",
       "  </tbody>\n",
       "</table>\n",
       "</div>"
      ],
      "text/plain": [
       "    age  blood_pressure  specific_gravity  albumin  sugar red_blood_cells  \\\n",
       "0  48.0            80.0             1.020      1.0    0.0             NaN   \n",
       "1   7.0            50.0             1.020      4.0    0.0             NaN   \n",
       "2  62.0            80.0             1.010      2.0    3.0          normal   \n",
       "3  48.0            70.0             1.005      4.0    0.0          normal   \n",
       "4  51.0            80.0             1.010      2.0    0.0          normal   \n",
       "\n",
       "   pus_cell pus_cell_clumps    bacteria  blood_glucose_random  blood_urea  \\\n",
       "0    normal      notpresent  notpresent                 121.0        36.0   \n",
       "1    normal      notpresent  notpresent                   NaN        18.0   \n",
       "2    normal      notpresent  notpresent                 423.0        53.0   \n",
       "3  abnormal         present  notpresent                 117.0        56.0   \n",
       "4    normal      notpresent  notpresent                 106.0        26.0   \n",
       "\n",
       "   serum_creatinine  sodium  potassium  haemoglobin packed_cell_volume  \\\n",
       "0               1.2     NaN        NaN         15.4                 44   \n",
       "1               0.8     NaN        NaN         11.3                 38   \n",
       "2               1.8     NaN        NaN          9.6                 31   \n",
       "3               3.8   111.0        2.5         11.2                 32   \n",
       "4               1.4     NaN        NaN         11.6                 35   \n",
       "\n",
       "  white_blood_cell_count red_blood_cell_count hypertension diabetes_mellitus  \\\n",
       "0                   7800                  5.2          yes               yes   \n",
       "1                   6000                  NaN           no                no   \n",
       "2                   7500                  NaN           no               yes   \n",
       "3                   6700                  3.9          yes                no   \n",
       "4                   7300                  4.6           no                no   \n",
       "\n",
       "  coronary_artery_disease appetite peda_edema aanemia class  \n",
       "0                      no     good         no      no   ckd  \n",
       "1                      no     good         no      no   ckd  \n",
       "2                      no     poor         no     yes   ckd  \n",
       "3                      no     poor        yes     yes   ckd  \n",
       "4                      no     good         no      no   ckd  "
      ]
     },
     "execution_count": 102,
     "metadata": {},
     "output_type": "execute_result"
    }
   ],
   "source": [
    "df.head()"
   ]
  },
  {
   "cell_type": "code",
   "execution_count": 103,
   "id": "82fca848",
   "metadata": {
    "execution": {
     "iopub.execute_input": "2021-08-03T10:26:49.396456Z",
     "iopub.status.busy": "2021-08-03T10:26:49.395812Z",
     "iopub.status.idle": "2021-08-03T10:26:49.434980Z",
     "shell.execute_reply": "2021-08-03T10:26:49.435459Z",
     "shell.execute_reply.started": "2021-08-03T10:09:01.481253Z"
    },
    "papermill": {
     "duration": 0.118516,
     "end_time": "2021-08-03T10:26:49.435620",
     "exception": false,
     "start_time": "2021-08-03T10:26:49.317104",
     "status": "completed"
    },
    "tags": []
   },
   "outputs": [
    {
     "data": {
      "text/html": [
       "<div>\n",
       "<style scoped>\n",
       "    .dataframe tbody tr th:only-of-type {\n",
       "        vertical-align: middle;\n",
       "    }\n",
       "\n",
       "    .dataframe tbody tr th {\n",
       "        vertical-align: top;\n",
       "    }\n",
       "\n",
       "    .dataframe thead th {\n",
       "        text-align: right;\n",
       "    }\n",
       "</style>\n",
       "<table border=\"1\" class=\"dataframe\">\n",
       "  <thead>\n",
       "    <tr style=\"text-align: right;\">\n",
       "      <th></th>\n",
       "      <th>age</th>\n",
       "      <th>blood_pressure</th>\n",
       "      <th>specific_gravity</th>\n",
       "      <th>albumin</th>\n",
       "      <th>sugar</th>\n",
       "      <th>blood_glucose_random</th>\n",
       "      <th>blood_urea</th>\n",
       "      <th>serum_creatinine</th>\n",
       "      <th>sodium</th>\n",
       "      <th>potassium</th>\n",
       "      <th>haemoglobin</th>\n",
       "    </tr>\n",
       "  </thead>\n",
       "  <tbody>\n",
       "    <tr>\n",
       "      <th>count</th>\n",
       "      <td>391.000000</td>\n",
       "      <td>388.000000</td>\n",
       "      <td>353.000000</td>\n",
       "      <td>354.000000</td>\n",
       "      <td>351.000000</td>\n",
       "      <td>356.000000</td>\n",
       "      <td>381.000000</td>\n",
       "      <td>383.000000</td>\n",
       "      <td>313.000000</td>\n",
       "      <td>312.000000</td>\n",
       "      <td>348.000000</td>\n",
       "    </tr>\n",
       "    <tr>\n",
       "      <th>mean</th>\n",
       "      <td>51.483376</td>\n",
       "      <td>76.469072</td>\n",
       "      <td>1.017408</td>\n",
       "      <td>1.016949</td>\n",
       "      <td>0.450142</td>\n",
       "      <td>148.036517</td>\n",
       "      <td>57.425722</td>\n",
       "      <td>3.072454</td>\n",
       "      <td>137.528754</td>\n",
       "      <td>4.627244</td>\n",
       "      <td>12.526437</td>\n",
       "    </tr>\n",
       "    <tr>\n",
       "      <th>std</th>\n",
       "      <td>17.169714</td>\n",
       "      <td>13.683637</td>\n",
       "      <td>0.005717</td>\n",
       "      <td>1.352679</td>\n",
       "      <td>1.099191</td>\n",
       "      <td>79.281714</td>\n",
       "      <td>50.503006</td>\n",
       "      <td>5.741126</td>\n",
       "      <td>10.408752</td>\n",
       "      <td>3.193904</td>\n",
       "      <td>2.912587</td>\n",
       "    </tr>\n",
       "    <tr>\n",
       "      <th>min</th>\n",
       "      <td>2.000000</td>\n",
       "      <td>50.000000</td>\n",
       "      <td>1.005000</td>\n",
       "      <td>0.000000</td>\n",
       "      <td>0.000000</td>\n",
       "      <td>22.000000</td>\n",
       "      <td>1.500000</td>\n",
       "      <td>0.400000</td>\n",
       "      <td>4.500000</td>\n",
       "      <td>2.500000</td>\n",
       "      <td>3.100000</td>\n",
       "    </tr>\n",
       "    <tr>\n",
       "      <th>25%</th>\n",
       "      <td>42.000000</td>\n",
       "      <td>70.000000</td>\n",
       "      <td>1.010000</td>\n",
       "      <td>0.000000</td>\n",
       "      <td>0.000000</td>\n",
       "      <td>99.000000</td>\n",
       "      <td>27.000000</td>\n",
       "      <td>0.900000</td>\n",
       "      <td>135.000000</td>\n",
       "      <td>3.800000</td>\n",
       "      <td>10.300000</td>\n",
       "    </tr>\n",
       "    <tr>\n",
       "      <th>50%</th>\n",
       "      <td>55.000000</td>\n",
       "      <td>80.000000</td>\n",
       "      <td>1.020000</td>\n",
       "      <td>0.000000</td>\n",
       "      <td>0.000000</td>\n",
       "      <td>121.000000</td>\n",
       "      <td>42.000000</td>\n",
       "      <td>1.300000</td>\n",
       "      <td>138.000000</td>\n",
       "      <td>4.400000</td>\n",
       "      <td>12.650000</td>\n",
       "    </tr>\n",
       "    <tr>\n",
       "      <th>75%</th>\n",
       "      <td>64.500000</td>\n",
       "      <td>80.000000</td>\n",
       "      <td>1.020000</td>\n",
       "      <td>2.000000</td>\n",
       "      <td>0.000000</td>\n",
       "      <td>163.000000</td>\n",
       "      <td>66.000000</td>\n",
       "      <td>2.800000</td>\n",
       "      <td>142.000000</td>\n",
       "      <td>4.900000</td>\n",
       "      <td>15.000000</td>\n",
       "    </tr>\n",
       "    <tr>\n",
       "      <th>max</th>\n",
       "      <td>90.000000</td>\n",
       "      <td>180.000000</td>\n",
       "      <td>1.025000</td>\n",
       "      <td>5.000000</td>\n",
       "      <td>5.000000</td>\n",
       "      <td>490.000000</td>\n",
       "      <td>391.000000</td>\n",
       "      <td>76.000000</td>\n",
       "      <td>163.000000</td>\n",
       "      <td>47.000000</td>\n",
       "      <td>17.800000</td>\n",
       "    </tr>\n",
       "  </tbody>\n",
       "</table>\n",
       "</div>"
      ],
      "text/plain": [
       "              age  blood_pressure  specific_gravity     albumin       sugar  \\\n",
       "count  391.000000      388.000000        353.000000  354.000000  351.000000   \n",
       "mean    51.483376       76.469072          1.017408    1.016949    0.450142   \n",
       "std     17.169714       13.683637          0.005717    1.352679    1.099191   \n",
       "min      2.000000       50.000000          1.005000    0.000000    0.000000   \n",
       "25%     42.000000       70.000000          1.010000    0.000000    0.000000   \n",
       "50%     55.000000       80.000000          1.020000    0.000000    0.000000   \n",
       "75%     64.500000       80.000000          1.020000    2.000000    0.000000   \n",
       "max     90.000000      180.000000          1.025000    5.000000    5.000000   \n",
       "\n",
       "       blood_glucose_random  blood_urea  serum_creatinine      sodium  \\\n",
       "count            356.000000  381.000000        383.000000  313.000000   \n",
       "mean             148.036517   57.425722          3.072454  137.528754   \n",
       "std               79.281714   50.503006          5.741126   10.408752   \n",
       "min               22.000000    1.500000          0.400000    4.500000   \n",
       "25%               99.000000   27.000000          0.900000  135.000000   \n",
       "50%              121.000000   42.000000          1.300000  138.000000   \n",
       "75%              163.000000   66.000000          2.800000  142.000000   \n",
       "max              490.000000  391.000000         76.000000  163.000000   \n",
       "\n",
       "        potassium  haemoglobin  \n",
       "count  312.000000   348.000000  \n",
       "mean     4.627244    12.526437  \n",
       "std      3.193904     2.912587  \n",
       "min      2.500000     3.100000  \n",
       "25%      3.800000    10.300000  \n",
       "50%      4.400000    12.650000  \n",
       "75%      4.900000    15.000000  \n",
       "max     47.000000    17.800000  "
      ]
     },
     "execution_count": 103,
     "metadata": {},
     "output_type": "execute_result"
    }
   ],
   "source": [
    "df.describe()"
   ]
  },
  {
   "cell_type": "code",
   "execution_count": 104,
   "id": "76413f53",
   "metadata": {
    "execution": {
     "iopub.execute_input": "2021-08-03T10:26:49.599962Z",
     "iopub.status.busy": "2021-08-03T10:26:49.599215Z",
     "iopub.status.idle": "2021-08-03T10:26:49.603413Z",
     "shell.execute_reply": "2021-08-03T10:26:49.602793Z",
     "shell.execute_reply.started": "2021-08-03T10:09:01.531546Z"
    },
    "papermill": {
     "duration": 0.094965,
     "end_time": "2021-08-03T10:26:49.603561",
     "exception": false,
     "start_time": "2021-08-03T10:26:49.508596",
     "status": "completed"
    },
    "tags": []
   },
   "outputs": [
    {
     "name": "stdout",
     "output_type": "stream",
     "text": [
      "<class 'pandas.core.frame.DataFrame'>\n",
      "RangeIndex: 400 entries, 0 to 399\n",
      "Data columns (total 25 columns):\n",
      " #   Column                   Non-Null Count  Dtype  \n",
      "---  ------                   --------------  -----  \n",
      " 0   age                      391 non-null    float64\n",
      " 1   blood_pressure           388 non-null    float64\n",
      " 2   specific_gravity         353 non-null    float64\n",
      " 3   albumin                  354 non-null    float64\n",
      " 4   sugar                    351 non-null    float64\n",
      " 5   red_blood_cells          248 non-null    object \n",
      " 6   pus_cell                 335 non-null    object \n",
      " 7   pus_cell_clumps          396 non-null    object \n",
      " 8   bacteria                 396 non-null    object \n",
      " 9   blood_glucose_random     356 non-null    float64\n",
      " 10  blood_urea               381 non-null    float64\n",
      " 11  serum_creatinine         383 non-null    float64\n",
      " 12  sodium                   313 non-null    float64\n",
      " 13  potassium                312 non-null    float64\n",
      " 14  haemoglobin              348 non-null    float64\n",
      " 15  packed_cell_volume       330 non-null    object \n",
      " 16  white_blood_cell_count   295 non-null    object \n",
      " 17  red_blood_cell_count     270 non-null    object \n",
      " 18  hypertension             398 non-null    object \n",
      " 19  diabetes_mellitus        398 non-null    object \n",
      " 20  coronary_artery_disease  398 non-null    object \n",
      " 21  appetite                 399 non-null    object \n",
      " 22  peda_edema               399 non-null    object \n",
      " 23  aanemia                  399 non-null    object \n",
      " 24  class                    400 non-null    object \n",
      "dtypes: float64(11), object(14)\n",
      "memory usage: 78.2+ KB\n"
     ]
    }
   ],
   "source": [
    "df.info()"
   ]
  },
  {
   "attachments": {},
   "cell_type": "markdown",
   "id": "369d68b7",
   "metadata": {
    "papermill": {
     "duration": 0.072233,
     "end_time": "2021-08-03T10:26:49.748407",
     "exception": false,
     "start_time": "2021-08-03T10:26:49.676174",
     "status": "completed"
    },
    "tags": []
   },
   "source": [
    "<p><strong>As we can see that 'packed_cell_volume', 'white_blood_cell_count' and 'red_blood_cell_count'  are object type. We need to change them to numerical dtype.</strong></p> "
   ]
  },
  {
   "attachments": {},
   "cell_type": "markdown",
   "id": "730b3a6a",
   "metadata": {},
   "source": []
  },
  {
   "cell_type": "code",
   "execution_count": 105,
   "id": "8f28e32f",
   "metadata": {
    "execution": {
     "iopub.execute_input": "2021-08-03T10:26:49.902331Z",
     "iopub.status.busy": "2021-08-03T10:26:49.901626Z",
     "iopub.status.idle": "2021-08-03T10:26:49.904380Z",
     "shell.execute_reply": "2021-08-03T10:26:49.903919Z",
     "shell.execute_reply.started": "2021-08-03T10:09:01.549774Z"
    },
    "papermill": {
     "duration": 0.083074,
     "end_time": "2021-08-03T10:26:49.904522",
     "exception": false,
     "start_time": "2021-08-03T10:26:49.821448",
     "status": "completed"
    },
    "tags": []
   },
   "outputs": [],
   "source": [
    "# converting necessary columns to numerical type\n",
    "\n",
    "df['packed_cell_volume'] = pd.to_numeric(df['packed_cell_volume'], errors='coerce')\n",
    "df['white_blood_cell_count'] = pd.to_numeric(df['white_blood_cell_count'], errors='coerce')\n",
    "df['red_blood_cell_count'] = pd.to_numeric(df['red_blood_cell_count'], errors='coerce')"
   ]
  },
  {
   "cell_type": "code",
   "execution_count": 106,
   "id": "c419242f",
   "metadata": {
    "execution": {
     "iopub.execute_input": "2021-08-03T10:26:50.223748Z",
     "iopub.status.busy": "2021-08-03T10:26:50.223063Z",
     "iopub.status.idle": "2021-08-03T10:26:50.225817Z",
     "shell.execute_reply": "2021-08-03T10:26:50.225321Z",
     "shell.execute_reply.started": "2021-08-03T10:09:01.582692Z"
    },
    "papermill": {
     "duration": 0.081228,
     "end_time": "2021-08-03T10:26:50.225955",
     "exception": false,
     "start_time": "2021-08-03T10:26:50.144727",
     "status": "completed"
    },
    "tags": []
   },
   "outputs": [],
   "source": [
    "# Extracting categorical and numerical columns\n",
    "\n",
    "cat_cols = [col for col in df.columns if df[col].dtype == 'object']\n",
    "num_cols = [col for col in df.columns if df[col].dtype != 'object']"
   ]
  },
  {
   "cell_type": "code",
   "execution_count": 107,
   "id": "f754b17f",
   "metadata": {
    "execution": {
     "iopub.execute_input": "2021-08-03T10:26:50.379409Z",
     "iopub.status.busy": "2021-08-03T10:26:50.378737Z",
     "iopub.status.idle": "2021-08-03T10:26:50.382790Z",
     "shell.execute_reply": "2021-08-03T10:26:50.382136Z",
     "shell.execute_reply.started": "2021-08-03T10:09:01.591181Z"
    },
    "papermill": {
     "duration": 0.083961,
     "end_time": "2021-08-03T10:26:50.382941",
     "exception": false,
     "start_time": "2021-08-03T10:26:50.298980",
     "status": "completed"
    },
    "tags": []
   },
   "outputs": [
    {
     "name": "stdout",
     "output_type": "stream",
     "text": [
      "red_blood_cells has [nan 'normal' 'abnormal'] values\n",
      "\n",
      "pus_cell has ['normal' 'abnormal' nan] values\n",
      "\n",
      "pus_cell_clumps has ['notpresent' 'present' nan] values\n",
      "\n",
      "bacteria has ['notpresent' 'present' nan] values\n",
      "\n",
      "hypertension has ['yes' 'no' nan] values\n",
      "\n",
      "diabetes_mellitus has ['yes' 'no' ' yes' '\\tno' '\\tyes' nan] values\n",
      "\n",
      "coronary_artery_disease has ['no' 'yes' '\\tno' nan] values\n",
      "\n",
      "appetite has ['good' 'poor' nan] values\n",
      "\n",
      "peda_edema has ['no' 'yes' nan] values\n",
      "\n",
      "aanemia has ['no' 'yes' nan] values\n",
      "\n",
      "class has ['ckd' 'ckd\\t' 'notckd'] values\n",
      "\n"
     ]
    }
   ],
   "source": [
    "# looking at unique values in categorical columns\n",
    "\n",
    "for col in cat_cols:\n",
    "    print(f\"{col} has {df[col].unique()} values\\n\")"
   ]
  },
  {
   "attachments": {},
   "cell_type": "markdown",
   "id": "74a090a0",
   "metadata": {
    "papermill": {
     "duration": 0.073034,
     "end_time": "2021-08-03T10:26:50.529711",
     "exception": false,
     "start_time": "2021-08-03T10:26:50.456677",
     "status": "completed"
    },
    "tags": []
   },
   "source": [
    "<p style = \"font-size : 20px; color : #34656d ; font-family : 'Comic Sans MS'; \"><strong>There is some ambugity present in the columns we have to remove that.</strong></p> "
   ]
  },
  {
   "cell_type": "code",
   "execution_count": 108,
   "id": "9685ff4a",
   "metadata": {
    "execution": {
     "iopub.execute_input": "2021-08-03T10:26:50.687621Z",
     "iopub.status.busy": "2021-08-03T10:26:50.686998Z",
     "iopub.status.idle": "2021-08-03T10:26:50.689742Z",
     "shell.execute_reply": "2021-08-03T10:26:50.689232Z",
     "shell.execute_reply.started": "2021-08-03T10:09:01.602242Z"
    },
    "papermill": {
     "duration": 0.084758,
     "end_time": "2021-08-03T10:26:50.689885",
     "exception": false,
     "start_time": "2021-08-03T10:26:50.605127",
     "status": "completed"
    },
    "tags": []
   },
   "outputs": [],
   "source": [
    "# replace incorrect values\n",
    "\n",
    "df['diabetes_mellitus'].replace(to_replace = {'\\tno':'no','\\tyes':'yes',' yes':'yes'},inplace=True)\n",
    "\n",
    "df['coronary_artery_disease'] = df['coronary_artery_disease'].replace(to_replace = '\\tno', value='no')\n",
    "\n",
    "df['class'] = df['class'].replace(to_replace = {'ckd\\t': 'ckd', 'notckd': 'not ckd'})"
   ]
  },
  {
   "cell_type": "code",
   "execution_count": 109,
   "id": "223ae9c3",
   "metadata": {
    "execution": {
     "iopub.execute_input": "2021-08-03T10:26:50.845512Z",
     "iopub.status.busy": "2021-08-03T10:26:50.844875Z",
     "iopub.status.idle": "2021-08-03T10:26:50.849393Z",
     "shell.execute_reply": "2021-08-03T10:26:50.848885Z",
     "shell.execute_reply.started": "2021-08-03T10:09:01.615709Z"
    },
    "papermill": {
     "duration": 0.085716,
     "end_time": "2021-08-03T10:26:50.849530",
     "exception": false,
     "start_time": "2021-08-03T10:26:50.763814",
     "status": "completed"
    },
    "tags": []
   },
   "outputs": [],
   "source": [
    "df['class'] = df['class'].map({'ckd': 0, 'not ckd': 1})\n",
    "df['class'] = pd.to_numeric(df['class'], errors='coerce')"
   ]
  },
  {
   "cell_type": "code",
   "execution_count": 110,
   "id": "16e7f4b5",
   "metadata": {
    "execution": {
     "iopub.execute_input": "2021-08-03T10:26:51.005315Z",
     "iopub.status.busy": "2021-08-03T10:26:51.004637Z",
     "iopub.status.idle": "2021-08-03T10:26:51.008157Z",
     "shell.execute_reply": "2021-08-03T10:26:51.008598Z",
     "shell.execute_reply.started": "2021-08-03T10:09:01.630452Z"
    },
    "papermill": {
     "duration": 0.084823,
     "end_time": "2021-08-03T10:26:51.008781",
     "exception": false,
     "start_time": "2021-08-03T10:26:50.923958",
     "status": "completed"
    },
    "tags": []
   },
   "outputs": [
    {
     "name": "stdout",
     "output_type": "stream",
     "text": [
      "diabetes_mellitus has ['yes' 'no' nan] values\n",
      "\n",
      "coronary_artery_disease has ['no' 'yes' nan] values\n",
      "\n",
      "class has [0 1] values\n",
      "\n"
     ]
    }
   ],
   "source": [
    "cols = ['diabetes_mellitus', 'coronary_artery_disease', 'class']\n",
    "\n",
    "for col in cols:\n",
    "    print(f\"{col} has {df[col].unique()} values\\n\")"
   ]
  },
  {
   "attachments": {},
   "cell_type": "markdown",
   "id": "6b09bcfe",
   "metadata": {
    "papermill": {
     "duration": 0.08436,
     "end_time": "2021-08-03T10:26:54.859924",
     "exception": false,
     "start_time": "2021-08-03T10:26:54.775564",
     "status": "completed"
    },
    "tags": []
   },
   "source": [
    "<p style = \"font-size : 20px; color : #34656d ; font-family : 'Comic Sans MS'; \"><strong>Skewness is present in some of the columns.</strong></p> "
   ]
  },
  {
   "cell_type": "code",
   "execution_count": 111,
   "id": "60a279ff",
   "metadata": {
    "execution": {
     "iopub.execute_input": "2021-08-03T10:27:11.074541Z",
     "iopub.status.busy": "2021-08-03T10:27:11.073494Z",
     "iopub.status.idle": "2021-08-03T10:27:11.079799Z",
     "shell.execute_reply": "2021-08-03T10:27:11.080308Z",
     "shell.execute_reply.started": "2021-08-03T10:09:12.329206Z"
    },
    "papermill": {
     "duration": 0.121529,
     "end_time": "2021-08-03T10:27:11.080479",
     "exception": false,
     "start_time": "2021-08-03T10:27:10.958950",
     "status": "completed"
    },
    "tags": []
   },
   "outputs": [],
   "source": [
    "# filling null values, we will use two methods, random sampling for higher null values and \n",
    "# mean/mode sampling for lower null values\n",
    "\n",
    "def random_value_imputation(feature):\n",
    "    random_sample = df[feature].dropna().sample(df[feature].isna().sum())\n",
    "    random_sample.index = df[df[feature].isnull()].index\n",
    "    df.loc[df[feature].isnull(), feature] = random_sample\n",
    "    \n",
    "def impute_mode(feature):\n",
    "    mode = df[feature].mode()[0]\n",
    "    df[feature] = df[feature].fillna(mode)"
   ]
  },
  {
   "cell_type": "code",
   "execution_count": 112,
   "id": "8977f691",
   "metadata": {
    "execution": {
     "iopub.execute_input": "2021-08-03T10:27:11.323099Z",
     "iopub.status.busy": "2021-08-03T10:27:11.322433Z",
     "iopub.status.idle": "2021-08-03T10:27:11.340434Z",
     "shell.execute_reply": "2021-08-03T10:27:11.341020Z",
     "shell.execute_reply.started": "2021-08-03T10:09:12.339320Z"
    },
    "papermill": {
     "duration": 0.14567,
     "end_time": "2021-08-03T10:27:11.341199",
     "exception": false,
     "start_time": "2021-08-03T10:27:11.195529",
     "status": "completed"
    },
    "tags": []
   },
   "outputs": [],
   "source": [
    "# filling num_cols null values using random sampling method\n",
    "\n",
    "for col in num_cols:\n",
    "    random_value_imputation(col)"
   ]
  },
  {
   "cell_type": "code",
   "execution_count": 113,
   "id": "6494929f",
   "metadata": {
    "execution": {
     "iopub.execute_input": "2021-08-03T10:27:11.580008Z",
     "iopub.status.busy": "2021-08-03T10:27:11.579143Z",
     "iopub.status.idle": "2021-08-03T10:27:11.582616Z",
     "shell.execute_reply": "2021-08-03T10:27:11.583124Z",
     "shell.execute_reply.started": "2021-08-03T10:09:12.375800Z"
    },
    "papermill": {
     "duration": 0.128198,
     "end_time": "2021-08-03T10:27:11.583291",
     "exception": false,
     "start_time": "2021-08-03T10:27:11.455093",
     "status": "completed"
    },
    "tags": []
   },
   "outputs": [
    {
     "data": {
      "text/plain": [
       "age                       0\n",
       "blood_pressure            0\n",
       "specific_gravity          0\n",
       "albumin                   0\n",
       "sugar                     0\n",
       "blood_glucose_random      0\n",
       "blood_urea                0\n",
       "serum_creatinine          0\n",
       "sodium                    0\n",
       "potassium                 0\n",
       "haemoglobin               0\n",
       "packed_cell_volume        0\n",
       "white_blood_cell_count    0\n",
       "red_blood_cell_count      0\n",
       "dtype: int64"
      ]
     },
     "execution_count": 113,
     "metadata": {},
     "output_type": "execute_result"
    }
   ],
   "source": [
    "df[num_cols].isnull().sum()"
   ]
  },
  {
   "cell_type": "code",
   "execution_count": 114,
   "id": "075163c6",
   "metadata": {
    "execution": {
     "iopub.execute_input": "2021-08-03T10:27:11.816216Z",
     "iopub.status.busy": "2021-08-03T10:27:11.815527Z",
     "iopub.status.idle": "2021-08-03T10:27:11.831880Z",
     "shell.execute_reply": "2021-08-03T10:27:11.832364Z",
     "shell.execute_reply.started": "2021-08-03T10:09:12.386026Z"
    },
    "papermill": {
     "duration": 0.13398,
     "end_time": "2021-08-03T10:27:11.832599",
     "exception": false,
     "start_time": "2021-08-03T10:27:11.698619",
     "status": "completed"
    },
    "tags": []
   },
   "outputs": [],
   "source": [
    "# filling \"red_blood_cells\" and \"pus_cell\" using random sampling method and rest of cat_cols using mode imputation\n",
    "\n",
    "random_value_imputation('red_blood_cells')\n",
    "random_value_imputation('pus_cell')\n",
    "\n",
    "for col in cat_cols:\n",
    "    impute_mode(col)"
   ]
  },
  {
   "cell_type": "code",
   "execution_count": 115,
   "id": "5c8e2126",
   "metadata": {
    "execution": {
     "iopub.execute_input": "2021-08-03T10:27:13.244518Z",
     "iopub.status.busy": "2021-08-03T10:27:13.243804Z",
     "iopub.status.idle": "2021-08-03T10:27:13.371863Z",
     "shell.execute_reply": "2021-08-03T10:27:13.371208Z",
     "shell.execute_reply.started": "2021-08-03T10:09:12.445409Z"
    },
    "papermill": {
     "duration": 0.248224,
     "end_time": "2021-08-03T10:27:13.372008",
     "exception": false,
     "start_time": "2021-08-03T10:27:13.123784",
     "status": "completed"
    },
    "tags": []
   },
   "outputs": [],
   "source": [
    "from sklearn.preprocessing import LabelEncoder\n",
    "\n",
    "le = LabelEncoder()\n",
    "\n",
    "for col in cat_cols:\n",
    "    df[col] = le.fit_transform(df[col])"
   ]
  },
  {
   "attachments": {},
   "cell_type": "markdown",
   "id": "d478f5a7",
   "metadata": {
    "papermill": {
     "duration": 0.117214,
     "end_time": "2021-08-03T10:27:13.870718",
     "exception": false,
     "start_time": "2021-08-03T10:27:13.753504",
     "status": "completed"
    },
    "tags": []
   },
   "source": [
    "<a id = '5.0'></a>\n",
    "<p style = \"font-size : 45px; color : #34656d ; font-family : 'Comic Sans MS'; text-align : center; background-color : #f9b208; border-radius: 5px 5px;\"><strong>Model Building</strong></p> "
   ]
  },
  {
   "cell_type": "code",
   "execution_count": 116,
   "id": "8a66e3e6",
   "metadata": {
    "execution": {
     "iopub.execute_input": "2021-08-03T10:27:14.112298Z",
     "iopub.status.busy": "2021-08-03T10:27:14.111609Z",
     "iopub.status.idle": "2021-08-03T10:27:14.114579Z",
     "shell.execute_reply": "2021-08-03T10:27:14.114075Z",
     "shell.execute_reply.started": "2021-08-03T10:09:12.520560Z"
    },
    "papermill": {
     "duration": 0.127828,
     "end_time": "2021-08-03T10:27:14.114725",
     "exception": false,
     "start_time": "2021-08-03T10:27:13.986897",
     "status": "completed"
    },
    "tags": []
   },
   "outputs": [],
   "source": [
    "ind_col = [col for col in df.columns if col != 'class']\n",
    "dep_col = 'class'\n",
    "\n",
    "X = df[ind_col]\n",
    "y = df[dep_col]"
   ]
  },
  {
   "cell_type": "code",
   "execution_count": 117,
   "id": "5cdcd5f7",
   "metadata": {
    "execution": {
     "iopub.execute_input": "2021-08-03T10:27:14.353157Z",
     "iopub.status.busy": "2021-08-03T10:27:14.352134Z",
     "iopub.status.idle": "2021-08-03T10:27:14.404364Z",
     "shell.execute_reply": "2021-08-03T10:27:14.404937Z",
     "shell.execute_reply.started": "2021-08-03T10:09:12.529198Z"
    },
    "papermill": {
     "duration": 0.174408,
     "end_time": "2021-08-03T10:27:14.405112",
     "exception": false,
     "start_time": "2021-08-03T10:27:14.230704",
     "status": "completed"
    },
    "tags": []
   },
   "outputs": [],
   "source": [
    "# splitting data intp training and test set\n",
    "\n",
    "from sklearn.model_selection import train_test_split\n",
    "\n",
    "X_train, X_test, y_train, y_test = train_test_split(X, y, test_size = 0.30, random_state = 0)"
   ]
  },
  {
   "attachments": {},
   "cell_type": "markdown",
   "id": "19a8ca3f",
   "metadata": {
    "papermill": {
     "duration": 0.115477,
     "end_time": "2021-08-03T10:27:14.637105",
     "exception": false,
     "start_time": "2021-08-03T10:27:14.521628",
     "status": "completed"
    },
    "tags": []
   },
   "source": [
    "<a id = '5.1'></a>\n",
    "<p style = \"font-size : 25px; color : #34656d ; font-family : 'Comic Sans MS'; text-align : center; background-color : #fbc6a4; border-radius: 5px 5px;\"><strong>KNN</strong></p> "
   ]
  },
  {
   "cell_type": "code",
   "execution_count": 118,
   "id": "8cab3352",
   "metadata": {
    "execution": {
     "iopub.execute_input": "2021-08-03T10:27:14.879598Z",
     "iopub.status.busy": "2021-08-03T10:27:14.878929Z",
     "iopub.status.idle": "2021-08-03T10:27:15.070838Z",
     "shell.execute_reply": "2021-08-03T10:27:15.071566Z",
     "shell.execute_reply.started": "2021-08-03T10:09:12.554483Z"
    },
    "papermill": {
     "duration": 0.318107,
     "end_time": "2021-08-03T10:27:15.071807",
     "exception": false,
     "start_time": "2021-08-03T10:27:14.753700",
     "status": "completed"
    },
    "tags": []
   },
   "outputs": [
    {
     "name": "stdout",
     "output_type": "stream",
     "text": [
      "Training Accuracy of KNN is 0.7964285714285714\n",
      "Test Accuracy of KNN is 0.7083333333333334 \n",
      "\n",
      "Confusion Matrix :- \n",
      "[[58 14]\n",
      " [21 27]]\n",
      "\n",
      "Classification Report :- \n",
      "               precision    recall  f1-score   support\n",
      "\n",
      "           0       0.73      0.81      0.77        72\n",
      "           1       0.66      0.56      0.61        48\n",
      "\n",
      "    accuracy                           0.71       120\n",
      "   macro avg       0.70      0.68      0.69       120\n",
      "weighted avg       0.70      0.71      0.70       120\n",
      "\n"
     ]
    }
   ],
   "source": [
    "from sklearn.neighbors import KNeighborsClassifier\n",
    "from sklearn.metrics import accuracy_score, confusion_matrix, classification_report\n",
    "\n",
    "knn = KNeighborsClassifier()\n",
    "knn.fit(X_train, y_train)\n",
    "\n",
    "# accuracy score, confusion matrix and classification report of knn\n",
    "\n",
    "knn_acc = accuracy_score(y_test, knn.predict(X_test))\n",
    "\n",
    "print(f\"Training Accuracy of KNN is {accuracy_score(y_train, knn.predict(X_train))}\")\n",
    "print(f\"Test Accuracy of KNN is {knn_acc} \\n\")\n",
    "\n",
    "print(f\"Confusion Matrix :- \\n{confusion_matrix(y_test, knn.predict(X_test))}\\n\")\n",
    "print(f\"Classification Report :- \\n {classification_report(y_test, knn.predict(X_test))}\")"
   ]
  },
  {
   "attachments": {},
   "cell_type": "markdown",
   "id": "09deaf07",
   "metadata": {
    "papermill": {
     "duration": 0.116247,
     "end_time": "2021-08-03T10:27:15.306480",
     "exception": false,
     "start_time": "2021-08-03T10:27:15.190233",
     "status": "completed"
    },
    "tags": []
   },
   "source": [
    "<a id = '5.2'></a>\n",
    "<p style = \"font-size : 25px; color : #34656d ; font-family : 'Comic Sans MS'; text-align : center; background-color : #fbc6a4; border-radius: 5px 5px;\"><strong>Decision Tree Classifier</strong></p> "
   ]
  },
  {
   "cell_type": "code",
   "execution_count": 119,
   "id": "c4263757",
   "metadata": {
    "execution": {
     "iopub.execute_input": "2021-08-03T10:27:15.542018Z",
     "iopub.status.busy": "2021-08-03T10:27:15.541344Z",
     "iopub.status.idle": "2021-08-03T10:27:15.597594Z",
     "shell.execute_reply": "2021-08-03T10:27:15.596688Z",
     "shell.execute_reply.started": "2021-08-03T10:09:12.644336Z"
    },
    "papermill": {
     "duration": 0.175633,
     "end_time": "2021-08-03T10:27:15.597852",
     "exception": false,
     "start_time": "2021-08-03T10:27:15.422219",
     "status": "completed"
    },
    "tags": []
   },
   "outputs": [
    {
     "name": "stdout",
     "output_type": "stream",
     "text": [
      "Training Accuracy of Decision Tree Classifier is 1.0\n",
      "Test Accuracy of Decision Tree Classifier is 0.9583333333333334 \n",
      "\n",
      "Confusion Matrix :- \n",
      "[[70  2]\n",
      " [ 3 45]]\n",
      "\n",
      "Classification Report :- \n",
      "               precision    recall  f1-score   support\n",
      "\n",
      "           0       0.96      0.97      0.97        72\n",
      "           1       0.96      0.94      0.95        48\n",
      "\n",
      "    accuracy                           0.96       120\n",
      "   macro avg       0.96      0.95      0.96       120\n",
      "weighted avg       0.96      0.96      0.96       120\n",
      "\n"
     ]
    }
   ],
   "source": [
    "from sklearn.tree import DecisionTreeClassifier\n",
    "\n",
    "dtc = DecisionTreeClassifier()\n",
    "dtc.fit(X_train, y_train)\n",
    "\n",
    "# accuracy score, confusion matrix and classification report of decision tree\n",
    "\n",
    "dtc_acc = accuracy_score(y_test, dtc.predict(X_test))\n",
    "\n",
    "print(f\"Training Accuracy of Decision Tree Classifier is {accuracy_score(y_train, dtc.predict(X_train))}\")\n",
    "print(f\"Test Accuracy of Decision Tree Classifier is {dtc_acc} \\n\")\n",
    "\n",
    "print(f\"Confusion Matrix :- \\n{confusion_matrix(y_test, dtc.predict(X_test))}\\n\")\n",
    "print(f\"Classification Report :- \\n {classification_report(y_test, dtc.predict(X_test))}\")"
   ]
  },
  {
   "cell_type": "code",
   "execution_count": 120,
   "id": "560d2cbe",
   "metadata": {
    "execution": {
     "iopub.execute_input": "2021-08-03T10:27:15.849505Z",
     "iopub.status.busy": "2021-08-03T10:27:15.848733Z",
     "iopub.status.idle": "2021-08-03T10:27:32.734981Z",
     "shell.execute_reply": "2021-08-03T10:27:32.735542Z",
     "shell.execute_reply.started": "2021-08-03T10:09:12.675679Z"
    },
    "papermill": {
     "duration": 17.017514,
     "end_time": "2021-08-03T10:27:32.735752",
     "exception": false,
     "start_time": "2021-08-03T10:27:15.718238",
     "status": "completed"
    },
    "tags": []
   },
   "outputs": [
    {
     "name": "stdout",
     "output_type": "stream",
     "text": [
      "Fitting 5 folds for each of 1200 candidates, totalling 6000 fits\n"
     ]
    },
    {
     "data": {
      "text/plain": [
       "GridSearchCV(cv=5, estimator=DecisionTreeClassifier(), n_jobs=-1,\n",
       "             param_grid={'criterion': ['gini', 'entropy'],\n",
       "                         'max_depth': [3, 5, 7, 10],\n",
       "                         'max_features': ['auto', 'sqrt', 'log2'],\n",
       "                         'min_samples_leaf': [1, 2, 3, 5, 7],\n",
       "                         'min_samples_split': [1, 2, 3, 5, 7],\n",
       "                         'splitter': ['best', 'random']},\n",
       "             verbose=1)"
      ]
     },
     "execution_count": 120,
     "metadata": {},
     "output_type": "execute_result"
    }
   ],
   "source": [
    "# hyper parameter tuning of decision tree \n",
    "\n",
    "from sklearn.model_selection import GridSearchCV\n",
    "grid_param = {\n",
    "    'criterion' : ['gini', 'entropy'],\n",
    "    'max_depth' : [3, 5, 7, 10],\n",
    "    'splitter' : ['best', 'random'],\n",
    "    'min_samples_leaf' : [1, 2, 3, 5, 7],\n",
    "    'min_samples_split' : [1, 2, 3, 5, 7],\n",
    "    'max_features' : ['auto', 'sqrt', 'log2']\n",
    "}\n",
    "\n",
    "grid_search_dtc = GridSearchCV(dtc, grid_param, cv = 5, n_jobs = -1, verbose = 1)\n",
    "grid_search_dtc.fit(X_train, y_train)"
   ]
  },
  {
   "cell_type": "code",
   "execution_count": 121,
   "id": "2b909268",
   "metadata": {
    "execution": {
     "iopub.execute_input": "2021-08-03T10:27:32.975287Z",
     "iopub.status.busy": "2021-08-03T10:27:32.974573Z",
     "iopub.status.idle": "2021-08-03T10:27:32.977558Z",
     "shell.execute_reply": "2021-08-03T10:27:32.978304Z",
     "shell.execute_reply.started": "2021-08-03T10:09:28.589531Z"
    },
    "papermill": {
     "duration": 0.125459,
     "end_time": "2021-08-03T10:27:32.978520",
     "exception": false,
     "start_time": "2021-08-03T10:27:32.853061",
     "status": "completed"
    },
    "tags": []
   },
   "outputs": [
    {
     "name": "stdout",
     "output_type": "stream",
     "text": [
      "{'criterion': 'gini', 'max_depth': 5, 'max_features': 'sqrt', 'min_samples_leaf': 2, 'min_samples_split': 3, 'splitter': 'best'}\n",
      "0.9892857142857142\n"
     ]
    }
   ],
   "source": [
    "# best parameters and best score\n",
    "\n",
    "print(grid_search_dtc.best_params_)\n",
    "print(grid_search_dtc.best_score_)"
   ]
  },
  {
   "cell_type": "code",
   "execution_count": 122,
   "id": "704ee48f",
   "metadata": {
    "execution": {
     "iopub.execute_input": "2021-08-03T10:27:33.219610Z",
     "iopub.status.busy": "2021-08-03T10:27:33.218992Z",
     "iopub.status.idle": "2021-08-03T10:27:33.237945Z",
     "shell.execute_reply": "2021-08-03T10:27:33.238461Z",
     "shell.execute_reply.started": "2021-08-03T10:09:28.596341Z"
    },
    "papermill": {
     "duration": 0.1406,
     "end_time": "2021-08-03T10:27:33.238633",
     "exception": false,
     "start_time": "2021-08-03T10:27:33.098033",
     "status": "completed"
    },
    "tags": []
   },
   "outputs": [
    {
     "name": "stdout",
     "output_type": "stream",
     "text": [
      "Training Accuracy of Decision Tree Classifier is 0.9571428571428572\n",
      "Test Accuracy of Decision Tree Classifier is 0.9666666666666667 \n",
      "\n",
      "Confusion Matrix :- \n",
      "[[72  0]\n",
      " [ 4 44]]\n",
      "\n",
      "Classification Report :- \n",
      "               precision    recall  f1-score   support\n",
      "\n",
      "           0       0.95      1.00      0.97        72\n",
      "           1       1.00      0.92      0.96        48\n",
      "\n",
      "    accuracy                           0.97       120\n",
      "   macro avg       0.97      0.96      0.96       120\n",
      "weighted avg       0.97      0.97      0.97       120\n",
      "\n"
     ]
    }
   ],
   "source": [
    "# best estimator\n",
    "\n",
    "dtc = grid_search_dtc.best_estimator_\n",
    "\n",
    "# accuracy score, confusion matrix and classification report of decision tree\n",
    "\n",
    "dtc_acc = accuracy_score(y_test, dtc.predict(X_test))\n",
    "\n",
    "print(f\"Training Accuracy of Decision Tree Classifier is {accuracy_score(y_train, dtc.predict(X_train))}\")\n",
    "print(f\"Test Accuracy of Decision Tree Classifier is {dtc_acc} \\n\")\n",
    "\n",
    "print(f\"Confusion Matrix :- \\n{confusion_matrix(y_test, dtc.predict(X_test))}\\n\")\n",
    "print(f\"Classification Report :- \\n {classification_report(y_test, dtc.predict(X_test))}\")"
   ]
  },
  {
   "attachments": {},
   "cell_type": "markdown",
   "id": "6cac43df",
   "metadata": {
    "papermill": {
     "duration": 0.117918,
     "end_time": "2021-08-03T10:27:33.473599",
     "exception": false,
     "start_time": "2021-08-03T10:27:33.355681",
     "status": "completed"
    },
    "tags": []
   },
   "source": [
    "<a id = '5.3'></a>\n",
    "<p style = \"font-size : 25px; color : #34656d ; font-family : 'Comic Sans MS'; text-align : center; background-color : #fbc6a4; border-radius: 5px 5px;\"><strong>Random Forest Classifier</strong></p>"
   ]
  },
  {
   "cell_type": "code",
   "execution_count": 123,
   "id": "8125ad61",
   "metadata": {
    "execution": {
     "iopub.execute_input": "2021-08-03T10:27:33.714473Z",
     "iopub.status.busy": "2021-08-03T10:27:33.713856Z",
     "iopub.status.idle": "2021-08-03T10:27:34.064502Z",
     "shell.execute_reply": "2021-08-03T10:27:34.063984Z",
     "shell.execute_reply.started": "2021-08-03T10:09:28.622258Z"
    },
    "papermill": {
     "duration": 0.471782,
     "end_time": "2021-08-03T10:27:34.064632",
     "exception": false,
     "start_time": "2021-08-03T10:27:33.592850",
     "status": "completed"
    },
    "tags": []
   },
   "outputs": [
    {
     "name": "stdout",
     "output_type": "stream",
     "text": [
      "Training Accuracy of Random Forest Classifier is 0.9964285714285714\n",
      "Test Accuracy of Random Forest Classifier is 0.9833333333333333 \n",
      "\n",
      "Confusion Matrix :- \n",
      "[[72  0]\n",
      " [ 2 46]]\n",
      "\n",
      "Classification Report :- \n",
      "               precision    recall  f1-score   support\n",
      "\n",
      "           0       0.97      1.00      0.99        72\n",
      "           1       1.00      0.96      0.98        48\n",
      "\n",
      "    accuracy                           0.98       120\n",
      "   macro avg       0.99      0.98      0.98       120\n",
      "weighted avg       0.98      0.98      0.98       120\n",
      "\n"
     ]
    }
   ],
   "source": [
    "from sklearn.ensemble import RandomForestClassifier\n",
    "\n",
    "rd_clf = RandomForestClassifier(criterion = 'entropy', max_depth = 11, max_features = 'auto', min_samples_leaf = 2, min_samples_split = 3, n_estimators = 130)\n",
    "rd_clf.fit(X_train, y_train)\n",
    "\n",
    "# accuracy score, confusion matrix and classification report of random forest\n",
    "\n",
    "rd_clf_acc = accuracy_score(y_test, rd_clf.predict(X_test))\n",
    "\n",
    "print(f\"Training Accuracy of Random Forest Classifier is {accuracy_score(y_train, rd_clf.predict(X_train))}\")\n",
    "print(f\"Test Accuracy of Random Forest Classifier is {rd_clf_acc} \\n\")\n",
    "\n",
    "print(f\"Confusion Matrix :- \\n{confusion_matrix(y_test, rd_clf.predict(X_test))}\\n\")\n",
    "print(f\"Classification Report :- \\n {classification_report(y_test, rd_clf.predict(X_test))}\")"
   ]
  },
  {
   "attachments": {},
   "cell_type": "markdown",
   "id": "39681949",
   "metadata": {
    "papermill": {
     "duration": 0.116459,
     "end_time": "2021-08-03T10:27:34.802069",
     "exception": false,
     "start_time": "2021-08-03T10:27:34.685610",
     "status": "completed"
    },
    "tags": []
   },
   "source": [
    "<a id = '5.5'></a>\n",
    "<p style = \"font-size : 25px; color : #34656d ; font-family : 'Comic Sans MS'; text-align : center; background-color : #fbc6a4; border-radius: 5px 5px;\"><strong>Gradient Boosting Classifier</strong></p>"
   ]
  },
  {
   "cell_type": "code",
   "execution_count": 124,
   "id": "a13b3203",
   "metadata": {
    "execution": {
     "iopub.execute_input": "2021-08-03T10:27:35.049558Z",
     "iopub.status.busy": "2021-08-03T10:27:35.048609Z",
     "iopub.status.idle": "2021-08-03T10:27:35.196502Z",
     "shell.execute_reply": "2021-08-03T10:27:35.197139Z",
     "shell.execute_reply.started": "2021-08-03T10:09:29.136941Z"
    },
    "papermill": {
     "duration": 0.273095,
     "end_time": "2021-08-03T10:27:35.197368",
     "exception": false,
     "start_time": "2021-08-03T10:27:34.924273",
     "status": "completed"
    },
    "tags": []
   },
   "outputs": [
    {
     "name": "stdout",
     "output_type": "stream",
     "text": [
      "Training Accuracy of Gradient Boosting Classifier is 1.0\n",
      "Test Accuracy of Gradient Boosting Classifier is 0.9916666666666667 \n",
      "\n",
      "Confusion Matrix :- \n",
      "[[72  0]\n",
      " [ 1 47]]\n",
      "\n",
      "Classification Report :- \n",
      "               precision    recall  f1-score   support\n",
      "\n",
      "           0       0.99      1.00      0.99        72\n",
      "           1       1.00      0.98      0.99        48\n",
      "\n",
      "    accuracy                           0.99       120\n",
      "   macro avg       0.99      0.99      0.99       120\n",
      "weighted avg       0.99      0.99      0.99       120\n",
      "\n"
     ]
    }
   ],
   "source": [
    "from sklearn.ensemble import GradientBoostingClassifier\n",
    "\n",
    "gb = GradientBoostingClassifier()\n",
    "gb.fit(X_train, y_train)\n",
    "\n",
    "# accuracy score, confusion matrix and classification report of gradient boosting classifier\n",
    "\n",
    "gb_acc = accuracy_score(y_test, gb.predict(X_test))\n",
    "\n",
    "print(f\"Training Accuracy of Gradient Boosting Classifier is {accuracy_score(y_train, gb.predict(X_train))}\")\n",
    "print(f\"Test Accuracy of Gradient Boosting Classifier is {gb_acc} \\n\")\n",
    "\n",
    "print(f\"Confusion Matrix :- \\n{confusion_matrix(y_test, gb.predict(X_test))}\\n\")\n",
    "print(f\"Classification Report :- \\n {classification_report(y_test, gb.predict(X_test))}\")"
   ]
  },
  {
   "cell_type": "code",
   "execution_count": 125,
   "id": "b964f3cc",
   "metadata": {},
   "outputs": [
    {
     "data": {
      "text/plain": [
       "0.9333333333333333"
      ]
     },
     "execution_count": 125,
     "metadata": {},
     "output_type": "execute_result"
    }
   ],
   "source": [
    "from sklearn.linear_model import LogisticRegression\n",
    "Logisticregression = LogisticRegression(random_state = 0)\n",
    "Logisticregression.fit(X_train, y_train)\n",
    "LogisticRegression(random_state=0)\n",
    "y_pred_lg = Logisticregression.predict(X_test) \n",
    "score_lg = accuracy_score(y_pred_lg,y_test)\n",
    "score_lg"
   ]
  },
  {
   "cell_type": "code",
   "execution_count": 126,
   "id": "eab36724",
   "metadata": {},
   "outputs": [],
   "source": [
    "score_lg = accuracy_score(y_pred_lg,y_test)"
   ]
  },
  {
   "cell_type": "code",
   "execution_count": 127,
   "id": "25ea2e12",
   "metadata": {},
   "outputs": [
    {
     "name": "stdout",
     "output_type": "stream",
     "text": [
      "              precision    recall  f1-score   support\n",
      "\n",
      "           0       0.97      0.92      0.94        72\n",
      "           1       0.88      0.96      0.92        48\n",
      "\n",
      "    accuracy                           0.93       120\n",
      "   macro avg       0.93      0.94      0.93       120\n",
      "weighted avg       0.94      0.93      0.93       120\n",
      "\n"
     ]
    }
   ],
   "source": [
    "print(classification_report(y_test, y_pred_lg))"
   ]
  },
  {
   "cell_type": "code",
   "execution_count": 128,
   "id": "4aea5129",
   "metadata": {},
   "outputs": [],
   "source": [
    "from sklearn.svm import SVC\n",
    "Svm = SVC(kernel='rbf', random_state=0 )\n",
    "Svm.fit(X_train,y_train)\n",
    "y_pred_ksvm = Svm.predict(X_test) "
   ]
  },
  {
   "cell_type": "code",
   "execution_count": 129,
   "id": "020102bb",
   "metadata": {},
   "outputs": [
    {
     "data": {
      "text/plain": [
       "0.6"
      ]
     },
     "execution_count": 129,
     "metadata": {},
     "output_type": "execute_result"
    }
   ],
   "source": [
    "score_ksvm = accuracy_score(y_pred_ksvm,y_test)\n",
    "score_ksvm"
   ]
  },
  {
   "cell_type": "code",
   "execution_count": 130,
   "id": "0b3c1c6b",
   "metadata": {},
   "outputs": [
    {
     "name": "stdout",
     "output_type": "stream",
     "text": [
      "              precision    recall  f1-score   support\n",
      "\n",
      "           0       0.60      1.00      0.75        72\n",
      "           1       0.00      0.00      0.00        48\n",
      "\n",
      "    accuracy                           0.60       120\n",
      "   macro avg       0.30      0.50      0.37       120\n",
      "weighted avg       0.36      0.60      0.45       120\n",
      "\n"
     ]
    }
   ],
   "source": [
    "print(classification_report(y_test, y_pred_ksvm))"
   ]
  },
  {
   "attachments": {},
   "cell_type": "markdown",
   "id": "1bad90b3",
   "metadata": {
    "papermill": {
     "duration": 0.12238,
     "end_time": "2021-08-03T10:27:39.641368",
     "exception": false,
     "start_time": "2021-08-03T10:27:39.518988",
     "status": "completed"
    },
    "tags": []
   },
   "source": [
    "<a id = '6.0'></a>\n",
    "<p style = \"font-size : 35px; color : #34656d ; font-family : 'Comic Sans MS'; text-align : center; background-color : #f9b208; border-radius: 5px 5px;\"><strong>Models Comparison</strong></p> "
   ]
  },
  {
   "cell_type": "code",
   "execution_count": 131,
   "id": "d0edf63f",
   "metadata": {
    "execution": {
     "iopub.execute_input": "2021-08-03T10:27:39.897082Z",
     "iopub.status.busy": "2021-08-03T10:27:39.896076Z",
     "iopub.status.idle": "2021-08-03T10:27:39.900448Z",
     "shell.execute_reply": "2021-08-03T10:27:39.899847Z",
     "shell.execute_reply.started": "2021-08-03T10:09:30.502974Z"
    },
    "papermill": {
     "duration": 0.137113,
     "end_time": "2021-08-03T10:27:39.900584",
     "exception": false,
     "start_time": "2021-08-03T10:27:39.763471",
     "status": "completed"
    },
    "tags": []
   },
   "outputs": [
    {
     "data": {
      "text/html": [
       "<div>\n",
       "<style scoped>\n",
       "    .dataframe tbody tr th:only-of-type {\n",
       "        vertical-align: middle;\n",
       "    }\n",
       "\n",
       "    .dataframe tbody tr th {\n",
       "        vertical-align: top;\n",
       "    }\n",
       "\n",
       "    .dataframe thead th {\n",
       "        text-align: right;\n",
       "    }\n",
       "</style>\n",
       "<table border=\"1\" class=\"dataframe\">\n",
       "  <thead>\n",
       "    <tr style=\"text-align: right;\">\n",
       "      <th></th>\n",
       "      <th>Model</th>\n",
       "      <th>Score</th>\n",
       "    </tr>\n",
       "  </thead>\n",
       "  <tbody>\n",
       "    <tr>\n",
       "      <th>1</th>\n",
       "      <td>Decision Tree Classifier</td>\n",
       "      <td>0.966667</td>\n",
       "    </tr>\n",
       "    <tr>\n",
       "      <th>3</th>\n",
       "      <td>Gradient Boosting Classifier</td>\n",
       "      <td>0.966667</td>\n",
       "    </tr>\n",
       "    <tr>\n",
       "      <th>2</th>\n",
       "      <td>Random Forest Classifier</td>\n",
       "      <td>0.953333</td>\n",
       "    </tr>\n",
       "    <tr>\n",
       "      <th>4</th>\n",
       "      <td>logisticregression</td>\n",
       "      <td>0.933333</td>\n",
       "    </tr>\n",
       "    <tr>\n",
       "      <th>0</th>\n",
       "      <td>KNN</td>\n",
       "      <td>0.708333</td>\n",
       "    </tr>\n",
       "    <tr>\n",
       "      <th>5</th>\n",
       "      <td>Svm</td>\n",
       "      <td>0.600000</td>\n",
       "    </tr>\n",
       "  </tbody>\n",
       "</table>\n",
       "</div>"
      ],
      "text/plain": [
       "                          Model     Score\n",
       "1      Decision Tree Classifier  0.966667\n",
       "3  Gradient Boosting Classifier  0.966667\n",
       "2      Random Forest Classifier  0.953333\n",
       "4            logisticregression  0.933333\n",
       "0                           KNN  0.708333\n",
       "5                           Svm  0.600000"
      ]
     },
     "execution_count": 131,
     "metadata": {},
     "output_type": "execute_result"
    }
   ],
   "source": [
    "models = pd.DataFrame({\n",
    "    'Model' : [ 'KNN', 'Decision Tree Classifier', 'Random Forest Classifier',\n",
    "             'Gradient Boosting Classifier','logisticregression','Svm'],\n",
    "    'Score' : [knn_acc, dtc_acc, rd_clf_acc,gb_acc,score_lg,score_ksvm ]\n",
    "})\n",
    "\n",
    "\n",
    "models.sort_values(by = 'Score', ascending = False)"
   ]
  },
  {
   "cell_type": "code",
   "execution_count": 132,
   "id": "472c52ec",
   "metadata": {
    "execution": {
     "iopub.execute_input": "2021-08-03T10:27:40.369495Z",
     "iopub.status.busy": "2021-08-03T10:27:40.365513Z",
     "iopub.status.idle": "2021-08-03T10:27:40.409151Z",
     "shell.execute_reply": "2021-08-03T10:27:40.409636Z",
     "shell.execute_reply.started": "2021-08-03T10:25:38.262285Z"
    },
    "papermill": {
     "duration": 0.390074,
     "end_time": "2021-08-03T10:27:40.409843",
     "exception": false,
     "start_time": "2021-08-03T10:27:40.019769",
     "status": "completed"
    },
    "tags": []
   },
   "outputs": [
    {
     "data": {
      "application/vnd.plotly.v1+json": {
       "config": {
        "plotlyServerURL": "https://plot.ly"
       },
       "data": [
        {
         "alignmentgroup": "True",
         "hovertemplate": "Score=%{marker.color}<br>Model=%{y}<extra></extra>",
         "legendgroup": "",
         "marker": {
          "color": [
           0.7083333333333334,
           0.9666666666666667,
           0.9533333333333333,
           0.9666666666666667,
           0.9333333333333333,
           0.6
          ],
          "coloraxis": "coloraxis",
          "pattern": {
           "shape": ""
          }
         },
         "name": "",
         "offsetgroup": "",
         "orientation": "h",
         "showlegend": false,
         "textposition": "auto",
         "type": "bar",
         "x": [
          0.7083333333333334,
          0.9666666666666667,
          0.9533333333333333,
          0.9666666666666667,
          0.9333333333333333,
          0.6
         ],
         "xaxis": "x",
         "y": [
          "KNN",
          "Decision Tree Classifier",
          "Random Forest Classifier",
          "Gradient Boosting Classifier",
          "logisticregression",
          "Svm"
         ],
         "yaxis": "y"
        }
       ],
       "layout": {
        "barmode": "relative",
        "coloraxis": {
         "colorbar": {
          "title": {
           "text": "Score"
          }
         },
         "colorscale": [
          [
           0,
           "#0d0887"
          ],
          [
           0.1111111111111111,
           "#46039f"
          ],
          [
           0.2222222222222222,
           "#7201a8"
          ],
          [
           0.3333333333333333,
           "#9c179e"
          ],
          [
           0.4444444444444444,
           "#bd3786"
          ],
          [
           0.5555555555555556,
           "#d8576b"
          ],
          [
           0.6666666666666666,
           "#ed7953"
          ],
          [
           0.7777777777777778,
           "#fb9f3a"
          ],
          [
           0.8888888888888888,
           "#fdca26"
          ],
          [
           1,
           "#f0f921"
          ]
         ]
        },
        "legend": {
         "tracegroupgap": 0
        },
        "template": {
         "data": {
          "bar": [
           {
            "error_x": {
             "color": "#f2f5fa"
            },
            "error_y": {
             "color": "#f2f5fa"
            },
            "marker": {
             "line": {
              "color": "rgb(17,17,17)",
              "width": 0.5
             },
             "pattern": {
              "fillmode": "overlay",
              "size": 10,
              "solidity": 0.2
             }
            },
            "type": "bar"
           }
          ],
          "barpolar": [
           {
            "marker": {
             "line": {
              "color": "rgb(17,17,17)",
              "width": 0.5
             },
             "pattern": {
              "fillmode": "overlay",
              "size": 10,
              "solidity": 0.2
             }
            },
            "type": "barpolar"
           }
          ],
          "carpet": [
           {
            "aaxis": {
             "endlinecolor": "#A2B1C6",
             "gridcolor": "#506784",
             "linecolor": "#506784",
             "minorgridcolor": "#506784",
             "startlinecolor": "#A2B1C6"
            },
            "baxis": {
             "endlinecolor": "#A2B1C6",
             "gridcolor": "#506784",
             "linecolor": "#506784",
             "minorgridcolor": "#506784",
             "startlinecolor": "#A2B1C6"
            },
            "type": "carpet"
           }
          ],
          "choropleth": [
           {
            "colorbar": {
             "outlinewidth": 0,
             "ticks": ""
            },
            "type": "choropleth"
           }
          ],
          "contour": [
           {
            "colorbar": {
             "outlinewidth": 0,
             "ticks": ""
            },
            "colorscale": [
             [
              0,
              "#0d0887"
             ],
             [
              0.1111111111111111,
              "#46039f"
             ],
             [
              0.2222222222222222,
              "#7201a8"
             ],
             [
              0.3333333333333333,
              "#9c179e"
             ],
             [
              0.4444444444444444,
              "#bd3786"
             ],
             [
              0.5555555555555556,
              "#d8576b"
             ],
             [
              0.6666666666666666,
              "#ed7953"
             ],
             [
              0.7777777777777778,
              "#fb9f3a"
             ],
             [
              0.8888888888888888,
              "#fdca26"
             ],
             [
              1,
              "#f0f921"
             ]
            ],
            "type": "contour"
           }
          ],
          "contourcarpet": [
           {
            "colorbar": {
             "outlinewidth": 0,
             "ticks": ""
            },
            "type": "contourcarpet"
           }
          ],
          "heatmap": [
           {
            "colorbar": {
             "outlinewidth": 0,
             "ticks": ""
            },
            "colorscale": [
             [
              0,
              "#0d0887"
             ],
             [
              0.1111111111111111,
              "#46039f"
             ],
             [
              0.2222222222222222,
              "#7201a8"
             ],
             [
              0.3333333333333333,
              "#9c179e"
             ],
             [
              0.4444444444444444,
              "#bd3786"
             ],
             [
              0.5555555555555556,
              "#d8576b"
             ],
             [
              0.6666666666666666,
              "#ed7953"
             ],
             [
              0.7777777777777778,
              "#fb9f3a"
             ],
             [
              0.8888888888888888,
              "#fdca26"
             ],
             [
              1,
              "#f0f921"
             ]
            ],
            "type": "heatmap"
           }
          ],
          "heatmapgl": [
           {
            "colorbar": {
             "outlinewidth": 0,
             "ticks": ""
            },
            "colorscale": [
             [
              0,
              "#0d0887"
             ],
             [
              0.1111111111111111,
              "#46039f"
             ],
             [
              0.2222222222222222,
              "#7201a8"
             ],
             [
              0.3333333333333333,
              "#9c179e"
             ],
             [
              0.4444444444444444,
              "#bd3786"
             ],
             [
              0.5555555555555556,
              "#d8576b"
             ],
             [
              0.6666666666666666,
              "#ed7953"
             ],
             [
              0.7777777777777778,
              "#fb9f3a"
             ],
             [
              0.8888888888888888,
              "#fdca26"
             ],
             [
              1,
              "#f0f921"
             ]
            ],
            "type": "heatmapgl"
           }
          ],
          "histogram": [
           {
            "marker": {
             "pattern": {
              "fillmode": "overlay",
              "size": 10,
              "solidity": 0.2
             }
            },
            "type": "histogram"
           }
          ],
          "histogram2d": [
           {
            "colorbar": {
             "outlinewidth": 0,
             "ticks": ""
            },
            "colorscale": [
             [
              0,
              "#0d0887"
             ],
             [
              0.1111111111111111,
              "#46039f"
             ],
             [
              0.2222222222222222,
              "#7201a8"
             ],
             [
              0.3333333333333333,
              "#9c179e"
             ],
             [
              0.4444444444444444,
              "#bd3786"
             ],
             [
              0.5555555555555556,
              "#d8576b"
             ],
             [
              0.6666666666666666,
              "#ed7953"
             ],
             [
              0.7777777777777778,
              "#fb9f3a"
             ],
             [
              0.8888888888888888,
              "#fdca26"
             ],
             [
              1,
              "#f0f921"
             ]
            ],
            "type": "histogram2d"
           }
          ],
          "histogram2dcontour": [
           {
            "colorbar": {
             "outlinewidth": 0,
             "ticks": ""
            },
            "colorscale": [
             [
              0,
              "#0d0887"
             ],
             [
              0.1111111111111111,
              "#46039f"
             ],
             [
              0.2222222222222222,
              "#7201a8"
             ],
             [
              0.3333333333333333,
              "#9c179e"
             ],
             [
              0.4444444444444444,
              "#bd3786"
             ],
             [
              0.5555555555555556,
              "#d8576b"
             ],
             [
              0.6666666666666666,
              "#ed7953"
             ],
             [
              0.7777777777777778,
              "#fb9f3a"
             ],
             [
              0.8888888888888888,
              "#fdca26"
             ],
             [
              1,
              "#f0f921"
             ]
            ],
            "type": "histogram2dcontour"
           }
          ],
          "mesh3d": [
           {
            "colorbar": {
             "outlinewidth": 0,
             "ticks": ""
            },
            "type": "mesh3d"
           }
          ],
          "parcoords": [
           {
            "line": {
             "colorbar": {
              "outlinewidth": 0,
              "ticks": ""
             }
            },
            "type": "parcoords"
           }
          ],
          "pie": [
           {
            "automargin": true,
            "type": "pie"
           }
          ],
          "scatter": [
           {
            "marker": {
             "line": {
              "color": "#283442"
             }
            },
            "type": "scatter"
           }
          ],
          "scatter3d": [
           {
            "line": {
             "colorbar": {
              "outlinewidth": 0,
              "ticks": ""
             }
            },
            "marker": {
             "colorbar": {
              "outlinewidth": 0,
              "ticks": ""
             }
            },
            "type": "scatter3d"
           }
          ],
          "scattercarpet": [
           {
            "marker": {
             "colorbar": {
              "outlinewidth": 0,
              "ticks": ""
             }
            },
            "type": "scattercarpet"
           }
          ],
          "scattergeo": [
           {
            "marker": {
             "colorbar": {
              "outlinewidth": 0,
              "ticks": ""
             }
            },
            "type": "scattergeo"
           }
          ],
          "scattergl": [
           {
            "marker": {
             "line": {
              "color": "#283442"
             }
            },
            "type": "scattergl"
           }
          ],
          "scattermapbox": [
           {
            "marker": {
             "colorbar": {
              "outlinewidth": 0,
              "ticks": ""
             }
            },
            "type": "scattermapbox"
           }
          ],
          "scatterpolar": [
           {
            "marker": {
             "colorbar": {
              "outlinewidth": 0,
              "ticks": ""
             }
            },
            "type": "scatterpolar"
           }
          ],
          "scatterpolargl": [
           {
            "marker": {
             "colorbar": {
              "outlinewidth": 0,
              "ticks": ""
             }
            },
            "type": "scatterpolargl"
           }
          ],
          "scatterternary": [
           {
            "marker": {
             "colorbar": {
              "outlinewidth": 0,
              "ticks": ""
             }
            },
            "type": "scatterternary"
           }
          ],
          "surface": [
           {
            "colorbar": {
             "outlinewidth": 0,
             "ticks": ""
            },
            "colorscale": [
             [
              0,
              "#0d0887"
             ],
             [
              0.1111111111111111,
              "#46039f"
             ],
             [
              0.2222222222222222,
              "#7201a8"
             ],
             [
              0.3333333333333333,
              "#9c179e"
             ],
             [
              0.4444444444444444,
              "#bd3786"
             ],
             [
              0.5555555555555556,
              "#d8576b"
             ],
             [
              0.6666666666666666,
              "#ed7953"
             ],
             [
              0.7777777777777778,
              "#fb9f3a"
             ],
             [
              0.8888888888888888,
              "#fdca26"
             ],
             [
              1,
              "#f0f921"
             ]
            ],
            "type": "surface"
           }
          ],
          "table": [
           {
            "cells": {
             "fill": {
              "color": "#506784"
             },
             "line": {
              "color": "rgb(17,17,17)"
             }
            },
            "header": {
             "fill": {
              "color": "#2a3f5f"
             },
             "line": {
              "color": "rgb(17,17,17)"
             }
            },
            "type": "table"
           }
          ]
         },
         "layout": {
          "annotationdefaults": {
           "arrowcolor": "#f2f5fa",
           "arrowhead": 0,
           "arrowwidth": 1
          },
          "autotypenumbers": "strict",
          "coloraxis": {
           "colorbar": {
            "outlinewidth": 0,
            "ticks": ""
           }
          },
          "colorscale": {
           "diverging": [
            [
             0,
             "#8e0152"
            ],
            [
             0.1,
             "#c51b7d"
            ],
            [
             0.2,
             "#de77ae"
            ],
            [
             0.3,
             "#f1b6da"
            ],
            [
             0.4,
             "#fde0ef"
            ],
            [
             0.5,
             "#f7f7f7"
            ],
            [
             0.6,
             "#e6f5d0"
            ],
            [
             0.7,
             "#b8e186"
            ],
            [
             0.8,
             "#7fbc41"
            ],
            [
             0.9,
             "#4d9221"
            ],
            [
             1,
             "#276419"
            ]
           ],
           "sequential": [
            [
             0,
             "#0d0887"
            ],
            [
             0.1111111111111111,
             "#46039f"
            ],
            [
             0.2222222222222222,
             "#7201a8"
            ],
            [
             0.3333333333333333,
             "#9c179e"
            ],
            [
             0.4444444444444444,
             "#bd3786"
            ],
            [
             0.5555555555555556,
             "#d8576b"
            ],
            [
             0.6666666666666666,
             "#ed7953"
            ],
            [
             0.7777777777777778,
             "#fb9f3a"
            ],
            [
             0.8888888888888888,
             "#fdca26"
            ],
            [
             1,
             "#f0f921"
            ]
           ],
           "sequentialminus": [
            [
             0,
             "#0d0887"
            ],
            [
             0.1111111111111111,
             "#46039f"
            ],
            [
             0.2222222222222222,
             "#7201a8"
            ],
            [
             0.3333333333333333,
             "#9c179e"
            ],
            [
             0.4444444444444444,
             "#bd3786"
            ],
            [
             0.5555555555555556,
             "#d8576b"
            ],
            [
             0.6666666666666666,
             "#ed7953"
            ],
            [
             0.7777777777777778,
             "#fb9f3a"
            ],
            [
             0.8888888888888888,
             "#fdca26"
            ],
            [
             1,
             "#f0f921"
            ]
           ]
          },
          "colorway": [
           "#636efa",
           "#EF553B",
           "#00cc96",
           "#ab63fa",
           "#FFA15A",
           "#19d3f3",
           "#FF6692",
           "#B6E880",
           "#FF97FF",
           "#FECB52"
          ],
          "font": {
           "color": "#f2f5fa"
          },
          "geo": {
           "bgcolor": "rgb(17,17,17)",
           "lakecolor": "rgb(17,17,17)",
           "landcolor": "rgb(17,17,17)",
           "showlakes": true,
           "showland": true,
           "subunitcolor": "#506784"
          },
          "hoverlabel": {
           "align": "left"
          },
          "hovermode": "closest",
          "mapbox": {
           "style": "dark"
          },
          "paper_bgcolor": "rgb(17,17,17)",
          "plot_bgcolor": "rgb(17,17,17)",
          "polar": {
           "angularaxis": {
            "gridcolor": "#506784",
            "linecolor": "#506784",
            "ticks": ""
           },
           "bgcolor": "rgb(17,17,17)",
           "radialaxis": {
            "gridcolor": "#506784",
            "linecolor": "#506784",
            "ticks": ""
           }
          },
          "scene": {
           "xaxis": {
            "backgroundcolor": "rgb(17,17,17)",
            "gridcolor": "#506784",
            "gridwidth": 2,
            "linecolor": "#506784",
            "showbackground": true,
            "ticks": "",
            "zerolinecolor": "#C8D4E3"
           },
           "yaxis": {
            "backgroundcolor": "rgb(17,17,17)",
            "gridcolor": "#506784",
            "gridwidth": 2,
            "linecolor": "#506784",
            "showbackground": true,
            "ticks": "",
            "zerolinecolor": "#C8D4E3"
           },
           "zaxis": {
            "backgroundcolor": "rgb(17,17,17)",
            "gridcolor": "#506784",
            "gridwidth": 2,
            "linecolor": "#506784",
            "showbackground": true,
            "ticks": "",
            "zerolinecolor": "#C8D4E3"
           }
          },
          "shapedefaults": {
           "line": {
            "color": "#f2f5fa"
           }
          },
          "sliderdefaults": {
           "bgcolor": "#C8D4E3",
           "bordercolor": "rgb(17,17,17)",
           "borderwidth": 1,
           "tickwidth": 0
          },
          "ternary": {
           "aaxis": {
            "gridcolor": "#506784",
            "linecolor": "#506784",
            "ticks": ""
           },
           "baxis": {
            "gridcolor": "#506784",
            "linecolor": "#506784",
            "ticks": ""
           },
           "bgcolor": "rgb(17,17,17)",
           "caxis": {
            "gridcolor": "#506784",
            "linecolor": "#506784",
            "ticks": ""
           }
          },
          "title": {
           "x": 0.05
          },
          "updatemenudefaults": {
           "bgcolor": "#506784",
           "borderwidth": 0
          },
          "xaxis": {
           "automargin": true,
           "gridcolor": "#283442",
           "linecolor": "#506784",
           "ticks": "",
           "title": {
            "standoff": 15
           },
           "zerolinecolor": "#283442",
           "zerolinewidth": 2
          },
          "yaxis": {
           "automargin": true,
           "gridcolor": "#283442",
           "linecolor": "#506784",
           "ticks": "",
           "title": {
            "standoff": 15
           },
           "zerolinecolor": "#283442",
           "zerolinewidth": 2
          }
         }
        },
        "title": {
         "text": "Models Comparison"
        },
        "xaxis": {
         "anchor": "y",
         "domain": [
          0,
          1
         ],
         "title": {
          "text": "Score"
         }
        },
        "yaxis": {
         "anchor": "x",
         "domain": [
          0,
          1
         ],
         "title": {
          "text": "Model"
         }
        }
       }
      }
     },
     "metadata": {},
     "output_type": "display_data"
    }
   ],
   "source": [
    "px.bar(data_frame = models, x = 'Score', y = 'Model', color = 'Score', template = 'plotly_dark', \n",
    "       title = 'Models Comparison')"
   ]
  },
  {
   "attachments": {},
   "cell_type": "markdown",
   "id": "2378d91e",
   "metadata": {},
   "source": [
    "## **Ensemble**"
   ]
  },
  {
   "cell_type": "code",
   "execution_count": 133,
   "id": "1c9e2148",
   "metadata": {},
   "outputs": [
    {
     "name": "stdout",
     "output_type": "stream",
     "text": [
      "confussion matrix\n",
      "[[72  0]\n",
      " [ 3 45]]\n",
      "\n",
      "\n",
      "Accuracy of StackingCVClassifier: 97.5 \n",
      "\n",
      "              precision    recall  f1-score   support\n",
      "\n",
      "           0       0.96      1.00      0.98        72\n",
      "           1       1.00      0.94      0.97        48\n",
      "\n",
      "    accuracy                           0.97       120\n",
      "   macro avg       0.98      0.97      0.97       120\n",
      "weighted avg       0.98      0.97      0.97       120\n",
      "\n"
     ]
    }
   ],
   "source": [
    "from mlxtend.classifier import StackingCVClassifier\n",
    "scv=StackingCVClassifier(classifiers=[gb,dtc,rd_clf],meta_classifier= Svm,random_state=42)\n",
    "scv.fit(X_train,y_train)\n",
    "scv_predicted = scv.predict(X_test)\n",
    "scv_conf_matrix = confusion_matrix(y_test, scv_predicted)\n",
    "scv_acc_score = accuracy_score(y_test, scv_predicted)\n",
    "print(\"confussion matrix\")\n",
    "print(scv_conf_matrix)\n",
    "print(\"\\n\")\n",
    "print(\"Accuracy of StackingCVClassifier:\",scv_acc_score*100,'\\n')\n",
    "print(classification_report(y_test,scv_predicted))\n",
    "\n",
    "import pickle\n",
    "pickle.dump(scv, open('kidney.pkl', 'wb'))\n"
   ]
  }
 ],
 "metadata": {
  "kernelspec": {
   "display_name": "Python 3",
   "language": "python",
   "name": "python3"
  },
  "language_info": {
   "codemirror_mode": {
    "name": "ipython",
    "version": 3
   },
   "file_extension": ".py",
   "mimetype": "text/x-python",
   "name": "python",
   "nbconvert_exporter": "python",
   "pygments_lexer": "ipython3",
   "version": "3.9.13"
  },
  "papermill": {
   "default_parameters": {},
   "duration": 63.932833,
   "end_time": "2021-08-03T10:27:41.688051",
   "environment_variables": {},
   "exception": null,
   "input_path": "__notebook__.ipynb",
   "output_path": "__notebook__.ipynb",
   "parameters": {},
   "start_time": "2021-08-03T10:26:37.755218",
   "version": "2.3.3"
  }
 },
 "nbformat": 4,
 "nbformat_minor": 5
}
