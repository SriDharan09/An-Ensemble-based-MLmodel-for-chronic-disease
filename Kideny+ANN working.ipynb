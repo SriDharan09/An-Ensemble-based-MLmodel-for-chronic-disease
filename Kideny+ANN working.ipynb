{
 "cells": [
  {
   "cell_type": "code",
   "execution_count": 2,
   "metadata": {
    "scrolled": false
   },
   "outputs": [],
   "source": [
    "import glob\n",
    "import tensorflow as tf\n",
    "from tensorflow import keras\n",
    "from tensorflow.keras import layers\n",
    "from tensorflow.keras import optimizers\n",
    "from tensorflow.keras.models import Sequential\n",
    "from tensorflow.keras.layers import Dense\n",
    "import numpy as np\n",
    "import pandas as pd\n",
    "from sklearn.model_selection import train_test_split\n",
    "from sklearn.preprocessing import LabelEncoder, MinMaxScaler\n",
    "import matplotlib.pyplot as plt\n",
    "import keras as k\n",
    "import seaborn as sns"
   ]
  },
  {
   "cell_type": "code",
   "execution_count": 3,
   "metadata": {},
   "outputs": [],
   "source": [
    "data= pd.read_csv('D:/CapStone Project/Dumb/Models/Kidney Dataset/kidney_disease.csv')"
   ]
  },
  {
   "cell_type": "code",
   "execution_count": 4,
   "metadata": {},
   "outputs": [
    {
     "data": {
      "text/plain": [
       "Index(['id', 'age', 'bp', 'sg', 'al', 'su', 'rbc', 'pc', 'pcc', 'ba', 'bgr',\n",
       "       'bu', 'sc', 'sod', 'pot', 'hemo', 'pcv', 'wc', 'rc', 'htn', 'dm', 'cad',\n",
       "       'appet', 'pe', 'ane', 'classification'],\n",
       "      dtype='object')"
      ]
     },
     "execution_count": 4,
     "metadata": {},
     "output_type": "execute_result"
    }
   ],
   "source": [
    "data.columns"
   ]
  },
  {
   "cell_type": "code",
   "execution_count": 5,
   "metadata": {},
   "outputs": [
    {
     "name": "stdout",
     "output_type": "stream",
     "text": [
      "      id   age    bp     sg   al   su     rbc        pc         pcc  \\\n",
      "0      0  48.0  80.0  1.020  1.0  0.0     NaN    normal  notpresent   \n",
      "1      1   7.0  50.0  1.020  4.0  0.0     NaN    normal  notpresent   \n",
      "2      2  62.0  80.0  1.010  2.0  3.0  normal    normal  notpresent   \n",
      "3      3  48.0  70.0  1.005  4.0  0.0  normal  abnormal     present   \n",
      "4      4  51.0  80.0  1.010  2.0  0.0  normal    normal  notpresent   \n",
      "..   ...   ...   ...    ...  ...  ...     ...       ...         ...   \n",
      "395  395  55.0  80.0  1.020  0.0  0.0  normal    normal  notpresent   \n",
      "396  396  42.0  70.0  1.025  0.0  0.0  normal    normal  notpresent   \n",
      "397  397  12.0  80.0  1.020  0.0  0.0  normal    normal  notpresent   \n",
      "398  398  17.0  60.0  1.025  0.0  0.0  normal    normal  notpresent   \n",
      "399  399  58.0  80.0  1.025  0.0  0.0  normal    normal  notpresent   \n",
      "\n",
      "             ba  ...  pcv    wc   rc  htn   dm  cad appet   pe  ane  \\\n",
      "0    notpresent  ...   44  7800  5.2  yes  yes   no  good   no   no   \n",
      "1    notpresent  ...   38  6000  NaN   no   no   no  good   no   no   \n",
      "2    notpresent  ...   31  7500  NaN   no  yes   no  poor   no  yes   \n",
      "3    notpresent  ...   32  6700  3.9  yes   no   no  poor  yes  yes   \n",
      "4    notpresent  ...   35  7300  4.6   no   no   no  good   no   no   \n",
      "..          ...  ...  ...   ...  ...  ...  ...  ...   ...  ...  ...   \n",
      "395  notpresent  ...   47  6700  4.9   no   no   no  good   no   no   \n",
      "396  notpresent  ...   54  7800  6.2   no   no   no  good   no   no   \n",
      "397  notpresent  ...   49  6600  5.4   no   no   no  good   no   no   \n",
      "398  notpresent  ...   51  7200  5.9   no   no   no  good   no   no   \n",
      "399  notpresent  ...   53  6800  6.1   no   no   no  good   no   no   \n",
      "\n",
      "    classification  \n",
      "0              ckd  \n",
      "1              ckd  \n",
      "2              ckd  \n",
      "3              ckd  \n",
      "4              ckd  \n",
      "..             ...  \n",
      "395         notckd  \n",
      "396         notckd  \n",
      "397         notckd  \n",
      "398         notckd  \n",
      "399         notckd  \n",
      "\n",
      "[400 rows x 26 columns]\n"
     ]
    }
   ],
   "source": [
    "print(data)"
   ]
  },
  {
   "cell_type": "code",
   "execution_count": 6,
   "metadata": {},
   "outputs": [
    {
     "name": "stdout",
     "output_type": "stream",
     "text": [
      "(400, 26)\n",
      "2\n"
     ]
    }
   ],
   "source": [
    "print(data.shape)\n",
    "print(data.ndim)"
   ]
  },
  {
   "cell_type": "code",
   "execution_count": 7,
   "metadata": {
    "scrolled": true
   },
   "outputs": [
    {
     "name": "stdout",
     "output_type": "stream",
     "text": [
      "               id         age          bp          sg          al          su  \\\n",
      "count  400.000000  391.000000  388.000000  353.000000  354.000000  351.000000   \n",
      "mean   199.500000   51.483376   76.469072    1.017408    1.016949    0.450142   \n",
      "std    115.614301   17.169714   13.683637    0.005717    1.352679    1.099191   \n",
      "min      0.000000    2.000000   50.000000    1.005000    0.000000    0.000000   \n",
      "25%     99.750000   42.000000   70.000000    1.010000    0.000000    0.000000   \n",
      "50%    199.500000   55.000000   80.000000    1.020000    0.000000    0.000000   \n",
      "75%    299.250000   64.500000   80.000000    1.020000    2.000000    0.000000   \n",
      "max    399.000000   90.000000  180.000000    1.025000    5.000000    5.000000   \n",
      "\n",
      "              bgr          bu          sc         sod         pot        hemo  \n",
      "count  356.000000  381.000000  383.000000  313.000000  312.000000  348.000000  \n",
      "mean   148.036517   57.425722    3.072454  137.528754    4.627244   12.526437  \n",
      "std     79.281714   50.503006    5.741126   10.408752    3.193904    2.912587  \n",
      "min     22.000000    1.500000    0.400000    4.500000    2.500000    3.100000  \n",
      "25%     99.000000   27.000000    0.900000  135.000000    3.800000   10.300000  \n",
      "50%    121.000000   42.000000    1.300000  138.000000    4.400000   12.650000  \n",
      "75%    163.000000   66.000000    2.800000  142.000000    4.900000   15.000000  \n",
      "max    490.000000  391.000000   76.000000  163.000000   47.000000   17.800000  \n"
     ]
    }
   ],
   "source": [
    "print(data.describe())"
   ]
  },
  {
   "cell_type": "code",
   "execution_count": 8,
   "metadata": {},
   "outputs": [
    {
     "data": {
      "image/png": "[encoded data removed]",
      "text/plain": [
       "<Figure size 640x480 with 2 Axes>"
      ]
     },
     "metadata": {},
     "output_type": "display_data"
    }
   ],
   "source": [
    "sns.heatmap(data.isnull(),yticklabels = False, cmap='viridis');"
   ]
  },
  {
   "cell_type": "code",
   "execution_count": 9,
   "metadata": {},
   "outputs": [],
   "source": [
    "data = data.dropna(axis = 0)"
   ]
  },
  {
   "cell_type": "code",
   "execution_count": 10,
   "metadata": {},
   "outputs": [
    {
     "name": "stdout",
     "output_type": "stream",
     "text": [
      "(158, 26)\n"
     ]
    }
   ],
   "source": [
    "print(data.shape)"
   ]
  },
  {
   "cell_type": "code",
   "execution_count": 11,
   "metadata": {},
   "outputs": [
    {
     "name": "stderr",
     "output_type": "stream",
     "text": [
      "C:\\Users\\sridh\\AppData\\Local\\Temp\\ipykernel_18932\\970899292.py:2: DeprecationWarning: Converting `np.inexact` or `np.floating` to a dtype is deprecated. The current result is `float64` which is not strictly correct.\n",
      "  if data[column].dtype == np.number:\n"
     ]
    }
   ],
   "source": [
    "for column in data.columns:\n",
    "    if data[column].dtype == np.number:\n",
    "        continue\n",
    "    data[column] = LabelEncoder().fit_transform(data[column])    "
   ]
  },
  {
   "cell_type": "code",
   "execution_count": 12,
   "metadata": {},
   "outputs": [
    {
     "name": "stdout",
     "output_type": "stream",
     "text": [
      "(158, 26)\n",
      "    id   age    bp     sg   al   su  rbc  pc  pcc  ba  ...  pcv  wc  rc  htn  \\\n",
      "3    0  48.0  70.0  1.005  4.0  0.0    1   0    1   0  ...   11  42  14    1   \n",
      "9    1  53.0  90.0  1.020  2.0  0.0    0   0    1   0  ...    8  11  12    1   \n",
      "11   2  63.0  70.0  1.010  3.0  0.0    0   0    1   0  ...   11  25  13    1   \n",
      "14   3  68.0  80.0  1.010  3.0  2.0    1   0    1   1  ...    0   8   2    1   \n",
      "20   4  61.0  80.0  1.015  2.0  0.0    0   0    0   0  ...    4  63   7    1   \n",
      "\n",
      "    dm  cad  appet  pe  ane  classification  \n",
      "3    0    0      1   1    1               0  \n",
      "9    1    0      1   0    1               0  \n",
      "11   1    0      1   1    0               0  \n",
      "14   1    1      1   1    0               0  \n",
      "20   1    1      1   1    1               0  \n",
      "\n",
      "[5 rows x 26 columns]\n"
     ]
    }
   ],
   "source": [
    "print(data.shape)\n",
    "print(data.head())"
   ]
  },
  {
   "cell_type": "code",
   "execution_count": 13,
   "metadata": {},
   "outputs": [
    {
     "name": "stdout",
     "output_type": "stream",
     "text": [
      "               id         age          bp          sg          al          su  \\\n",
      "count  158.000000  158.000000  158.000000  158.000000  158.000000  158.000000   \n",
      "mean    78.500000   49.563291   74.050633    1.019873    0.797468    0.253165   \n",
      "std     45.754781   15.512244   11.175381    0.005499    1.413130    0.813397   \n",
      "min      0.000000    6.000000   50.000000    1.005000    0.000000    0.000000   \n",
      "25%     39.250000   39.250000   60.000000    1.020000    0.000000    0.000000   \n",
      "50%     78.500000   50.500000   80.000000    1.020000    0.000000    0.000000   \n",
      "75%    117.750000   60.000000   80.000000    1.025000    1.000000    0.000000   \n",
      "max    157.000000   83.000000  110.000000    1.025000    4.000000    5.000000   \n",
      "\n",
      "              rbc          pc         pcc          ba  ...         pcv  \\\n",
      "count  158.000000  158.000000  158.000000  158.000000  ...  158.000000   \n",
      "mean     0.886076    0.816456    0.088608    0.075949  ...   20.569620   \n",
      "std      0.318729    0.388343    0.285080    0.265759  ...    8.141556   \n",
      "min      0.000000    0.000000    0.000000    0.000000  ...    0.000000   \n",
      "25%      1.000000    1.000000    0.000000    0.000000  ...   17.250000   \n",
      "50%      1.000000    1.000000    0.000000    0.000000  ...   22.000000   \n",
      "75%      1.000000    1.000000    0.000000    0.000000  ...   26.750000   \n",
      "max      1.000000    1.000000    1.000000    1.000000  ...   33.000000   \n",
      "\n",
      "               wc          rc         htn          dm         cad       appet  \\\n",
      "count  158.000000  158.000000  158.000000  158.000000  158.000000  158.000000   \n",
      "mean    38.265823   23.145570    0.215190    0.177215    0.069620    0.120253   \n",
      "std     19.787861    9.459148    0.412261    0.383065    0.255315    0.326292   \n",
      "min      0.000000    0.000000    0.000000    0.000000    0.000000    0.000000   \n",
      "25%     24.000000   19.000000    0.000000    0.000000    0.000000    0.000000   \n",
      "50%     42.000000   23.500000    0.000000    0.000000    0.000000    0.000000   \n",
      "75%     53.000000   30.000000    0.000000    0.000000    0.000000    0.000000   \n",
      "max     70.000000   40.000000    1.000000    1.000000    1.000000    1.000000   \n",
      "\n",
      "               pe         ane  classification  \n",
      "count  158.000000  158.000000      158.000000  \n",
      "mean     0.126582    0.101266        0.727848  \n",
      "std      0.333562    0.302640        0.446483  \n",
      "min      0.000000    0.000000        0.000000  \n",
      "25%      0.000000    0.000000        0.000000  \n",
      "50%      0.000000    0.000000        1.000000  \n",
      "75%      0.000000    0.000000        1.000000  \n",
      "max      1.000000    1.000000        1.000000  \n",
      "\n",
      "[8 rows x 26 columns]\n"
     ]
    }
   ],
   "source": [
    "print(data.describe())"
   ]
  },
  {
   "cell_type": "code",
   "execution_count": 14,
   "metadata": {},
   "outputs": [
    {
     "data": {
      "image/png": "[encoded data removed]",
      "text/plain": [
       "<Figure size 640x480 with 2 Axes>"
      ]
     },
     "metadata": {},
     "output_type": "display_data"
    }
   ],
   "source": [
    "sns.heatmap(data.isnull(),yticklabels = False, cmap='viridis');"
   ]
  },
  {
   "cell_type": "code",
   "execution_count": 15,
   "metadata": {},
   "outputs": [],
   "source": [
    "# splitting dataset into dependent and independent\n",
    "X = data.drop(['classification'],axis=1)\n",
    "Y = data['classification']"
   ]
  },
  {
   "cell_type": "code",
   "execution_count": 16,
   "metadata": {},
   "outputs": [],
   "source": [
    "#Feature Scaling\n",
    "#min-max scaler method scales the data set so that all the input features lie between 0 and 1\n",
    "x_scaler = MinMaxScaler()\n",
    "x_scaler.fit(X)\n",
    "column_names = X.columns\n",
    "X[column_names] = x_scaler.transform(X) "
   ]
  },
  {
   "cell_type": "code",
   "execution_count": 17,
   "metadata": {},
   "outputs": [
    {
     "name": "stdout",
     "output_type": "stream",
     "text": [
      "           id       age        bp    sg    al   su  rbc   pc  pcc   ba  ...  \\\n",
      "3    0.000000  0.545455  0.333333  0.00  1.00  0.0  1.0  0.0  1.0  0.0  ...   \n",
      "9    0.006369  0.610390  0.666667  0.75  0.50  0.0  0.0  0.0  1.0  0.0  ...   \n",
      "11   0.012739  0.740260  0.333333  0.25  0.75  0.0  0.0  0.0  1.0  0.0  ...   \n",
      "14   0.019108  0.805195  0.500000  0.25  0.75  0.4  1.0  0.0  1.0  1.0  ...   \n",
      "20   0.025478  0.714286  0.500000  0.50  0.50  0.0  0.0  0.0  0.0  0.0  ...   \n",
      "..        ...       ...       ...   ...   ...  ...  ...  ...  ...  ...  ...   \n",
      "395  0.974522  0.636364  0.500000  0.75  0.00  0.0  1.0  1.0  0.0  0.0  ...   \n",
      "396  0.980892  0.467532  0.333333  1.00  0.00  0.0  1.0  1.0  0.0  0.0  ...   \n",
      "397  0.987261  0.077922  0.500000  0.75  0.00  0.0  1.0  1.0  0.0  0.0  ...   \n",
      "398  0.993631  0.142857  0.166667  1.00  0.00  0.0  1.0  1.0  0.0  0.0  ...   \n",
      "399  1.000000  0.675325  0.500000  1.00  0.00  0.0  1.0  1.0  0.0  0.0  ...   \n",
      "\n",
      "         hemo       pcv        wc     rc  htn   dm  cad  appet   pe  ane  \n",
      "3    0.551020  0.333333  0.600000  0.350  1.0  0.0  0.0    1.0  1.0  1.0  \n",
      "9    0.435374  0.242424  0.157143  0.300  1.0  1.0  0.0    1.0  0.0  1.0  \n",
      "11   0.523810  0.333333  0.357143  0.325  1.0  1.0  0.0    1.0  1.0  0.0  \n",
      "14   0.170068  0.000000  0.114286  0.050  1.0  1.0  1.0    1.0  1.0  0.0  \n",
      "20   0.312925  0.121212  0.900000  0.175  1.0  1.0  1.0    1.0  1.0  1.0  \n",
      "..        ...       ...       ...    ...  ...  ...  ...    ...  ...  ...  \n",
      "395  0.857143  0.757576  0.600000  0.575  0.0  0.0  0.0    0.0  0.0  0.0  \n",
      "396  0.911565  0.969697  0.742857  0.900  0.0  0.0  0.0    0.0  0.0  0.0  \n",
      "397  0.863946  0.818182  0.585714  0.700  0.0  0.0  0.0    0.0  0.0  0.0  \n",
      "398  0.755102  0.878788  0.671429  0.825  0.0  0.0  0.0    0.0  0.0  0.0  \n",
      "399  0.863946  0.939394  0.614286  0.875  0.0  0.0  0.0    0.0  0.0  0.0  \n",
      "\n",
      "[158 rows x 25 columns]\n"
     ]
    }
   ],
   "source": [
    "print(X)"
   ]
  },
  {
   "cell_type": "code",
   "execution_count": 18,
   "metadata": {},
   "outputs": [],
   "source": [
    "#split the data into 80% training and 20% testing and shuffle\n",
    "\n",
    "X_train, X_test, Y_train, Y_test = train_test_split(X,Y, test_size = 0.2 ,shuffle = True)"
   ]
  },
  {
   "cell_type": "markdown",
   "metadata": {},
   "source": [
    "# Aritificial Neural Network"
   ]
  },
  {
   "cell_type": "code",
   "execution_count": 19,
   "metadata": {},
   "outputs": [],
   "source": [
    "#build model\n",
    "\n",
    "model = Sequential()\n",
    "\n",
    "#first layer\n",
    "model.add(Dense(256,input_dim= len(X.columns),kernel_initializer= k.initializers.random_normal(seed= 13),activation= 'relu'))\n",
    "\n",
    "#second layer\n",
    "model.add(Dense (1, activation = 'hard_sigmoid'))"
   ]
  },
  {
   "cell_type": "code",
   "execution_count": 20,
   "metadata": {},
   "outputs": [],
   "source": [
    "#compiling the model\n",
    "#opt = adam(lr=0.001, decay=1e-6)\n",
    "\n",
    "model.compile(loss = 'binary_crossentropy', optimizer = 'adam', metrics = ['accuracy'])"
   ]
  },
  {
   "cell_type": "code",
   "execution_count": 21,
   "metadata": {},
   "outputs": [
    {
     "name": "stdout",
     "output_type": "stream",
     "text": [
      "Epoch 1/25\n",
      "1/1 [==============================] - 3s 3s/step - loss: 0.6646 - accuracy: 0.7698\n",
      "Epoch 2/25\n",
      "1/1 [==============================] - 0s 8ms/step - loss: 0.6337 - accuracy: 0.8016\n",
      "Epoch 3/25\n",
      "1/1 [==============================] - 0s 8ms/step - loss: 0.6041 - accuracy: 0.8333\n",
      "Epoch 4/25\n",
      "1/1 [==============================] - 0s 8ms/step - loss: 0.5755 - accuracy: 0.8413\n",
      "Epoch 5/25\n",
      "1/1 [==============================] - 0s 8ms/step - loss: 0.5481 - accuracy: 0.8571\n",
      "Epoch 6/25\n",
      "1/1 [==============================] - 0s 8ms/step - loss: 0.5217 - accuracy: 0.8810\n",
      "Epoch 7/25\n",
      "1/1 [==============================] - 0s 8ms/step - loss: 0.4961 - accuracy: 0.9048\n",
      "Epoch 8/25\n",
      "1/1 [==============================] - 0s 8ms/step - loss: 0.4714 - accuracy: 0.9127\n",
      "Epoch 9/25\n",
      "1/1 [==============================] - 0s 8ms/step - loss: 0.4474 - accuracy: 0.9365\n",
      "Epoch 10/25\n",
      "1/1 [==============================] - 0s 8ms/step - loss: 0.4241 - accuracy: 0.9365\n",
      "Epoch 11/25\n",
      "1/1 [==============================] - 0s 8ms/step - loss: 0.4012 - accuracy: 0.9365\n",
      "Epoch 12/25\n",
      "1/1 [==============================] - 0s 8ms/step - loss: 0.3789 - accuracy: 0.9444\n",
      "Epoch 13/25\n",
      "1/1 [==============================] - 0s 0s/step - loss: 0.3570 - accuracy: 0.9444\n",
      "Epoch 14/25\n",
      "1/1 [==============================] - 0s 8ms/step - loss: 0.3355 - accuracy: 0.9524\n",
      "Epoch 15/25\n",
      "1/1 [==============================] - 0s 8ms/step - loss: 0.3144 - accuracy: 0.9524\n",
      "Epoch 16/25\n",
      "1/1 [==============================] - 0s 8ms/step - loss: 0.2936 - accuracy: 0.9524\n",
      "Epoch 17/25\n",
      "1/1 [==============================] - 0s 9ms/step - loss: 0.2732 - accuracy: 0.9524\n",
      "Epoch 18/25\n",
      "1/1 [==============================] - 0s 8ms/step - loss: 0.2530 - accuracy: 0.9524\n",
      "Epoch 19/25\n",
      "1/1 [==============================] - 0s 8ms/step - loss: 0.2330 - accuracy: 0.9524\n",
      "Epoch 20/25\n",
      "1/1 [==============================] - 0s 8ms/step - loss: 0.2131 - accuracy: 0.9524\n",
      "Epoch 21/25\n",
      "1/1 [==============================] - 0s 8ms/step - loss: 0.1934 - accuracy: 0.9524\n",
      "Epoch 22/25\n",
      "1/1 [==============================] - 0s 0s/step - loss: 0.1739 - accuracy: 0.9524\n",
      "Epoch 23/25\n",
      "1/1 [==============================] - 0s 8ms/step - loss: 0.1554 - accuracy: 0.9524\n",
      "Epoch 24/25\n",
      "1/1 [==============================] - 0s 8ms/step - loss: 0.1386 - accuracy: 0.9524\n",
      "Epoch 25/25\n",
      "1/1 [==============================] - 0s 8ms/step - loss: 0.1245 - accuracy: 0.9524\n"
     ]
    }
   ],
   "source": [
    "#train the model\n",
    "\n",
    "history = model.fit(X_train, Y_train, epochs =25, batch_size = X_train.shape[0])"
   ]
  },
  {
   "cell_type": "code",
   "execution_count": 22,
   "metadata": {},
   "outputs": [
    {
     "name": "stdout",
     "output_type": "stream",
     "text": [
      "1/1 [==============================] - 0s 98ms/step\n",
      "Accuracy of ANN model is : 87.5\n"
     ]
    }
   ],
   "source": [
    "from sklearn.metrics import accuracy_score\n",
    "y_pred=model.predict(X_test)\n",
    "y_pred=(y_pred>0.5)\n",
    "acc=accuracy_score(Y_test, y_pred)*100\n",
    "print(\"Accuracy of ANN model is :\",acc)"
   ]
  },
  {
   "cell_type": "code",
   "execution_count": 23,
   "metadata": {
    "scrolled": true
   },
   "outputs": [],
   "source": [
    "#save the model\n",
    "\n",
    "#model.save('ckd.model');\n"
   ]
  },
  {
   "cell_type": "code",
   "execution_count": 24,
   "metadata": {},
   "outputs": [
    {
     "name": "stdout",
     "output_type": "stream",
     "text": [
      "              precision    recall  f1-score   support\n",
      "\n",
      "           0       1.00      0.67      0.80        12\n",
      "           1       0.83      1.00      0.91        20\n",
      "\n",
      "    accuracy                           0.88        32\n",
      "   macro avg       0.92      0.83      0.85        32\n",
      "weighted avg       0.90      0.88      0.87        32\n",
      "\n"
     ]
    }
   ],
   "source": [
    "from sklearn.metrics import classification_report\n",
    "print(classification_report(Y_test,y_pred))"
   ]
  },
  {
   "cell_type": "code",
   "execution_count": 25,
   "metadata": {},
   "outputs": [
    {
     "data": {
      "image/png": "[encoded data removed]",
      "text/plain": [
       "<Figure size 640x480 with 1 Axes>"
      ]
     },
     "metadata": {},
     "output_type": "display_data"
    }
   ],
   "source": [
    "#visualie model loss and accuracy\n",
    "\n",
    "plt.plot(history.history['accuracy'],label='Accuracy')\n",
    "plt.plot(history.history['loss'],label='Loss')\n",
    "plt.title('Model Loss and Accuracy')\n",
    "plt.ylabel('Accuracy and Loss')\n",
    "plt.xlabel('Epochs')   \n",
    "plt.legend();"
   ]
  },
  {
   "cell_type": "code",
   "execution_count": 26,
   "metadata": {},
   "outputs": [
    {
     "name": "stdout",
     "output_type": "stream",
     "text": [
      "1/1 [==============================] - 0s 209ms/step\n",
      "Original:  1,0,0,1,0,1,0,0,1,1,1,1,1,0,0,0,1,1,0,0,1,1,1,1,1,1,1,1,0,1,1,0\n",
      "Predicted: 1,1,0,1,0,1,0,0,1,1,1,1,1,0,1,1,1,1,0,0,1,1,1,1,1,1,1,1,0,1,1,1\n"
     ]
    }
   ],
   "source": [
    "#show actual and predicted value\n",
    "pred = model.predict(X_test)\n",
    "pred = [1 if y>=0.5 else 0 for y in pred]\n",
    "\n",
    "print('Original:  {0}'.format(\",\".join(str(x) for x in Y_test)))\n",
    "print('Predicted: {0}'.format(\",\".join(str(x) for x in pred)))"
   ]
  }
 ],
 "metadata": {
  "kernelspec": {
   "display_name": "Python 3",
   "language": "python",
   "name": "python3"
  },
  "language_info": {
   "codemirror_mode": {
    "name": "ipython",
    "version": 3
   },
   "file_extension": ".py",
   "mimetype": "text/x-python",
   "name": "python",
   "nbconvert_exporter": "python",
   "pygments_lexer": "ipython3",
   "version": "3.9.13"
  }
 },
 "nbformat": 4,
 "nbformat_minor": 4
}
