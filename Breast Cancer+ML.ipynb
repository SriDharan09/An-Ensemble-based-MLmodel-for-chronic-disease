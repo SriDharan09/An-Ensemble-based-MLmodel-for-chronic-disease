{
 "cells": [
  {
   "attachments": {},
   "cell_type": "markdown",
   "id": "wired-billy",
   "metadata": {
    "papermill": {
     "duration": 0.068904,
     "end_time": "2022-08-02T09:08:14.920180",
     "exception": false,
     "start_time": "2022-08-02T09:08:14.851276",
     "status": "completed"
    },
    "tags": []
   },
   "source": [
    "##  Importing libraries"
   ]
  },
  {
   "cell_type": "code",
   "execution_count": 41,
   "id": "threaded-hybrid",
   "metadata": {
    "execution": {
     "iopub.execute_input": "2022-08-02T09:08:15.049111Z",
     "iopub.status.busy": "2022-08-02T09:08:15.047844Z",
     "iopub.status.idle": "2022-08-02T09:08:15.952961Z",
     "shell.execute_reply": "2022-08-02T09:08:15.953595Z",
     "shell.execute_reply.started": "2022-08-02T09:05:48.936938Z"
    },
    "papermill": {
     "duration": 0.968202,
     "end_time": "2022-08-02T09:08:15.953965",
     "exception": false,
     "start_time": "2022-08-02T09:08:14.985763",
     "status": "completed"
    },
    "tags": []
   },
   "outputs": [],
   "source": [
    "import pandas as pd\n",
    "import numpy as np\n",
    "import seaborn as sns\n",
    "import matplotlib.pyplot as plt\n",
    "import warnings\n",
    "warnings.filterwarnings(\"ignore\")\n",
    "\n",
    "plt.style.use('ggplot')"
   ]
  },
  {
   "attachments": {},
   "cell_type": "markdown",
   "id": "immune-muslim",
   "metadata": {
    "papermill": {
     "duration": 0.05917,
     "end_time": "2022-08-02T09:08:16.079248",
     "exception": false,
     "start_time": "2022-08-02T09:08:16.020078",
     "status": "completed"
    },
    "tags": []
   },
   "source": [
    "## Load the data"
   ]
  },
  {
   "cell_type": "code",
   "execution_count": 42,
   "id": "composite-french",
   "metadata": {
    "execution": {
     "iopub.execute_input": "2022-08-02T09:08:16.204017Z",
     "iopub.status.busy": "2022-08-02T09:08:16.203202Z",
     "iopub.status.idle": "2022-08-02T09:08:16.226617Z",
     "shell.execute_reply": "2022-08-02T09:08:16.227178Z",
     "shell.execute_reply.started": "2022-08-02T09:05:49.895207Z"
    },
    "papermill": {
     "duration": 0.08845,
     "end_time": "2022-08-02T09:08:16.227455",
     "exception": false,
     "start_time": "2022-08-02T09:08:16.139005",
     "status": "completed"
    },
    "tags": []
   },
   "outputs": [
    {
     "data": {
      "text/html": [
       "<div>\n",
       "<style scoped>\n",
       "    .dataframe tbody tr th:only-of-type {\n",
       "        vertical-align: middle;\n",
       "    }\n",
       "\n",
       "    .dataframe tbody tr th {\n",
       "        vertical-align: top;\n",
       "    }\n",
       "\n",
       "    .dataframe thead th {\n",
       "        text-align: right;\n",
       "    }\n",
       "</style>\n",
       "<table border=\"1\" class=\"dataframe\">\n",
       "  <thead>\n",
       "    <tr style=\"text-align: right;\">\n",
       "      <th></th>\n",
       "      <th>id</th>\n",
       "      <th>diagnosis</th>\n",
       "      <th>radius_mean</th>\n",
       "      <th>texture_mean</th>\n",
       "      <th>perimeter_mean</th>\n",
       "      <th>area_mean</th>\n",
       "      <th>smoothness_mean</th>\n",
       "      <th>compactness_mean</th>\n",
       "      <th>concavity_mean</th>\n",
       "      <th>concave points_mean</th>\n",
       "      <th>...</th>\n",
       "      <th>texture_worst</th>\n",
       "      <th>perimeter_worst</th>\n",
       "      <th>area_worst</th>\n",
       "      <th>smoothness_worst</th>\n",
       "      <th>compactness_worst</th>\n",
       "      <th>concavity_worst</th>\n",
       "      <th>concave points_worst</th>\n",
       "      <th>symmetry_worst</th>\n",
       "      <th>fractal_dimension_worst</th>\n",
       "      <th>Unnamed: 32</th>\n",
       "    </tr>\n",
       "  </thead>\n",
       "  <tbody>\n",
       "    <tr>\n",
       "      <th>0</th>\n",
       "      <td>842302</td>\n",
       "      <td>M</td>\n",
       "      <td>17.99</td>\n",
       "      <td>10.38</td>\n",
       "      <td>122.80</td>\n",
       "      <td>1001.0</td>\n",
       "      <td>0.11840</td>\n",
       "      <td>0.27760</td>\n",
       "      <td>0.3001</td>\n",
       "      <td>0.14710</td>\n",
       "      <td>...</td>\n",
       "      <td>17.33</td>\n",
       "      <td>184.60</td>\n",
       "      <td>2019.0</td>\n",
       "      <td>0.1622</td>\n",
       "      <td>0.6656</td>\n",
       "      <td>0.7119</td>\n",
       "      <td>0.2654</td>\n",
       "      <td>0.4601</td>\n",
       "      <td>0.11890</td>\n",
       "      <td>NaN</td>\n",
       "    </tr>\n",
       "    <tr>\n",
       "      <th>1</th>\n",
       "      <td>842517</td>\n",
       "      <td>M</td>\n",
       "      <td>20.57</td>\n",
       "      <td>17.77</td>\n",
       "      <td>132.90</td>\n",
       "      <td>1326.0</td>\n",
       "      <td>0.08474</td>\n",
       "      <td>0.07864</td>\n",
       "      <td>0.0869</td>\n",
       "      <td>0.07017</td>\n",
       "      <td>...</td>\n",
       "      <td>23.41</td>\n",
       "      <td>158.80</td>\n",
       "      <td>1956.0</td>\n",
       "      <td>0.1238</td>\n",
       "      <td>0.1866</td>\n",
       "      <td>0.2416</td>\n",
       "      <td>0.1860</td>\n",
       "      <td>0.2750</td>\n",
       "      <td>0.08902</td>\n",
       "      <td>NaN</td>\n",
       "    </tr>\n",
       "    <tr>\n",
       "      <th>2</th>\n",
       "      <td>84300903</td>\n",
       "      <td>M</td>\n",
       "      <td>19.69</td>\n",
       "      <td>21.25</td>\n",
       "      <td>130.00</td>\n",
       "      <td>1203.0</td>\n",
       "      <td>0.10960</td>\n",
       "      <td>0.15990</td>\n",
       "      <td>0.1974</td>\n",
       "      <td>0.12790</td>\n",
       "      <td>...</td>\n",
       "      <td>25.53</td>\n",
       "      <td>152.50</td>\n",
       "      <td>1709.0</td>\n",
       "      <td>0.1444</td>\n",
       "      <td>0.4245</td>\n",
       "      <td>0.4504</td>\n",
       "      <td>0.2430</td>\n",
       "      <td>0.3613</td>\n",
       "      <td>0.08758</td>\n",
       "      <td>NaN</td>\n",
       "    </tr>\n",
       "    <tr>\n",
       "      <th>3</th>\n",
       "      <td>84348301</td>\n",
       "      <td>M</td>\n",
       "      <td>11.42</td>\n",
       "      <td>20.38</td>\n",
       "      <td>77.58</td>\n",
       "      <td>386.1</td>\n",
       "      <td>0.14250</td>\n",
       "      <td>0.28390</td>\n",
       "      <td>0.2414</td>\n",
       "      <td>0.10520</td>\n",
       "      <td>...</td>\n",
       "      <td>26.50</td>\n",
       "      <td>98.87</td>\n",
       "      <td>567.7</td>\n",
       "      <td>0.2098</td>\n",
       "      <td>0.8663</td>\n",
       "      <td>0.6869</td>\n",
       "      <td>0.2575</td>\n",
       "      <td>0.6638</td>\n",
       "      <td>0.17300</td>\n",
       "      <td>NaN</td>\n",
       "    </tr>\n",
       "    <tr>\n",
       "      <th>4</th>\n",
       "      <td>84358402</td>\n",
       "      <td>M</td>\n",
       "      <td>20.29</td>\n",
       "      <td>14.34</td>\n",
       "      <td>135.10</td>\n",
       "      <td>1297.0</td>\n",
       "      <td>0.10030</td>\n",
       "      <td>0.13280</td>\n",
       "      <td>0.1980</td>\n",
       "      <td>0.10430</td>\n",
       "      <td>...</td>\n",
       "      <td>16.67</td>\n",
       "      <td>152.20</td>\n",
       "      <td>1575.0</td>\n",
       "      <td>0.1374</td>\n",
       "      <td>0.2050</td>\n",
       "      <td>0.4000</td>\n",
       "      <td>0.1625</td>\n",
       "      <td>0.2364</td>\n",
       "      <td>0.07678</td>\n",
       "      <td>NaN</td>\n",
       "    </tr>\n",
       "  </tbody>\n",
       "</table>\n",
       "<p>5 rows × 33 columns</p>\n",
       "</div>"
      ],
      "text/plain": [
       "         id diagnosis  radius_mean  texture_mean  perimeter_mean  area_mean  \\\n",
       "0    842302         M        17.99         10.38          122.80     1001.0   \n",
       "1    842517         M        20.57         17.77          132.90     1326.0   \n",
       "2  84300903         M        19.69         21.25          130.00     1203.0   \n",
       "3  84348301         M        11.42         20.38           77.58      386.1   \n",
       "4  84358402         M        20.29         14.34          135.10     1297.0   \n",
       "\n",
       "   smoothness_mean  compactness_mean  concavity_mean  concave points_mean  \\\n",
       "0          0.11840           0.27760          0.3001              0.14710   \n",
       "1          0.08474           0.07864          0.0869              0.07017   \n",
       "2          0.10960           0.15990          0.1974              0.12790   \n",
       "3          0.14250           0.28390          0.2414              0.10520   \n",
       "4          0.10030           0.13280          0.1980              0.10430   \n",
       "\n",
       "   ...  texture_worst  perimeter_worst  area_worst  smoothness_worst  \\\n",
       "0  ...          17.33           184.60      2019.0            0.1622   \n",
       "1  ...          23.41           158.80      1956.0            0.1238   \n",
       "2  ...          25.53           152.50      1709.0            0.1444   \n",
       "3  ...          26.50            98.87       567.7            0.2098   \n",
       "4  ...          16.67           152.20      1575.0            0.1374   \n",
       "\n",
       "   compactness_worst  concavity_worst  concave points_worst  symmetry_worst  \\\n",
       "0             0.6656           0.7119                0.2654          0.4601   \n",
       "1             0.1866           0.2416                0.1860          0.2750   \n",
       "2             0.4245           0.4504                0.2430          0.3613   \n",
       "3             0.8663           0.6869                0.2575          0.6638   \n",
       "4             0.2050           0.4000                0.1625          0.2364   \n",
       "\n",
       "   fractal_dimension_worst  Unnamed: 32  \n",
       "0                  0.11890          NaN  \n",
       "1                  0.08902          NaN  \n",
       "2                  0.08758          NaN  \n",
       "3                  0.17300          NaN  \n",
       "4                  0.07678          NaN  \n",
       "\n",
       "[5 rows x 33 columns]"
      ]
     },
     "execution_count": 42,
     "metadata": {},
     "output_type": "execute_result"
    }
   ],
   "source": [
    "df = pd.read_csv('D:/CapStone Project/Dumb/Models/Breast Cancer Dataset/data.csv')\n",
    "df.head()"
   ]
  },
  {
   "attachments": {},
   "cell_type": "markdown",
   "id": "willing-journey",
   "metadata": {
    "papermill": {
     "duration": 0.059375,
     "end_time": "2022-08-02T09:08:16.515452",
     "exception": false,
     "start_time": "2022-08-02T09:08:16.456077",
     "status": "completed"
    },
    "tags": []
   },
   "source": [
    "## Data Preprocessing"
   ]
  },
  {
   "attachments": {},
   "cell_type": "markdown",
   "id": "joint-repository",
   "metadata": {
    "papermill": {
     "duration": 0.059061,
     "end_time": "2022-08-02T09:08:16.633781",
     "exception": false,
     "start_time": "2022-08-02T09:08:16.574720",
     "status": "completed"
    },
    "tags": []
   },
   "source": [
    "1st we going to drop Id becouse it does not impact prediction\n",
    "and Unnamed: 32 becouse it have lots of missing values"
   ]
  },
  {
   "cell_type": "code",
   "execution_count": 43,
   "id": "defined-warren",
   "metadata": {
    "execution": {
     "iopub.execute_input": "2022-08-02T09:08:16.765649Z",
     "iopub.status.busy": "2022-08-02T09:08:16.759549Z",
     "iopub.status.idle": "2022-08-02T09:08:16.767915Z",
     "shell.execute_reply": "2022-08-02T09:08:16.768403Z",
     "shell.execute_reply.started": "2022-08-02T09:05:49.980584Z"
    },
    "papermill": {
     "duration": 0.072208,
     "end_time": "2022-08-02T09:08:16.768651",
     "exception": false,
     "start_time": "2022-08-02T09:08:16.696443",
     "status": "completed"
    },
    "tags": []
   },
   "outputs": [
    {
     "data": {
      "text/plain": [
       "array(['M', 'B'], dtype=object)"
      ]
     },
     "execution_count": 43,
     "metadata": {},
     "output_type": "execute_result"
    }
   ],
   "source": [
    "df.drop(['id', 'Unnamed: 32'], axis = 1, inplace = True)\n",
    "df.diagnosis.unique()"
   ]
  },
  {
   "attachments": {},
   "cell_type": "markdown",
   "id": "worldwide-attachment",
   "metadata": {
    "papermill": {
     "duration": 0.061097,
     "end_time": "2022-08-02T09:08:17.024477",
     "exception": false,
     "start_time": "2022-08-02T09:08:16.963380",
     "status": "completed"
    },
    "tags": []
   },
   "source": [
    "Diagnosis (M = malignant, B = benign)\n",
    "here we going to label encoding (M=1 & B=0)"
   ]
  },
  {
   "cell_type": "code",
   "execution_count": 44,
   "id": "empirical-skiing",
   "metadata": {
    "execution": {
     "iopub.execute_input": "2022-08-02T09:08:17.154099Z",
     "iopub.status.busy": "2022-08-02T09:08:17.153214Z",
     "iopub.status.idle": "2022-08-02T09:08:17.156292Z",
     "shell.execute_reply": "2022-08-02T09:08:17.155729Z",
     "shell.execute_reply.started": "2022-08-02T09:05:50.009379Z"
    },
    "papermill": {
     "duration": 0.07001,
     "end_time": "2022-08-02T09:08:17.156500",
     "exception": false,
     "start_time": "2022-08-02T09:08:17.086490",
     "status": "completed"
    },
    "tags": []
   },
   "outputs": [
    {
     "data": {
      "text/html": [
       "<div>\n",
       "<style scoped>\n",
       "    .dataframe tbody tr th:only-of-type {\n",
       "        vertical-align: middle;\n",
       "    }\n",
       "\n",
       "    .dataframe tbody tr th {\n",
       "        vertical-align: top;\n",
       "    }\n",
       "\n",
       "    .dataframe thead th {\n",
       "        text-align: right;\n",
       "    }\n",
       "</style>\n",
       "<table border=\"1\" class=\"dataframe\">\n",
       "  <thead>\n",
       "    <tr style=\"text-align: right;\">\n",
       "      <th></th>\n",
       "      <th>diagnosis</th>\n",
       "      <th>radius_mean</th>\n",
       "      <th>texture_mean</th>\n",
       "      <th>perimeter_mean</th>\n",
       "      <th>area_mean</th>\n",
       "      <th>smoothness_mean</th>\n",
       "      <th>compactness_mean</th>\n",
       "      <th>concavity_mean</th>\n",
       "      <th>concave points_mean</th>\n",
       "      <th>symmetry_mean</th>\n",
       "      <th>...</th>\n",
       "      <th>radius_worst</th>\n",
       "      <th>texture_worst</th>\n",
       "      <th>perimeter_worst</th>\n",
       "      <th>area_worst</th>\n",
       "      <th>smoothness_worst</th>\n",
       "      <th>compactness_worst</th>\n",
       "      <th>concavity_worst</th>\n",
       "      <th>concave points_worst</th>\n",
       "      <th>symmetry_worst</th>\n",
       "      <th>fractal_dimension_worst</th>\n",
       "    </tr>\n",
       "  </thead>\n",
       "  <tbody>\n",
       "    <tr>\n",
       "      <th>0</th>\n",
       "      <td>1</td>\n",
       "      <td>17.99</td>\n",
       "      <td>10.38</td>\n",
       "      <td>122.80</td>\n",
       "      <td>1001.0</td>\n",
       "      <td>0.11840</td>\n",
       "      <td>0.27760</td>\n",
       "      <td>0.3001</td>\n",
       "      <td>0.14710</td>\n",
       "      <td>0.2419</td>\n",
       "      <td>...</td>\n",
       "      <td>25.38</td>\n",
       "      <td>17.33</td>\n",
       "      <td>184.60</td>\n",
       "      <td>2019.0</td>\n",
       "      <td>0.1622</td>\n",
       "      <td>0.6656</td>\n",
       "      <td>0.7119</td>\n",
       "      <td>0.2654</td>\n",
       "      <td>0.4601</td>\n",
       "      <td>0.11890</td>\n",
       "    </tr>\n",
       "    <tr>\n",
       "      <th>1</th>\n",
       "      <td>1</td>\n",
       "      <td>20.57</td>\n",
       "      <td>17.77</td>\n",
       "      <td>132.90</td>\n",
       "      <td>1326.0</td>\n",
       "      <td>0.08474</td>\n",
       "      <td>0.07864</td>\n",
       "      <td>0.0869</td>\n",
       "      <td>0.07017</td>\n",
       "      <td>0.1812</td>\n",
       "      <td>...</td>\n",
       "      <td>24.99</td>\n",
       "      <td>23.41</td>\n",
       "      <td>158.80</td>\n",
       "      <td>1956.0</td>\n",
       "      <td>0.1238</td>\n",
       "      <td>0.1866</td>\n",
       "      <td>0.2416</td>\n",
       "      <td>0.1860</td>\n",
       "      <td>0.2750</td>\n",
       "      <td>0.08902</td>\n",
       "    </tr>\n",
       "    <tr>\n",
       "      <th>2</th>\n",
       "      <td>1</td>\n",
       "      <td>19.69</td>\n",
       "      <td>21.25</td>\n",
       "      <td>130.00</td>\n",
       "      <td>1203.0</td>\n",
       "      <td>0.10960</td>\n",
       "      <td>0.15990</td>\n",
       "      <td>0.1974</td>\n",
       "      <td>0.12790</td>\n",
       "      <td>0.2069</td>\n",
       "      <td>...</td>\n",
       "      <td>23.57</td>\n",
       "      <td>25.53</td>\n",
       "      <td>152.50</td>\n",
       "      <td>1709.0</td>\n",
       "      <td>0.1444</td>\n",
       "      <td>0.4245</td>\n",
       "      <td>0.4504</td>\n",
       "      <td>0.2430</td>\n",
       "      <td>0.3613</td>\n",
       "      <td>0.08758</td>\n",
       "    </tr>\n",
       "    <tr>\n",
       "      <th>3</th>\n",
       "      <td>1</td>\n",
       "      <td>11.42</td>\n",
       "      <td>20.38</td>\n",
       "      <td>77.58</td>\n",
       "      <td>386.1</td>\n",
       "      <td>0.14250</td>\n",
       "      <td>0.28390</td>\n",
       "      <td>0.2414</td>\n",
       "      <td>0.10520</td>\n",
       "      <td>0.2597</td>\n",
       "      <td>...</td>\n",
       "      <td>14.91</td>\n",
       "      <td>26.50</td>\n",
       "      <td>98.87</td>\n",
       "      <td>567.7</td>\n",
       "      <td>0.2098</td>\n",
       "      <td>0.8663</td>\n",
       "      <td>0.6869</td>\n",
       "      <td>0.2575</td>\n",
       "      <td>0.6638</td>\n",
       "      <td>0.17300</td>\n",
       "    </tr>\n",
       "    <tr>\n",
       "      <th>4</th>\n",
       "      <td>1</td>\n",
       "      <td>20.29</td>\n",
       "      <td>14.34</td>\n",
       "      <td>135.10</td>\n",
       "      <td>1297.0</td>\n",
       "      <td>0.10030</td>\n",
       "      <td>0.13280</td>\n",
       "      <td>0.1980</td>\n",
       "      <td>0.10430</td>\n",
       "      <td>0.1809</td>\n",
       "      <td>...</td>\n",
       "      <td>22.54</td>\n",
       "      <td>16.67</td>\n",
       "      <td>152.20</td>\n",
       "      <td>1575.0</td>\n",
       "      <td>0.1374</td>\n",
       "      <td>0.2050</td>\n",
       "      <td>0.4000</td>\n",
       "      <td>0.1625</td>\n",
       "      <td>0.2364</td>\n",
       "      <td>0.07678</td>\n",
       "    </tr>\n",
       "  </tbody>\n",
       "</table>\n",
       "<p>5 rows × 31 columns</p>\n",
       "</div>"
      ],
      "text/plain": [
       "   diagnosis  radius_mean  texture_mean  perimeter_mean  area_mean  \\\n",
       "0          1        17.99         10.38          122.80     1001.0   \n",
       "1          1        20.57         17.77          132.90     1326.0   \n",
       "2          1        19.69         21.25          130.00     1203.0   \n",
       "3          1        11.42         20.38           77.58      386.1   \n",
       "4          1        20.29         14.34          135.10     1297.0   \n",
       "\n",
       "   smoothness_mean  compactness_mean  concavity_mean  concave points_mean  \\\n",
       "0          0.11840           0.27760          0.3001              0.14710   \n",
       "1          0.08474           0.07864          0.0869              0.07017   \n",
       "2          0.10960           0.15990          0.1974              0.12790   \n",
       "3          0.14250           0.28390          0.2414              0.10520   \n",
       "4          0.10030           0.13280          0.1980              0.10430   \n",
       "\n",
       "   symmetry_mean  ...  radius_worst  texture_worst  perimeter_worst  \\\n",
       "0         0.2419  ...         25.38          17.33           184.60   \n",
       "1         0.1812  ...         24.99          23.41           158.80   \n",
       "2         0.2069  ...         23.57          25.53           152.50   \n",
       "3         0.2597  ...         14.91          26.50            98.87   \n",
       "4         0.1809  ...         22.54          16.67           152.20   \n",
       "\n",
       "   area_worst  smoothness_worst  compactness_worst  concavity_worst  \\\n",
       "0      2019.0            0.1622             0.6656           0.7119   \n",
       "1      1956.0            0.1238             0.1866           0.2416   \n",
       "2      1709.0            0.1444             0.4245           0.4504   \n",
       "3       567.7            0.2098             0.8663           0.6869   \n",
       "4      1575.0            0.1374             0.2050           0.4000   \n",
       "\n",
       "   concave points_worst  symmetry_worst  fractal_dimension_worst  \n",
       "0                0.2654          0.4601                  0.11890  \n",
       "1                0.1860          0.2750                  0.08902  \n",
       "2                0.2430          0.3613                  0.08758  \n",
       "3                0.2575          0.6638                  0.17300  \n",
       "4                0.1625          0.2364                  0.07678  \n",
       "\n",
       "[5 rows x 31 columns]"
      ]
     },
     "execution_count": 44,
     "metadata": {},
     "output_type": "execute_result"
    }
   ],
   "source": [
    "df['diagnosis'] = df['diagnosis'].apply(lambda val: 1 if val == 'M' else 0)\n",
    "df.head()"
   ]
  },
  {
   "cell_type": "code",
   "execution_count": 45,
   "id": "stupid-climate",
   "metadata": {
    "execution": {
     "iopub.execute_input": "2022-08-02T09:08:17.441285Z",
     "iopub.status.busy": "2022-08-02T09:08:17.440293Z",
     "iopub.status.idle": "2022-08-02T09:08:17.541375Z",
     "shell.execute_reply": "2022-08-02T09:08:17.540084Z",
     "shell.execute_reply.started": "2022-08-02T09:05:50.063179Z"
    },
    "papermill": {
     "duration": 0.168909,
     "end_time": "2022-08-02T09:08:17.541591",
     "exception": false,
     "start_time": "2022-08-02T09:08:17.372682",
     "status": "completed"
    },
    "tags": []
   },
   "outputs": [
    {
     "data": {
      "text/html": [
       "<div>\n",
       "<style scoped>\n",
       "    .dataframe tbody tr th:only-of-type {\n",
       "        vertical-align: middle;\n",
       "    }\n",
       "\n",
       "    .dataframe tbody tr th {\n",
       "        vertical-align: top;\n",
       "    }\n",
       "\n",
       "    .dataframe thead th {\n",
       "        text-align: right;\n",
       "    }\n",
       "</style>\n",
       "<table border=\"1\" class=\"dataframe\">\n",
       "  <thead>\n",
       "    <tr style=\"text-align: right;\">\n",
       "      <th></th>\n",
       "      <th>diagnosis</th>\n",
       "      <th>radius_mean</th>\n",
       "      <th>texture_mean</th>\n",
       "      <th>perimeter_mean</th>\n",
       "      <th>area_mean</th>\n",
       "      <th>smoothness_mean</th>\n",
       "      <th>compactness_mean</th>\n",
       "      <th>concavity_mean</th>\n",
       "      <th>concave points_mean</th>\n",
       "      <th>symmetry_mean</th>\n",
       "      <th>...</th>\n",
       "      <th>radius_worst</th>\n",
       "      <th>texture_worst</th>\n",
       "      <th>perimeter_worst</th>\n",
       "      <th>area_worst</th>\n",
       "      <th>smoothness_worst</th>\n",
       "      <th>compactness_worst</th>\n",
       "      <th>concavity_worst</th>\n",
       "      <th>concave points_worst</th>\n",
       "      <th>symmetry_worst</th>\n",
       "      <th>fractal_dimension_worst</th>\n",
       "    </tr>\n",
       "  </thead>\n",
       "  <tbody>\n",
       "    <tr>\n",
       "      <th>count</th>\n",
       "      <td>569.000000</td>\n",
       "      <td>569.000000</td>\n",
       "      <td>569.000000</td>\n",
       "      <td>569.000000</td>\n",
       "      <td>569.000000</td>\n",
       "      <td>569.000000</td>\n",
       "      <td>569.000000</td>\n",
       "      <td>569.000000</td>\n",
       "      <td>569.000000</td>\n",
       "      <td>569.000000</td>\n",
       "      <td>...</td>\n",
       "      <td>569.000000</td>\n",
       "      <td>569.000000</td>\n",
       "      <td>569.000000</td>\n",
       "      <td>569.000000</td>\n",
       "      <td>569.000000</td>\n",
       "      <td>569.000000</td>\n",
       "      <td>569.000000</td>\n",
       "      <td>569.000000</td>\n",
       "      <td>569.000000</td>\n",
       "      <td>569.000000</td>\n",
       "    </tr>\n",
       "    <tr>\n",
       "      <th>mean</th>\n",
       "      <td>0.372583</td>\n",
       "      <td>14.127292</td>\n",
       "      <td>19.289649</td>\n",
       "      <td>91.969033</td>\n",
       "      <td>654.889104</td>\n",
       "      <td>0.096360</td>\n",
       "      <td>0.104341</td>\n",
       "      <td>0.088799</td>\n",
       "      <td>0.048919</td>\n",
       "      <td>0.181162</td>\n",
       "      <td>...</td>\n",
       "      <td>16.269190</td>\n",
       "      <td>25.677223</td>\n",
       "      <td>107.261213</td>\n",
       "      <td>880.583128</td>\n",
       "      <td>0.132369</td>\n",
       "      <td>0.254265</td>\n",
       "      <td>0.272188</td>\n",
       "      <td>0.114606</td>\n",
       "      <td>0.290076</td>\n",
       "      <td>0.083946</td>\n",
       "    </tr>\n",
       "    <tr>\n",
       "      <th>std</th>\n",
       "      <td>0.483918</td>\n",
       "      <td>3.524049</td>\n",
       "      <td>4.301036</td>\n",
       "      <td>24.298981</td>\n",
       "      <td>351.914129</td>\n",
       "      <td>0.014064</td>\n",
       "      <td>0.052813</td>\n",
       "      <td>0.079720</td>\n",
       "      <td>0.038803</td>\n",
       "      <td>0.027414</td>\n",
       "      <td>...</td>\n",
       "      <td>4.833242</td>\n",
       "      <td>6.146258</td>\n",
       "      <td>33.602542</td>\n",
       "      <td>569.356993</td>\n",
       "      <td>0.022832</td>\n",
       "      <td>0.157336</td>\n",
       "      <td>0.208624</td>\n",
       "      <td>0.065732</td>\n",
       "      <td>0.061867</td>\n",
       "      <td>0.018061</td>\n",
       "    </tr>\n",
       "    <tr>\n",
       "      <th>min</th>\n",
       "      <td>0.000000</td>\n",
       "      <td>6.981000</td>\n",
       "      <td>9.710000</td>\n",
       "      <td>43.790000</td>\n",
       "      <td>143.500000</td>\n",
       "      <td>0.052630</td>\n",
       "      <td>0.019380</td>\n",
       "      <td>0.000000</td>\n",
       "      <td>0.000000</td>\n",
       "      <td>0.106000</td>\n",
       "      <td>...</td>\n",
       "      <td>7.930000</td>\n",
       "      <td>12.020000</td>\n",
       "      <td>50.410000</td>\n",
       "      <td>185.200000</td>\n",
       "      <td>0.071170</td>\n",
       "      <td>0.027290</td>\n",
       "      <td>0.000000</td>\n",
       "      <td>0.000000</td>\n",
       "      <td>0.156500</td>\n",
       "      <td>0.055040</td>\n",
       "    </tr>\n",
       "    <tr>\n",
       "      <th>25%</th>\n",
       "      <td>0.000000</td>\n",
       "      <td>11.700000</td>\n",
       "      <td>16.170000</td>\n",
       "      <td>75.170000</td>\n",
       "      <td>420.300000</td>\n",
       "      <td>0.086370</td>\n",
       "      <td>0.064920</td>\n",
       "      <td>0.029560</td>\n",
       "      <td>0.020310</td>\n",
       "      <td>0.161900</td>\n",
       "      <td>...</td>\n",
       "      <td>13.010000</td>\n",
       "      <td>21.080000</td>\n",
       "      <td>84.110000</td>\n",
       "      <td>515.300000</td>\n",
       "      <td>0.116600</td>\n",
       "      <td>0.147200</td>\n",
       "      <td>0.114500</td>\n",
       "      <td>0.064930</td>\n",
       "      <td>0.250400</td>\n",
       "      <td>0.071460</td>\n",
       "    </tr>\n",
       "    <tr>\n",
       "      <th>50%</th>\n",
       "      <td>0.000000</td>\n",
       "      <td>13.370000</td>\n",
       "      <td>18.840000</td>\n",
       "      <td>86.240000</td>\n",
       "      <td>551.100000</td>\n",
       "      <td>0.095870</td>\n",
       "      <td>0.092630</td>\n",
       "      <td>0.061540</td>\n",
       "      <td>0.033500</td>\n",
       "      <td>0.179200</td>\n",
       "      <td>...</td>\n",
       "      <td>14.970000</td>\n",
       "      <td>25.410000</td>\n",
       "      <td>97.660000</td>\n",
       "      <td>686.500000</td>\n",
       "      <td>0.131300</td>\n",
       "      <td>0.211900</td>\n",
       "      <td>0.226700</td>\n",
       "      <td>0.099930</td>\n",
       "      <td>0.282200</td>\n",
       "      <td>0.080040</td>\n",
       "    </tr>\n",
       "    <tr>\n",
       "      <th>75%</th>\n",
       "      <td>1.000000</td>\n",
       "      <td>15.780000</td>\n",
       "      <td>21.800000</td>\n",
       "      <td>104.100000</td>\n",
       "      <td>782.700000</td>\n",
       "      <td>0.105300</td>\n",
       "      <td>0.130400</td>\n",
       "      <td>0.130700</td>\n",
       "      <td>0.074000</td>\n",
       "      <td>0.195700</td>\n",
       "      <td>...</td>\n",
       "      <td>18.790000</td>\n",
       "      <td>29.720000</td>\n",
       "      <td>125.400000</td>\n",
       "      <td>1084.000000</td>\n",
       "      <td>0.146000</td>\n",
       "      <td>0.339100</td>\n",
       "      <td>0.382900</td>\n",
       "      <td>0.161400</td>\n",
       "      <td>0.317900</td>\n",
       "      <td>0.092080</td>\n",
       "    </tr>\n",
       "    <tr>\n",
       "      <th>max</th>\n",
       "      <td>1.000000</td>\n",
       "      <td>28.110000</td>\n",
       "      <td>39.280000</td>\n",
       "      <td>188.500000</td>\n",
       "      <td>2501.000000</td>\n",
       "      <td>0.163400</td>\n",
       "      <td>0.345400</td>\n",
       "      <td>0.426800</td>\n",
       "      <td>0.201200</td>\n",
       "      <td>0.304000</td>\n",
       "      <td>...</td>\n",
       "      <td>36.040000</td>\n",
       "      <td>49.540000</td>\n",
       "      <td>251.200000</td>\n",
       "      <td>4254.000000</td>\n",
       "      <td>0.222600</td>\n",
       "      <td>1.058000</td>\n",
       "      <td>1.252000</td>\n",
       "      <td>0.291000</td>\n",
       "      <td>0.663800</td>\n",
       "      <td>0.207500</td>\n",
       "    </tr>\n",
       "  </tbody>\n",
       "</table>\n",
       "<p>8 rows × 31 columns</p>\n",
       "</div>"
      ],
      "text/plain": [
       "        diagnosis  radius_mean  texture_mean  perimeter_mean    area_mean  \\\n",
       "count  569.000000   569.000000    569.000000      569.000000   569.000000   \n",
       "mean     0.372583    14.127292     19.289649       91.969033   654.889104   \n",
       "std      0.483918     3.524049      4.301036       24.298981   351.914129   \n",
       "min      0.000000     6.981000      9.710000       43.790000   143.500000   \n",
       "25%      0.000000    11.700000     16.170000       75.170000   420.300000   \n",
       "50%      0.000000    13.370000     18.840000       86.240000   551.100000   \n",
       "75%      1.000000    15.780000     21.800000      104.100000   782.700000   \n",
       "max      1.000000    28.110000     39.280000      188.500000  2501.000000   \n",
       "\n",
       "       smoothness_mean  compactness_mean  concavity_mean  concave points_mean  \\\n",
       "count       569.000000        569.000000      569.000000           569.000000   \n",
       "mean          0.096360          0.104341        0.088799             0.048919   \n",
       "std           0.014064          0.052813        0.079720             0.038803   \n",
       "min           0.052630          0.019380        0.000000             0.000000   \n",
       "25%           0.086370          0.064920        0.029560             0.020310   \n",
       "50%           0.095870          0.092630        0.061540             0.033500   \n",
       "75%           0.105300          0.130400        0.130700             0.074000   \n",
       "max           0.163400          0.345400        0.426800             0.201200   \n",
       "\n",
       "       symmetry_mean  ...  radius_worst  texture_worst  perimeter_worst  \\\n",
       "count     569.000000  ...    569.000000     569.000000       569.000000   \n",
       "mean        0.181162  ...     16.269190      25.677223       107.261213   \n",
       "std         0.027414  ...      4.833242       6.146258        33.602542   \n",
       "min         0.106000  ...      7.930000      12.020000        50.410000   \n",
       "25%         0.161900  ...     13.010000      21.080000        84.110000   \n",
       "50%         0.179200  ...     14.970000      25.410000        97.660000   \n",
       "75%         0.195700  ...     18.790000      29.720000       125.400000   \n",
       "max         0.304000  ...     36.040000      49.540000       251.200000   \n",
       "\n",
       "        area_worst  smoothness_worst  compactness_worst  concavity_worst  \\\n",
       "count   569.000000        569.000000         569.000000       569.000000   \n",
       "mean    880.583128          0.132369           0.254265         0.272188   \n",
       "std     569.356993          0.022832           0.157336         0.208624   \n",
       "min     185.200000          0.071170           0.027290         0.000000   \n",
       "25%     515.300000          0.116600           0.147200         0.114500   \n",
       "50%     686.500000          0.131300           0.211900         0.226700   \n",
       "75%    1084.000000          0.146000           0.339100         0.382900   \n",
       "max    4254.000000          0.222600           1.058000         1.252000   \n",
       "\n",
       "       concave points_worst  symmetry_worst  fractal_dimension_worst  \n",
       "count            569.000000      569.000000               569.000000  \n",
       "mean               0.114606        0.290076                 0.083946  \n",
       "std                0.065732        0.061867                 0.018061  \n",
       "min                0.000000        0.156500                 0.055040  \n",
       "25%                0.064930        0.250400                 0.071460  \n",
       "50%                0.099930        0.282200                 0.080040  \n",
       "75%                0.161400        0.317900                 0.092080  \n",
       "max                0.291000        0.663800                 0.207500  \n",
       "\n",
       "[8 rows x 31 columns]"
      ]
     },
     "execution_count": 45,
     "metadata": {},
     "output_type": "execute_result"
    }
   ],
   "source": [
    "df.describe()"
   ]
  },
  {
   "cell_type": "code",
   "execution_count": 46,
   "id": "assured-exchange",
   "metadata": {
    "execution": {
     "iopub.execute_input": "2022-08-02T09:08:17.686730Z",
     "iopub.status.busy": "2022-08-02T09:08:17.685479Z",
     "iopub.status.idle": "2022-08-02T09:08:17.691861Z",
     "shell.execute_reply": "2022-08-02T09:08:17.691071Z",
     "shell.execute_reply.started": "2022-08-02T09:05:50.201859Z"
    },
    "papermill": {
     "duration": 0.086987,
     "end_time": "2022-08-02T09:08:17.692041",
     "exception": false,
     "start_time": "2022-08-02T09:08:17.605054",
     "status": "completed"
    },
    "tags": []
   },
   "outputs": [
    {
     "name": "stdout",
     "output_type": "stream",
     "text": [
      "<class 'pandas.core.frame.DataFrame'>\n",
      "RangeIndex: 569 entries, 0 to 568\n",
      "Data columns (total 31 columns):\n",
      " #   Column                   Non-Null Count  Dtype  \n",
      "---  ------                   --------------  -----  \n",
      " 0   diagnosis                569 non-null    int64  \n",
      " 1   radius_mean              569 non-null    float64\n",
      " 2   texture_mean             569 non-null    float64\n",
      " 3   perimeter_mean           569 non-null    float64\n",
      " 4   area_mean                569 non-null    float64\n",
      " 5   smoothness_mean          569 non-null    float64\n",
      " 6   compactness_mean         569 non-null    float64\n",
      " 7   concavity_mean           569 non-null    float64\n",
      " 8   concave points_mean      569 non-null    float64\n",
      " 9   symmetry_mean            569 non-null    float64\n",
      " 10  fractal_dimension_mean   569 non-null    float64\n",
      " 11  radius_se                569 non-null    float64\n",
      " 12  texture_se               569 non-null    float64\n",
      " 13  perimeter_se             569 non-null    float64\n",
      " 14  area_se                  569 non-null    float64\n",
      " 15  smoothness_se            569 non-null    float64\n",
      " 16  compactness_se           569 non-null    float64\n",
      " 17  concavity_se             569 non-null    float64\n",
      " 18  concave points_se        569 non-null    float64\n",
      " 19  symmetry_se              569 non-null    float64\n",
      " 20  fractal_dimension_se     569 non-null    float64\n",
      " 21  radius_worst             569 non-null    float64\n",
      " 22  texture_worst            569 non-null    float64\n",
      " 23  perimeter_worst          569 non-null    float64\n",
      " 24  area_worst               569 non-null    float64\n",
      " 25  smoothness_worst         569 non-null    float64\n",
      " 26  compactness_worst        569 non-null    float64\n",
      " 27  concavity_worst          569 non-null    float64\n",
      " 28  concave points_worst     569 non-null    float64\n",
      " 29  symmetry_worst           569 non-null    float64\n",
      " 30  fractal_dimension_worst  569 non-null    float64\n",
      "dtypes: float64(30), int64(1)\n",
      "memory usage: 137.9 KB\n"
     ]
    }
   ],
   "source": [
    "df.info()"
   ]
  },
  {
   "attachments": {},
   "cell_type": "markdown",
   "id": "regulation-chemical",
   "metadata": {
    "papermill": {
     "duration": 0.061775,
     "end_time": "2022-08-02T09:08:17.815847",
     "exception": false,
     "start_time": "2022-08-02T09:08:17.754072",
     "status": "completed"
    },
    "tags": []
   },
   "source": [
    "**Using info() we can see three is no Nan values and all features are numerical**"
   ]
  },
  {
   "cell_type": "code",
   "execution_count": 47,
   "id": "alternate-cleanup",
   "metadata": {
    "execution": {
     "iopub.execute_input": "2022-08-02T09:08:17.944348Z",
     "iopub.status.busy": "2022-08-02T09:08:17.943618Z",
     "iopub.status.idle": "2022-08-02T09:08:17.948988Z",
     "shell.execute_reply": "2022-08-02T09:08:17.949622Z",
     "shell.execute_reply.started": "2022-08-02T09:05:50.224039Z"
    },
    "papermill": {
     "duration": 0.072217,
     "end_time": "2022-08-02T09:08:17.949828",
     "exception": false,
     "start_time": "2022-08-02T09:08:17.877611",
     "status": "completed"
    },
    "tags": []
   },
   "outputs": [
    {
     "data": {
      "text/plain": [
       "(569, 31)"
      ]
     },
     "execution_count": 47,
     "metadata": {},
     "output_type": "execute_result"
    }
   ],
   "source": [
    "df.shape"
   ]
  },
  {
   "attachments": {},
   "cell_type": "markdown",
   "id": "ready-artwork",
   "metadata": {
    "papermill": {
     "duration": 0.062055,
     "end_time": "2022-08-02T09:08:18.216699",
     "exception": false,
     "start_time": "2022-08-02T09:08:18.154644",
     "status": "completed"
    },
    "tags": []
   },
   "source": [
    "So here you can see three is no duplicate value found"
   ]
  },
  {
   "cell_type": "code",
   "execution_count": 48,
   "id": "military-simpson",
   "metadata": {
    "execution": {
     "iopub.execute_input": "2022-08-02T09:08:36.131020Z",
     "iopub.status.busy": "2022-08-02T09:08:36.130133Z",
     "iopub.status.idle": "2022-08-02T09:08:36.147087Z",
     "shell.execute_reply": "2022-08-02T09:08:36.147661Z",
     "shell.execute_reply.started": "2022-08-02T09:06:05.997552Z"
    },
    "papermill": {
     "duration": 0.114194,
     "end_time": "2022-08-02T09:08:36.147919",
     "exception": false,
     "start_time": "2022-08-02T09:08:36.033725",
     "status": "completed"
    },
    "tags": []
   },
   "outputs": [
    {
     "name": "stdout",
     "output_type": "stream",
     "text": [
      "The reduced dataframe has 23 columns.\n"
     ]
    }
   ],
   "source": [
    "# removing highly correlated features\n",
    "\n",
    "corr_matrix = df.corr().abs() \n",
    "\n",
    "mask = np.triu(np.ones_like(corr_matrix, dtype = bool))\n",
    "tri_df = corr_matrix.mask(mask)\n",
    "\n",
    "to_drop = [x for x in tri_df.columns if any(tri_df[x] > 0.92)]\n",
    "\n",
    "df = df.drop(to_drop, axis = 1)\n",
    "\n",
    "print(f\"The reduced dataframe has {df.shape[1]} columns.\")"
   ]
  },
  {
   "attachments": {},
   "cell_type": "markdown",
   "id": "signal-strengthening",
   "metadata": {
    "papermill": {
     "duration": 0.091123,
     "end_time": "2022-08-02T09:08:36.331043",
     "exception": false,
     "start_time": "2022-08-02T09:08:36.239920",
     "status": "completed"
    },
    "tags": []
   },
   "source": [
    "#  dealing with Outliers"
   ]
  },
  {
   "cell_type": "code",
   "execution_count": 49,
   "id": "valuable-mount",
   "metadata": {
    "execution": {
     "iopub.execute_input": "2022-08-02T09:08:36.520686Z",
     "iopub.status.busy": "2022-08-02T09:08:36.519886Z",
     "iopub.status.idle": "2022-08-02T09:08:37.067860Z",
     "shell.execute_reply": "2022-08-02T09:08:37.067182Z",
     "shell.execute_reply.started": "2022-08-02T09:06:06.027523Z"
    },
    "papermill": {
     "duration": 0.647187,
     "end_time": "2022-08-02T09:08:37.068051",
     "exception": false,
     "start_time": "2022-08-02T09:08:36.420864",
     "status": "completed"
    },
    "tags": []
   },
   "outputs": [],
   "source": [
    "def mod_outlier(df):\n",
    "        df1 = df.copy()\n",
    "        df = df._get_numeric_data()\n",
    "\n",
    "\n",
    "        q1 = df.quantile(0.25)\n",
    "        q3 = df.quantile(0.75)\n",
    "\n",
    "        iqr = q3 - q1\n",
    "\n",
    "        lower_bound = q1 -(1.5 * iqr) \n",
    "        upper_bound = q3 +(1.5 * iqr)\n",
    "\n",
    "\n",
    "        for col in df.columns:\n",
    "            for i in range(0,len(df[col])):\n",
    "                if df[col][i] < lower_bound[col]:            \n",
    "                    df[col][i] = lower_bound[col]\n",
    "\n",
    "                if df[col][i] > upper_bound[col]:            \n",
    "                    df[col][i] = upper_bound[col]    \n",
    "\n",
    "\n",
    "        for col in df.columns:\n",
    "            df1[col] = df[col]\n",
    "\n",
    "        return(df1)\n",
    "\n",
    "df = mod_outlier(df)"
   ]
  },
  {
   "cell_type": "code",
   "execution_count": 50,
   "id": "different-thirty",
   "metadata": {
    "execution": {
     "iopub.execute_input": "2022-08-02T09:08:37.259964Z",
     "iopub.status.busy": "2022-08-02T09:08:37.259166Z",
     "iopub.status.idle": "2022-08-02T09:08:37.262608Z",
     "shell.execute_reply": "2022-08-02T09:08:37.261982Z",
     "shell.execute_reply.started": "2022-08-02T09:06:06.578200Z"
    },
    "papermill": {
     "duration": 0.103832,
     "end_time": "2022-08-02T09:08:37.262780",
     "exception": false,
     "start_time": "2022-08-02T09:08:37.158948",
     "status": "completed"
    },
    "tags": []
   },
   "outputs": [],
   "source": [
    "# creating features and label \n",
    "\n",
    "X = df.drop('diagnosis', axis = 1)\n",
    "y = df['diagnosis']"
   ]
  },
  {
   "cell_type": "code",
   "execution_count": 51,
   "id": "opening-saskatchewan",
   "metadata": {
    "execution": {
     "iopub.execute_input": "2022-08-02T09:08:37.454087Z",
     "iopub.status.busy": "2022-08-02T09:08:37.453312Z",
     "iopub.status.idle": "2022-08-02T09:08:37.665459Z",
     "shell.execute_reply": "2022-08-02T09:08:37.664818Z",
     "shell.execute_reply.started": "2022-08-02T09:06:06.587714Z"
    },
    "papermill": {
     "duration": 0.310319,
     "end_time": "2022-08-02T09:08:37.665646",
     "exception": false,
     "start_time": "2022-08-02T09:08:37.355327",
     "status": "completed"
    },
    "tags": []
   },
   "outputs": [],
   "source": [
    "# splitting data into training and test set\n",
    "\n",
    "from sklearn.model_selection import train_test_split\n",
    "\n",
    "X_train, X_test, y_train, y_test = train_test_split(X, y, test_size = 0.30, random_state = 0)"
   ]
  },
  {
   "attachments": {},
   "cell_type": "markdown",
   "id": "beginning-theater",
   "metadata": {
    "papermill": {
     "duration": 0.090692,
     "end_time": "2022-08-02T09:08:37.846202",
     "exception": false,
     "start_time": "2022-08-02T09:08:37.755510",
     "status": "completed"
    },
    "tags": []
   },
   "source": [
    "**using StandardScaler to scal the data**"
   ]
  },
  {
   "cell_type": "code",
   "execution_count": 52,
   "id": "racial-asthma",
   "metadata": {
    "execution": {
     "iopub.execute_input": "2022-08-02T09:08:38.056310Z",
     "iopub.status.busy": "2022-08-02T09:08:38.055593Z",
     "iopub.status.idle": "2022-08-02T09:08:38.064524Z",
     "shell.execute_reply": "2022-08-02T09:08:38.063787Z",
     "shell.execute_reply.started": "2022-08-02T09:06:06.835808Z"
    },
    "papermill": {
     "duration": 0.116003,
     "end_time": "2022-08-02T09:08:38.064690",
     "exception": false,
     "start_time": "2022-08-02T09:08:37.948687",
     "status": "completed"
    },
    "tags": []
   },
   "outputs": [],
   "source": [
    "# scaling data\n",
    "\n",
    "from sklearn.preprocessing import StandardScaler\n",
    "\n",
    "scaler = StandardScaler()\n",
    "\n",
    "X_train = scaler.fit_transform(X_train)\n",
    "X_test = scaler.transform(X_test)"
   ]
  },
  {
   "attachments": {},
   "cell_type": "markdown",
   "id": "boolean-volleyball",
   "metadata": {
    "papermill": {
     "duration": 0.088998,
     "end_time": "2022-08-02T09:08:38.242597",
     "exception": false,
     "start_time": "2022-08-02T09:08:38.153599",
     "status": "completed"
    },
    "tags": []
   },
   "source": [
    "# Logistic Regression"
   ]
  },
  {
   "cell_type": "code",
   "execution_count": 53,
   "id": "rising-municipality",
   "metadata": {
    "execution": {
     "iopub.execute_input": "2022-08-02T09:08:38.429391Z",
     "iopub.status.busy": "2022-08-02T09:08:38.428673Z",
     "iopub.status.idle": "2022-08-02T09:08:38.547839Z",
     "shell.execute_reply": "2022-08-02T09:08:38.548328Z",
     "shell.execute_reply.started": "2022-08-02T09:06:06.852161Z"
    },
    "papermill": {
     "duration": 0.215543,
     "end_time": "2022-08-02T09:08:38.548575",
     "exception": false,
     "start_time": "2022-08-02T09:08:38.333032",
     "status": "completed"
    },
    "tags": []
   },
   "outputs": [
    {
     "name": "stdout",
     "output_type": "stream",
     "text": [
      "0.9899497487437185\n",
      "0.9766081871345029\n"
     ]
    }
   ],
   "source": [
    "# fitting data to model\n",
    "\n",
    "from sklearn.linear_model import LogisticRegression\n",
    "\n",
    "log_reg = LogisticRegression()\n",
    "log_reg.fit(X_train, y_train)\n",
    "# model predictions\n",
    "\n",
    "y_pred = log_reg.predict(X_test)\n",
    "# accuracy score\n",
    "\n",
    "from sklearn.metrics import accuracy_score, confusion_matrix, classification_report\n",
    "\n",
    "print(accuracy_score(y_train, log_reg.predict(X_train)))\n",
    "\n",
    "log_reg_acc = accuracy_score(y_test, log_reg.predict(X_test))\n",
    "print(log_reg_acc)\n"
   ]
  },
  {
   "cell_type": "code",
   "execution_count": 54,
   "id": "4b13ac15",
   "metadata": {},
   "outputs": [
    {
     "name": "stdout",
     "output_type": "stream",
     "text": [
      "[[107   1]\n",
      " [  3  60]]\n"
     ]
    }
   ],
   "source": [
    "print(confusion_matrix(y_test, y_pred))"
   ]
  },
  {
   "cell_type": "code",
   "execution_count": 55,
   "id": "f39e1d07",
   "metadata": {},
   "outputs": [
    {
     "name": "stdout",
     "output_type": "stream",
     "text": [
      "              precision    recall  f1-score   support\n",
      "\n",
      "           0       0.97      0.99      0.98       108\n",
      "           1       0.98      0.95      0.97        63\n",
      "\n",
      "    accuracy                           0.98       171\n",
      "   macro avg       0.98      0.97      0.97       171\n",
      "weighted avg       0.98      0.98      0.98       171\n",
      "\n"
     ]
    }
   ],
   "source": [
    "print(classification_report(y_test, y_pred))"
   ]
  },
  {
   "attachments": {},
   "cell_type": "markdown",
   "id": "clear-cloud",
   "metadata": {
    "papermill": {
     "duration": 0.090289,
     "end_time": "2022-08-02T09:08:39.513389",
     "exception": false,
     "start_time": "2022-08-02T09:08:39.423100",
     "status": "completed"
    },
    "tags": []
   },
   "source": [
    "# K Neighbors Classifier (KNN)"
   ]
  },
  {
   "cell_type": "code",
   "execution_count": 56,
   "id": "institutional-membership",
   "metadata": {
    "execution": {
     "iopub.execute_input": "2022-08-02T09:08:39.703642Z",
     "iopub.status.busy": "2022-08-02T09:08:39.702621Z",
     "iopub.status.idle": "2022-08-02T09:08:39.787388Z",
     "shell.execute_reply": "2022-08-02T09:08:39.787987Z",
     "shell.execute_reply.started": "2022-08-02T09:06:07.045605Z"
    },
    "papermill": {
     "duration": 0.182006,
     "end_time": "2022-08-02T09:08:39.788201",
     "exception": false,
     "start_time": "2022-08-02T09:08:39.606195",
     "status": "completed"
    },
    "tags": []
   },
   "outputs": [
    {
     "name": "stdout",
     "output_type": "stream",
     "text": [
      "0.9698492462311558\n",
      "0.935672514619883\n"
     ]
    }
   ],
   "source": [
    "from sklearn.neighbors import KNeighborsClassifier\n",
    "\n",
    "knn = KNeighborsClassifier()\n",
    "knn.fit(X_train, y_train)\n",
    "# model predictions \n",
    "\n",
    "y_pred = knn.predict(X_test)\n",
    "# accuracy score\n",
    "\n",
    "print(accuracy_score(y_train, knn.predict(X_train)))\n",
    "\n",
    "knn_acc = accuracy_score(y_test, knn.predict(X_test))\n",
    "print(knn_acc)"
   ]
  },
  {
   "cell_type": "code",
   "execution_count": 57,
   "id": "hundred-subscription",
   "metadata": {
    "execution": {
     "iopub.execute_input": "2022-08-02T09:08:39.980610Z",
     "iopub.status.busy": "2022-08-02T09:08:39.979567Z",
     "iopub.status.idle": "2022-08-02T09:08:40.003324Z",
     "shell.execute_reply": "2022-08-02T09:08:40.004211Z",
     "shell.execute_reply.started": "2022-08-02T09:06:07.136603Z"
    },
    "papermill": {
     "duration": 0.121494,
     "end_time": "2022-08-02T09:08:40.004550",
     "exception": false,
     "start_time": "2022-08-02T09:08:39.883056",
     "status": "completed"
    },
    "tags": []
   },
   "outputs": [
    {
     "name": "stdout",
     "output_type": "stream",
     "text": [
      "[[105   3]\n",
      " [  8  55]]\n"
     ]
    }
   ],
   "source": [
    "print(confusion_matrix(y_test, y_pred))"
   ]
  },
  {
   "cell_type": "code",
   "execution_count": 58,
   "id": "immune-dominant",
   "metadata": {
    "execution": {
     "iopub.execute_input": "2022-08-02T09:08:40.236025Z",
     "iopub.status.busy": "2022-08-02T09:08:40.234887Z",
     "iopub.status.idle": "2022-08-02T09:08:40.279940Z",
     "shell.execute_reply": "2022-08-02T09:08:40.280744Z",
     "shell.execute_reply.started": "2022-08-02T09:06:07.173092Z"
    },
    "papermill": {
     "duration": 0.144133,
     "end_time": "2022-08-02T09:08:40.281058",
     "exception": false,
     "start_time": "2022-08-02T09:08:40.136925",
     "status": "completed"
    },
    "tags": []
   },
   "outputs": [
    {
     "name": "stdout",
     "output_type": "stream",
     "text": [
      "              precision    recall  f1-score   support\n",
      "\n",
      "           0       0.93      0.97      0.95       108\n",
      "           1       0.95      0.87      0.91        63\n",
      "\n",
      "    accuracy                           0.94       171\n",
      "   macro avg       0.94      0.92      0.93       171\n",
      "weighted avg       0.94      0.94      0.94       171\n",
      "\n"
     ]
    }
   ],
   "source": [
    "# classification report\n",
    "\n",
    "print(classification_report(y_test, y_pred))"
   ]
  },
  {
   "attachments": {},
   "cell_type": "markdown",
   "id": "competent-serve",
   "metadata": {
    "papermill": {
     "duration": 0.095027,
     "end_time": "2022-08-02T09:08:40.908768",
     "exception": false,
     "start_time": "2022-08-02T09:08:40.813741",
     "status": "completed"
    },
    "tags": []
   },
   "source": [
    "# Support Vector Classifier (SVC)"
   ]
  },
  {
   "cell_type": "code",
   "execution_count": 59,
   "id": "first-bubble",
   "metadata": {
    "execution": {
     "iopub.execute_input": "2022-08-02T09:08:41.109305Z",
     "iopub.status.busy": "2022-08-02T09:08:41.108490Z",
     "iopub.status.idle": "2022-08-02T09:08:42.254156Z",
     "shell.execute_reply": "2022-08-02T09:08:42.254691Z",
     "shell.execute_reply.started": "2022-08-02T09:06:07.311631Z"
    },
    "papermill": {
     "duration": 1.245124,
     "end_time": "2022-08-02T09:08:42.254910",
     "exception": false,
     "start_time": "2022-08-02T09:08:41.009786",
     "status": "completed"
    },
    "tags": []
   },
   "outputs": [
    {
     "data": {
      "text/plain": [
       "GridSearchCV(estimator=SVC(),\n",
       "             param_grid={'C': [0.01, 0.05, 0.5, 0.1, 1, 10, 15, 20],\n",
       "                         'gamma': [0.0001, 0.001, 0.01, 0.1]})"
      ]
     },
     "execution_count": 59,
     "metadata": {},
     "output_type": "execute_result"
    }
   ],
   "source": [
    "from sklearn.svm import SVC\n",
    "from sklearn.model_selection import GridSearchCV\n",
    "\n",
    "svc = SVC()\n",
    "parameters = {\n",
    "    'gamma' : [0.0001, 0.001, 0.01, 0.1],\n",
    "    'C' : [0.01, 0.05, 0.5, 0.1, 1, 10, 15, 20]\n",
    "}\n",
    "\n",
    "grid_search = GridSearchCV(svc, parameters)\n",
    "grid_search.fit(X_train, y_train)"
   ]
  },
  {
   "cell_type": "code",
   "execution_count": 60,
   "id": "above-photographer",
   "metadata": {
    "execution": {
     "iopub.execute_input": "2022-08-02T09:08:42.445373Z",
     "iopub.status.busy": "2022-08-02T09:08:42.444669Z",
     "iopub.status.idle": "2022-08-02T09:08:42.449531Z",
     "shell.execute_reply": "2022-08-02T09:08:42.450001Z",
     "shell.execute_reply.started": "2022-08-02T09:06:08.568390Z"
    },
    "papermill": {
     "duration": 0.101386,
     "end_time": "2022-08-02T09:08:42.450202",
     "exception": false,
     "start_time": "2022-08-02T09:08:42.348816",
     "status": "completed"
    },
    "tags": []
   },
   "outputs": [
    {
     "data": {
      "text/plain": [
       "{'C': 15, 'gamma': 0.01}"
      ]
     },
     "execution_count": 60,
     "metadata": {},
     "output_type": "execute_result"
    }
   ],
   "source": [
    "# best parameters\n",
    "\n",
    "grid_search.best_params_"
   ]
  },
  {
   "cell_type": "code",
   "execution_count": 61,
   "id": "stock-generator",
   "metadata": {
    "execution": {
     "iopub.execute_input": "2022-08-02T09:08:42.639490Z",
     "iopub.status.busy": "2022-08-02T09:08:42.638719Z",
     "iopub.status.idle": "2022-08-02T09:08:42.648366Z",
     "shell.execute_reply": "2022-08-02T09:08:42.648968Z",
     "shell.execute_reply.started": "2022-08-02T09:06:08.577430Z"
    },
    "papermill": {
     "duration": 0.105922,
     "end_time": "2022-08-02T09:08:42.649196",
     "exception": false,
     "start_time": "2022-08-02T09:08:42.543274",
     "status": "completed"
    },
    "tags": []
   },
   "outputs": [
    {
     "data": {
      "text/plain": [
       "SVC(C=15, gamma=0.01)"
      ]
     },
     "execution_count": 61,
     "metadata": {},
     "output_type": "execute_result"
    }
   ],
   "source": [
    "svc = SVC(C = 15, gamma = 0.01)\n",
    "svc.fit(X_train, y_train)"
   ]
  },
  {
   "cell_type": "code",
   "execution_count": 62,
   "id": "raising-collection",
   "metadata": {
    "execution": {
     "iopub.execute_input": "2022-08-02T09:08:42.841110Z",
     "iopub.status.busy": "2022-08-02T09:08:42.840345Z",
     "iopub.status.idle": "2022-08-02T09:08:42.845319Z",
     "shell.execute_reply": "2022-08-02T09:08:42.845900Z",
     "shell.execute_reply.started": "2022-08-02T09:06:08.597545Z"
    },
    "papermill": {
     "duration": 0.102714,
     "end_time": "2022-08-02T09:08:42.846110",
     "exception": false,
     "start_time": "2022-08-02T09:08:42.743396",
     "status": "completed"
    },
    "tags": []
   },
   "outputs": [
    {
     "name": "stdout",
     "output_type": "stream",
     "text": [
      "0.9899497487437185\n",
      "0.9883040935672515\n"
     ]
    }
   ],
   "source": [
    "# model predictions \n",
    "\n",
    "y_pred = svc.predict(X_test)\n",
    "\n",
    "# accuracy score\n",
    "print(accuracy_score(y_train, svc.predict(X_train)))\n",
    "\n",
    "svc_acc = accuracy_score(y_test, svc.predict(X_test))\n",
    "print(svc_acc)"
   ]
  },
  {
   "cell_type": "code",
   "execution_count": 63,
   "id": "medieval-comparison",
   "metadata": {
    "execution": {
     "iopub.execute_input": "2022-08-02T09:08:43.243702Z",
     "iopub.status.busy": "2022-08-02T09:08:43.242650Z",
     "iopub.status.idle": "2022-08-02T09:08:43.473266Z",
     "shell.execute_reply": "2022-08-02T09:08:43.472488Z",
     "shell.execute_reply.started": "2022-08-02T09:06:08.625079Z"
    },
    "papermill": {
     "duration": 0.328585,
     "end_time": "2022-08-02T09:08:43.473467",
     "exception": false,
     "start_time": "2022-08-02T09:08:43.144882",
     "status": "completed"
    },
    "tags": []
   },
   "outputs": [
    {
     "name": "stdout",
     "output_type": "stream",
     "text": [
      "[[108   0]\n",
      " [  2  61]]\n"
     ]
    },
    {
     "data": {
      "image/png": "[encoded data removed]",
      "text/plain": [
       "<Figure size 1000x1000 with 2 Axes>"
      ]
     },
     "metadata": {},
     "output_type": "display_data"
    }
   ],
   "source": [
    "# confusion matrix\n",
    "cf_matrix=confusion_matrix(y_test, y_pred)\n",
    "plt.figure(figsize=(10,10))\n",
    "sns.heatmap(cf_matrix,annot=True,fmt='d')\n",
    "print(confusion_matrix(y_test, y_pred))"
   ]
  },
  {
   "cell_type": "code",
   "execution_count": 64,
   "id": "dietary-phase",
   "metadata": {
    "execution": {
     "iopub.execute_input": "2022-08-02T09:08:43.675306Z",
     "iopub.status.busy": "2022-08-02T09:08:43.674198Z",
     "iopub.status.idle": "2022-08-02T09:08:43.684093Z",
     "shell.execute_reply": "2022-08-02T09:08:43.684765Z",
     "shell.execute_reply.started": "2022-08-02T09:06:08.910473Z"
    },
    "papermill": {
     "duration": 0.113592,
     "end_time": "2022-08-02T09:08:43.685030",
     "exception": false,
     "start_time": "2022-08-02T09:08:43.571438",
     "status": "completed"
    },
    "tags": []
   },
   "outputs": [
    {
     "name": "stdout",
     "output_type": "stream",
     "text": [
      "              precision    recall  f1-score   support\n",
      "\n",
      "           0       0.98      1.00      0.99       108\n",
      "           1       1.00      0.97      0.98        63\n",
      "\n",
      "    accuracy                           0.99       171\n",
      "   macro avg       0.99      0.98      0.99       171\n",
      "weighted avg       0.99      0.99      0.99       171\n",
      "\n"
     ]
    }
   ],
   "source": [
    "# classification report\n",
    "print(classification_report(y_test, y_pred))"
   ]
  },
  {
   "attachments": {},
   "cell_type": "markdown",
   "id": "unable-joint",
   "metadata": {
    "papermill": {
     "duration": 0.098625,
     "end_time": "2022-08-02T09:08:47.917745",
     "exception": false,
     "start_time": "2022-08-02T09:08:47.819120",
     "status": "completed"
    },
    "tags": []
   },
   "source": [
    "# Random Forest Classifier"
   ]
  },
  {
   "cell_type": "code",
   "execution_count": 65,
   "id": "signed-medicaid",
   "metadata": {
    "execution": {
     "iopub.execute_input": "2022-08-02T09:08:48.120082Z",
     "iopub.status.busy": "2022-08-02T09:08:48.119061Z",
     "iopub.status.idle": "2022-08-02T09:08:48.497747Z",
     "shell.execute_reply": "2022-08-02T09:08:48.497013Z",
     "shell.execute_reply.started": "2022-08-02T09:06:12.163020Z"
    },
    "papermill": {
     "duration": 0.481824,
     "end_time": "2022-08-02T09:08:48.497917",
     "exception": false,
     "start_time": "2022-08-02T09:08:48.016093",
     "status": "completed"
    },
    "tags": []
   },
   "outputs": [
    {
     "data": {
      "text/plain": [
       "RandomForestClassifier(criterion='entropy', max_depth=11, min_samples_leaf=2,\n",
       "                       min_samples_split=3, n_estimators=130)"
      ]
     },
     "execution_count": 65,
     "metadata": {},
     "output_type": "execute_result"
    }
   ],
   "source": [
    "from sklearn.ensemble import RandomForestClassifier\n",
    "\n",
    "rand_clf = RandomForestClassifier(criterion = 'entropy', max_depth = 11, max_features = 'auto',\n",
    "                                  min_samples_leaf = 2, min_samples_split = 3, n_estimators = 130)\n",
    "rand_clf.fit(X_train, y_train)"
   ]
  },
  {
   "cell_type": "code",
   "execution_count": 66,
   "id": "behind-donna",
   "metadata": {
    "execution": {
     "iopub.execute_input": "2022-08-02T09:08:48.702549Z",
     "iopub.status.busy": "2022-08-02T09:08:48.700692Z",
     "iopub.status.idle": "2022-08-02T09:08:48.718205Z",
     "shell.execute_reply": "2022-08-02T09:08:48.718798Z",
     "shell.execute_reply.started": "2022-08-02T09:06:12.525746Z"
    },
    "papermill": {
     "duration": 0.122205,
     "end_time": "2022-08-02T09:08:48.719016",
     "exception": false,
     "start_time": "2022-08-02T09:08:48.596811",
     "status": "completed"
    },
    "tags": []
   },
   "outputs": [],
   "source": [
    "y_pred = rand_clf.predict(X_test)"
   ]
  },
  {
   "cell_type": "code",
   "execution_count": 67,
   "id": "macro-thomas",
   "metadata": {
    "execution": {
     "iopub.execute_input": "2022-08-02T09:08:48.941442Z",
     "iopub.status.busy": "2022-08-02T09:08:48.940266Z",
     "iopub.status.idle": "2022-08-02T09:08:48.967024Z",
     "shell.execute_reply": "2022-08-02T09:08:48.967745Z",
     "shell.execute_reply.started": "2022-08-02T09:06:12.549386Z"
    },
    "papermill": {
     "duration": 0.145988,
     "end_time": "2022-08-02T09:08:48.968036",
     "exception": false,
     "start_time": "2022-08-02T09:08:48.822048",
     "status": "completed"
    },
    "tags": []
   },
   "outputs": [
    {
     "name": "stdout",
     "output_type": "stream",
     "text": [
      "0.9974874371859297\n",
      "0.9707602339181286\n"
     ]
    }
   ],
   "source": [
    "# accuracy score\n",
    "\n",
    "print(accuracy_score(y_train, rand_clf.predict(X_train)))\n",
    "\n",
    "ran_clf_acc = accuracy_score(y_test, y_pred)\n",
    "print(ran_clf_acc)"
   ]
  },
  {
   "cell_type": "code",
   "execution_count": 68,
   "id": "recent-suffering",
   "metadata": {
    "execution": {
     "iopub.execute_input": "2022-08-02T09:08:49.173236Z",
     "iopub.status.busy": "2022-08-02T09:08:49.172205Z",
     "iopub.status.idle": "2022-08-02T09:08:49.183654Z",
     "shell.execute_reply": "2022-08-02T09:08:49.183024Z",
     "shell.execute_reply.started": "2022-08-02T09:06:12.579936Z"
    },
    "papermill": {
     "duration": 0.113414,
     "end_time": "2022-08-02T09:08:49.183844",
     "exception": false,
     "start_time": "2022-08-02T09:08:49.070430",
     "status": "completed"
    },
    "tags": []
   },
   "outputs": [
    {
     "name": "stdout",
     "output_type": "stream",
     "text": [
      "              precision    recall  f1-score   support\n",
      "\n",
      "           0       0.96      0.99      0.98       108\n",
      "           1       0.98      0.94      0.96        63\n",
      "\n",
      "    accuracy                           0.97       171\n",
      "   macro avg       0.97      0.96      0.97       171\n",
      "weighted avg       0.97      0.97      0.97       171\n",
      "\n"
     ]
    }
   ],
   "source": [
    "# classification report\n",
    "\n",
    "print(classification_report(y_test, y_pred))"
   ]
  },
  {
   "attachments": {},
   "cell_type": "markdown",
   "id": "contrary-presence",
   "metadata": {
    "papermill": {
     "duration": 0.100558,
     "end_time": "2022-08-02T09:08:49.383562",
     "exception": false,
     "start_time": "2022-08-02T09:08:49.283004",
     "status": "completed"
    },
    "tags": []
   },
   "source": [
    "# Gradient Boosting Classifier"
   ]
  },
  {
   "cell_type": "code",
   "execution_count": 69,
   "id": "loving-committee",
   "metadata": {
    "execution": {
     "iopub.execute_input": "2022-08-02T09:08:49.586899Z",
     "iopub.status.busy": "2022-08-02T09:08:49.585893Z",
     "iopub.status.idle": "2022-08-02T09:09:12.726505Z",
     "shell.execute_reply": "2022-08-02T09:09:12.725701Z",
     "shell.execute_reply.started": "2022-08-02T09:06:12.592553Z"
    },
    "papermill": {
     "duration": 23.242919,
     "end_time": "2022-08-02T09:09:12.726690",
     "exception": false,
     "start_time": "2022-08-02T09:08:49.483771",
     "status": "completed"
    },
    "tags": []
   },
   "outputs": [
    {
     "name": "stdout",
     "output_type": "stream",
     "text": [
      "Fitting 5 folds for each of 32 candidates, totalling 160 fits\n"
     ]
    },
    {
     "data": {
      "text/plain": [
       "GridSearchCV(cv=5, estimator=GradientBoostingClassifier(), n_jobs=-1,\n",
       "             param_grid={'learning_rate': [0.001, 0.1, 1, 10],\n",
       "                         'loss': ['deviance', 'exponential'],\n",
       "                         'n_estimators': [100, 150, 180, 200]},\n",
       "             verbose=1)"
      ]
     },
     "execution_count": 69,
     "metadata": {},
     "output_type": "execute_result"
    }
   ],
   "source": [
    "from sklearn.ensemble import GradientBoostingClassifier\n",
    "\n",
    "gbc = GradientBoostingClassifier()\n",
    "\n",
    "parameters = {\n",
    "    'loss': ['deviance', 'exponential'],\n",
    "    'learning_rate': [0.001, 0.1, 1, 10],\n",
    "    'n_estimators': [100, 150, 180, 200]\n",
    "}\n",
    "\n",
    "grid_search_gbc = GridSearchCV(gbc, parameters, cv = 5, n_jobs = -1, verbose = 1)\n",
    "grid_search_gbc.fit(X_train, y_train)"
   ]
  },
  {
   "cell_type": "code",
   "execution_count": 70,
   "id": "eight-permit",
   "metadata": {
    "execution": {
     "iopub.execute_input": "2022-08-02T09:09:12.930988Z",
     "iopub.status.busy": "2022-08-02T09:09:12.930203Z",
     "iopub.status.idle": "2022-08-02T09:09:12.933086Z",
     "shell.execute_reply": "2022-08-02T09:09:12.933633Z",
     "shell.execute_reply.started": "2022-08-02T09:06:36.104382Z"
    },
    "papermill": {
     "duration": 0.10788,
     "end_time": "2022-08-02T09:09:12.933829",
     "exception": false,
     "start_time": "2022-08-02T09:09:12.825949",
     "status": "completed"
    },
    "tags": []
   },
   "outputs": [
    {
     "data": {
      "text/plain": [
       "{'learning_rate': 1, 'loss': 'exponential', 'n_estimators': 200}"
      ]
     },
     "execution_count": 70,
     "metadata": {},
     "output_type": "execute_result"
    }
   ],
   "source": [
    "# best parameters \n",
    "\n",
    "grid_search_gbc.best_params_"
   ]
  },
  {
   "cell_type": "code",
   "execution_count": 71,
   "id": "institutional-editor",
   "metadata": {
    "execution": {
     "iopub.execute_input": "2022-08-02T09:09:13.137631Z",
     "iopub.status.busy": "2022-08-02T09:09:13.136881Z",
     "iopub.status.idle": "2022-08-02T09:09:13.654628Z",
     "shell.execute_reply": "2022-08-02T09:09:13.655104Z",
     "shell.execute_reply.started": "2022-08-02T09:06:36.118045Z"
    },
    "papermill": {
     "duration": 0.621062,
     "end_time": "2022-08-02T09:09:13.655336",
     "exception": false,
     "start_time": "2022-08-02T09:09:13.034274",
     "status": "completed"
    },
    "tags": []
   },
   "outputs": [
    {
     "data": {
      "text/plain": [
       "GradientBoostingClassifier(learning_rate=1, loss='exponential',\n",
       "                           n_estimators=180)"
      ]
     },
     "execution_count": 71,
     "metadata": {},
     "output_type": "execute_result"
    }
   ],
   "source": [
    "gbc = GradientBoostingClassifier(learning_rate = 1, loss = 'exponential', n_estimators = 180)\n",
    "gbc.fit(X_train, y_train)"
   ]
  },
  {
   "cell_type": "code",
   "execution_count": 72,
   "id": "advised-sharp",
   "metadata": {
    "execution": {
     "iopub.execute_input": "2022-08-02T09:09:13.858248Z",
     "iopub.status.busy": "2022-08-02T09:09:13.857466Z",
     "iopub.status.idle": "2022-08-02T09:09:13.864044Z",
     "shell.execute_reply": "2022-08-02T09:09:13.864857Z",
     "shell.execute_reply.started": "2022-08-02T09:06:36.692368Z"
    },
    "papermill": {
     "duration": 0.110817,
     "end_time": "2022-08-02T09:09:13.865121",
     "exception": false,
     "start_time": "2022-08-02T09:09:13.754304",
     "status": "completed"
    },
    "tags": []
   },
   "outputs": [],
   "source": [
    "y_pred = gbc.predict(X_test)"
   ]
  },
  {
   "cell_type": "code",
   "execution_count": 73,
   "id": "traditional-service",
   "metadata": {
    "execution": {
     "iopub.execute_input": "2022-08-02T09:09:14.076021Z",
     "iopub.status.busy": "2022-08-02T09:09:14.075278Z",
     "iopub.status.idle": "2022-08-02T09:09:14.085742Z",
     "shell.execute_reply": "2022-08-02T09:09:14.084938Z",
     "shell.execute_reply.started": "2022-08-02T09:06:36.701389Z"
    },
    "papermill": {
     "duration": 0.117098,
     "end_time": "2022-08-02T09:09:14.085970",
     "exception": false,
     "start_time": "2022-08-02T09:09:13.968872",
     "status": "completed"
    },
    "tags": []
   },
   "outputs": [
    {
     "name": "stdout",
     "output_type": "stream",
     "text": [
      "1.0\n",
      "0.9883040935672515\n"
     ]
    }
   ],
   "source": [
    "# accuracy score\n",
    "\n",
    "print(accuracy_score(y_train, gbc.predict(X_train)))\n",
    "\n",
    "gbc_acc = accuracy_score(y_test, y_pred)\n",
    "print(gbc_acc)"
   ]
  },
  {
   "cell_type": "code",
   "execution_count": 74,
   "id": "athletic-provincial",
   "metadata": {
    "execution": {
     "iopub.execute_input": "2022-08-02T09:09:14.293980Z",
     "iopub.status.busy": "2022-08-02T09:09:14.293249Z",
     "iopub.status.idle": "2022-08-02T09:09:14.303533Z",
     "shell.execute_reply": "2022-08-02T09:09:14.304153Z",
     "shell.execute_reply.started": "2022-08-02T09:06:36.721835Z"
    },
    "papermill": {
     "duration": 0.115744,
     "end_time": "2022-08-02T09:09:14.304374",
     "exception": false,
     "start_time": "2022-08-02T09:09:14.188630",
     "status": "completed"
    },
    "tags": []
   },
   "outputs": [
    {
     "name": "stdout",
     "output_type": "stream",
     "text": [
      "              precision    recall  f1-score   support\n",
      "\n",
      "           0       0.99      0.99      0.99       108\n",
      "           1       0.98      0.98      0.98        63\n",
      "\n",
      "    accuracy                           0.99       171\n",
      "   macro avg       0.99      0.99      0.99       171\n",
      "weighted avg       0.99      0.99      0.99       171\n",
      "\n"
     ]
    }
   ],
   "source": [
    "# classification report\n",
    "\n",
    "print(classification_report(y_test, y_pred))"
   ]
  },
  {
   "cell_type": "code",
   "execution_count": 75,
   "id": "64eb7fe7",
   "metadata": {},
   "outputs": [
    {
     "name": "stdout",
     "output_type": "stream",
     "text": [
      "Accuracy of DecisionTreeClassifier: 94.73684210526315 \n",
      "\n",
      "              precision    recall  f1-score   support\n",
      "\n",
      "           0       0.97      0.94      0.96       108\n",
      "           1       0.91      0.95      0.93        63\n",
      "\n",
      "    accuracy                           0.95       171\n",
      "   macro avg       0.94      0.95      0.94       171\n",
      "weighted avg       0.95      0.95      0.95       171\n",
      "\n"
     ]
    }
   ],
   "source": [
    "from sklearn.tree import DecisionTreeClassifier\n",
    "DecisionTree = 'DecisionTreeClassifier'\n",
    "dt = DecisionTreeClassifier(criterion = 'entropy',random_state=0,max_depth = 6)\n",
    "dt.fit(X_train, y_train)\n",
    "dt_predicted = dt.predict(X_test)\n",
    "dt_conf_matrix = confusion_matrix(y_test, dt_predicted)\n",
    "dt_acc_score = accuracy_score(y_test, dt_predicted)\n",
    "print(\"Accuracy of DecisionTreeClassifier:\",dt_acc_score*100,'\\n')\n",
    "print(classification_report(y_test,dt_predicted))"
   ]
  },
  {
   "cell_type": "code",
   "execution_count": 76,
   "id": "massive-direction",
   "metadata": {
    "execution": {
     "iopub.execute_input": "2022-08-02T09:09:15.853255Z",
     "iopub.status.busy": "2022-08-02T09:09:15.852504Z",
     "iopub.status.idle": "2022-08-02T09:09:15.866805Z",
     "shell.execute_reply": "2022-08-02T09:09:15.867394Z",
     "shell.execute_reply.started": "2022-08-02T09:06:36.987646Z"
    },
    "papermill": {
     "duration": 0.120509,
     "end_time": "2022-08-02T09:09:15.867628",
     "exception": false,
     "start_time": "2022-08-02T09:09:15.747119",
     "status": "completed"
    },
    "tags": []
   },
   "outputs": [
    {
     "data": {
      "text/html": [
       "<div>\n",
       "<style scoped>\n",
       "    .dataframe tbody tr th:only-of-type {\n",
       "        vertical-align: middle;\n",
       "    }\n",
       "\n",
       "    .dataframe tbody tr th {\n",
       "        vertical-align: top;\n",
       "    }\n",
       "\n",
       "    .dataframe thead th {\n",
       "        text-align: right;\n",
       "    }\n",
       "</style>\n",
       "<table border=\"1\" class=\"dataframe\">\n",
       "  <thead>\n",
       "    <tr style=\"text-align: right;\">\n",
       "      <th></th>\n",
       "      <th>Model</th>\n",
       "      <th>Accuracy</th>\n",
       "    </tr>\n",
       "  </thead>\n",
       "  <tbody>\n",
       "    <tr>\n",
       "      <th>0</th>\n",
       "      <td>Logistic Regression</td>\n",
       "      <td>97.660819</td>\n",
       "    </tr>\n",
       "    <tr>\n",
       "      <th>3</th>\n",
       "      <td>Random Forest Classifier</td>\n",
       "      <td>97.076023</td>\n",
       "    </tr>\n",
       "    <tr>\n",
       "      <th>2</th>\n",
       "      <td>SVC</td>\n",
       "      <td>96.830409</td>\n",
       "    </tr>\n",
       "    <tr>\n",
       "      <th>4</th>\n",
       "      <td>Gradient Boosting Classifier</td>\n",
       "      <td>96.830409</td>\n",
       "    </tr>\n",
       "    <tr>\n",
       "      <th>5</th>\n",
       "      <td>DecisionTree</td>\n",
       "      <td>94.736842</td>\n",
       "    </tr>\n",
       "    <tr>\n",
       "      <th>1</th>\n",
       "      <td>KNN</td>\n",
       "      <td>93.567251</td>\n",
       "    </tr>\n",
       "  </tbody>\n",
       "</table>\n",
       "</div>"
      ],
      "text/plain": [
       "                          Model   Accuracy\n",
       "0           Logistic Regression  97.660819\n",
       "3      Random Forest Classifier  97.076023\n",
       "2                           SVC  96.830409\n",
       "4  Gradient Boosting Classifier  96.830409\n",
       "5                  DecisionTree  94.736842\n",
       "1                           KNN  93.567251"
      ]
     },
     "execution_count": 76,
     "metadata": {},
     "output_type": "execute_result"
    }
   ],
   "source": [
    "models = pd.DataFrame({\n",
    "    'Model': ['Logistic Regression', 'KNN', 'SVC', 'Random Forest Classifier', \n",
    "            'Gradient Boosting Classifier','DecisionTree'],\n",
    "    'Accuracy': [log_reg_acc*100, knn_acc*100, svc_acc*100,ran_clf_acc*100, gbc_acc*100,dt_acc_score*100]\n",
    "})\n",
    "\n",
    "models.sort_values(by = 'Accuracy', ascending = False)"
   ]
  },
  {
   "cell_type": "code",
   "execution_count": 77,
   "id": "a75a8ffa",
   "metadata": {},
   "outputs": [
    {
     "data": {
      "image/png": "[encoded data removed]",
      "text/plain": [
       "<Figure size 2000x400 with 1 Axes>"
      ]
     },
     "metadata": {},
     "output_type": "display_data"
    }
   ],
   "source": [
    "import matplotlib.pyplot as plt\n",
    "colors = ['red','green','blue','gold','silver','yellow','orange',]\n",
    "plt.figure(figsize=(20,4))\n",
    "plt.title(\"barplot Represent Accuracy of different models\")\n",
    "plt.xlabel(\"Accuracy %\")\n",
    "plt.ylabel(\"Algorithms\")\n",
    "plt.bar(models['Model'],models['Accuracy'],color = colors)\n",
    "plt.show()"
   ]
  },
  {
   "attachments": {},
   "cell_type": "markdown",
   "id": "65b046a6",
   "metadata": {},
   "source": [
    "ENSEMBLE MODEL"
   ]
  },
  {
   "cell_type": "code",
   "execution_count": 78,
   "id": "068240b6",
   "metadata": {},
   "outputs": [
    {
     "name": "stdout",
     "output_type": "stream",
     "text": [
      "confussion matrix\n",
      "[[108   0]\n",
      " [  2  61]]\n",
      "\n",
      "\n",
      "Accuracy of StackingCVClassifier: 98.83040935672514 \n",
      "\n",
      "              precision    recall  f1-score   support\n",
      "\n",
      "           0       0.98      1.00      0.99       108\n",
      "           1       1.00      0.97      0.98        63\n",
      "\n",
      "    accuracy                           0.99       171\n",
      "   macro avg       0.99      0.98      0.99       171\n",
      "weighted avg       0.99      0.99      0.99       171\n",
      "\n"
     ]
    }
   ],
   "source": [
    "from mlxtend.classifier import StackingCVClassifier\n",
    "scv=StackingCVClassifier(classifiers=[gbc,knn,svc],meta_classifier= svc,random_state=42)\n",
    "scv.fit(X_train,y_train)\n",
    "scv_predicted = scv.predict(X_test)\n",
    "scv_conf_matrix = confusion_matrix(y_test, scv_predicted)\n",
    "scv_acc_score = accuracy_score(y_test, scv_predicted)\n",
    "print(\"confussion matrix\")\n",
    "print(scv_conf_matrix)\n",
    "print(\"\\n\")\n",
    "print(\"Accuracy of StackingCVClassifier:\",scv_acc_score*100,'\\n')\n",
    "print(classification_report(y_test,scv_predicted))\n",
    "\n",
    "import pickle\n",
    "pickle.dump(scv, open('cancer.pkl', 'wb'))"
   ]
  }
 ],
 "metadata": {
  "kernelspec": {
   "display_name": "Python 3",
   "language": "python",
   "name": "python3"
  },
  "language_info": {
   "codemirror_mode": {
    "name": "ipython",
    "version": 3
   },
   "file_extension": ".py",
   "mimetype": "text/x-python",
   "name": "python",
   "nbconvert_exporter": "python",
   "pygments_lexer": "ipython3",
   "version": "3.9.13"
  },
  "papermill": {
   "default_parameters": {},
   "duration": 72.121438,
   "end_time": "2022-08-02T09:09:18.370624",
   "environment_variables": {},
   "exception": null,
   "input_path": "__notebook__.ipynb",
   "output_path": "__notebook__.ipynb",
   "parameters": {},
   "start_time": "2022-08-02T09:08:06.249186",
   "version": "2.3.3"
  }
 },
 "nbformat": 4,
 "nbformat_minor": 5
}
