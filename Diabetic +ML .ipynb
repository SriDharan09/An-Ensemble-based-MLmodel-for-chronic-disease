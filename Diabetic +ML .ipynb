{
 "cells": [
  {
   "cell_type": "code",
   "execution_count": 1,
   "id": "6b324701",
   "metadata": {
    "_cell_guid": "b1076dfc-b9ad-4769-8c92-a6c4dae69d19",
    "_uuid": "8f2839f25d086af736a60e9eeb907d3b93b6e0e5",
    "execution": {
     "iopub.execute_input": "2022-11-10T15:31:45.291097Z",
     "iopub.status.busy": "2022-11-10T15:31:45.290697Z",
     "iopub.status.idle": "2022-11-10T15:31:46.861970Z",
     "shell.execute_reply": "2022-11-10T15:31:46.860440Z"
    },
    "papermill": {
     "duration": 1.599205,
     "end_time": "2022-11-10T15:31:46.864742",
     "exception": false,
     "start_time": "2022-11-10T15:31:45.265537",
     "status": "completed"
    },
    "tags": []
   },
   "outputs": [],
   "source": [
    "import numpy as np # linear algebra\n",
    "import pandas as pd # data processing\n",
    "import matplotlib.pyplot as plt\n",
    "import seaborn as sns\n",
    "from random import randint\n",
    "from sklearn.model_selection import train_test_split\n",
    "from sklearn.preprocessing import MinMaxScaler, StandardScaler\n",
    "from sklearn.linear_model import LogisticRegression\n",
    "from sklearn.neighbors import KNeighborsClassifier\n",
    "from sklearn.tree import DecisionTreeClassifier\n",
    "from sklearn.svm import SVC\n",
    "from sklearn.ensemble import RandomForestClassifier\n",
    "from sklearn.naive_bayes import GaussianNB\n",
    "from sklearn.ensemble import GradientBoostingClassifier\n",
    "from sklearn.metrics import confusion_matrix,accuracy_score,classification_report\n",
    "from sklearn.tree import plot_tree"
   ]
  },
  {
   "cell_type": "code",
   "execution_count": 2,
   "id": "fcdc38e9",
   "metadata": {
    "execution": {
     "iopub.execute_input": "2022-11-10T15:31:46.912066Z",
     "iopub.status.busy": "2022-11-10T15:31:46.911136Z",
     "iopub.status.idle": "2022-11-10T15:31:46.931962Z",
     "shell.execute_reply": "2022-11-10T15:31:46.930744Z"
    },
    "papermill": {
     "duration": 0.047002,
     "end_time": "2022-11-10T15:31:46.934380",
     "exception": false,
     "start_time": "2022-11-10T15:31:46.887378",
     "status": "completed"
    },
    "tags": []
   },
   "outputs": [],
   "source": [
    "# read the dataset\n",
    "df = pd.read_csv('D:/CapStone Project/Dumb/Models/Diabetic Dataset/diabetes.csv')"
   ]
  },
  {
   "cell_type": "code",
   "execution_count": 3,
   "id": "0ca9c6a0",
   "metadata": {
    "execution": {
     "iopub.execute_input": "2022-11-10T15:31:46.982548Z",
     "iopub.status.busy": "2022-11-10T15:31:46.982139Z",
     "iopub.status.idle": "2022-11-10T15:31:47.005832Z",
     "shell.execute_reply": "2022-11-10T15:31:47.004208Z"
    },
    "papermill": {
     "duration": 0.049895,
     "end_time": "2022-11-10T15:31:47.008080",
     "exception": false,
     "start_time": "2022-11-10T15:31:46.958185",
     "status": "completed"
    },
    "tags": []
   },
   "outputs": [
    {
     "data": {
      "text/html": [
       "<div>\n",
       "<style scoped>\n",
       "    .dataframe tbody tr th:only-of-type {\n",
       "        vertical-align: middle;\n",
       "    }\n",
       "\n",
       "    .dataframe tbody tr th {\n",
       "        vertical-align: top;\n",
       "    }\n",
       "\n",
       "    .dataframe thead th {\n",
       "        text-align: right;\n",
       "    }\n",
       "</style>\n",
       "<table border=\"1\" class=\"dataframe\">\n",
       "  <thead>\n",
       "    <tr style=\"text-align: right;\">\n",
       "      <th></th>\n",
       "      <th>Pregnancies</th>\n",
       "      <th>Glucose</th>\n",
       "      <th>BloodPressure</th>\n",
       "      <th>SkinThickness</th>\n",
       "      <th>Insulin</th>\n",
       "      <th>BMI</th>\n",
       "      <th>DiabetesPedigreeFunction</th>\n",
       "      <th>Age</th>\n",
       "      <th>Outcome</th>\n",
       "    </tr>\n",
       "  </thead>\n",
       "  <tbody>\n",
       "    <tr>\n",
       "      <th>0</th>\n",
       "      <td>6</td>\n",
       "      <td>148</td>\n",
       "      <td>72</td>\n",
       "      <td>35</td>\n",
       "      <td>0</td>\n",
       "      <td>33.6</td>\n",
       "      <td>0.627</td>\n",
       "      <td>50</td>\n",
       "      <td>1</td>\n",
       "    </tr>\n",
       "    <tr>\n",
       "      <th>1</th>\n",
       "      <td>1</td>\n",
       "      <td>85</td>\n",
       "      <td>66</td>\n",
       "      <td>29</td>\n",
       "      <td>0</td>\n",
       "      <td>26.6</td>\n",
       "      <td>0.351</td>\n",
       "      <td>31</td>\n",
       "      <td>0</td>\n",
       "    </tr>\n",
       "    <tr>\n",
       "      <th>2</th>\n",
       "      <td>8</td>\n",
       "      <td>183</td>\n",
       "      <td>64</td>\n",
       "      <td>0</td>\n",
       "      <td>0</td>\n",
       "      <td>23.3</td>\n",
       "      <td>0.672</td>\n",
       "      <td>32</td>\n",
       "      <td>1</td>\n",
       "    </tr>\n",
       "    <tr>\n",
       "      <th>3</th>\n",
       "      <td>1</td>\n",
       "      <td>89</td>\n",
       "      <td>66</td>\n",
       "      <td>23</td>\n",
       "      <td>94</td>\n",
       "      <td>28.1</td>\n",
       "      <td>0.167</td>\n",
       "      <td>21</td>\n",
       "      <td>0</td>\n",
       "    </tr>\n",
       "    <tr>\n",
       "      <th>4</th>\n",
       "      <td>0</td>\n",
       "      <td>137</td>\n",
       "      <td>40</td>\n",
       "      <td>35</td>\n",
       "      <td>168</td>\n",
       "      <td>43.1</td>\n",
       "      <td>2.288</td>\n",
       "      <td>33</td>\n",
       "      <td>1</td>\n",
       "    </tr>\n",
       "  </tbody>\n",
       "</table>\n",
       "</div>"
      ],
      "text/plain": [
       "   Pregnancies  Glucose  BloodPressure  SkinThickness  Insulin   BMI  \\\n",
       "0            6      148             72             35        0  33.6   \n",
       "1            1       85             66             29        0  26.6   \n",
       "2            8      183             64              0        0  23.3   \n",
       "3            1       89             66             23       94  28.1   \n",
       "4            0      137             40             35      168  43.1   \n",
       "\n",
       "   DiabetesPedigreeFunction  Age  Outcome  \n",
       "0                     0.627   50        1  \n",
       "1                     0.351   31        0  \n",
       "2                     0.672   32        1  \n",
       "3                     0.167   21        0  \n",
       "4                     2.288   33        1  "
      ]
     },
     "execution_count": 3,
     "metadata": {},
     "output_type": "execute_result"
    }
   ],
   "source": [
    "# show the data\n",
    "df.head()"
   ]
  },
  {
   "cell_type": "code",
   "execution_count": 4,
   "id": "200e340a",
   "metadata": {
    "execution": {
     "iopub.execute_input": "2022-11-10T15:31:47.055375Z",
     "iopub.status.busy": "2022-11-10T15:31:47.055014Z",
     "iopub.status.idle": "2022-11-10T15:31:47.067114Z",
     "shell.execute_reply": "2022-11-10T15:31:47.066285Z"
    },
    "papermill": {
     "duration": 0.038023,
     "end_time": "2022-11-10T15:31:47.068936",
     "exception": false,
     "start_time": "2022-11-10T15:31:47.030913",
     "status": "completed"
    },
    "tags": []
   },
   "outputs": [
    {
     "data": {
      "text/html": [
       "<div>\n",
       "<style scoped>\n",
       "    .dataframe tbody tr th:only-of-type {\n",
       "        vertical-align: middle;\n",
       "    }\n",
       "\n",
       "    .dataframe tbody tr th {\n",
       "        vertical-align: top;\n",
       "    }\n",
       "\n",
       "    .dataframe thead th {\n",
       "        text-align: right;\n",
       "    }\n",
       "</style>\n",
       "<table border=\"1\" class=\"dataframe\">\n",
       "  <thead>\n",
       "    <tr style=\"text-align: right;\">\n",
       "      <th></th>\n",
       "      <th>Pregnancies</th>\n",
       "      <th>Glucose</th>\n",
       "      <th>BloodPressure</th>\n",
       "      <th>SkinThickness</th>\n",
       "      <th>Insulin</th>\n",
       "      <th>BMI</th>\n",
       "      <th>DiabetesPedigreeFunction</th>\n",
       "      <th>Age</th>\n",
       "      <th>Outcome</th>\n",
       "    </tr>\n",
       "  </thead>\n",
       "  <tbody>\n",
       "    <tr>\n",
       "      <th>763</th>\n",
       "      <td>10</td>\n",
       "      <td>101</td>\n",
       "      <td>76</td>\n",
       "      <td>48</td>\n",
       "      <td>180</td>\n",
       "      <td>32.9</td>\n",
       "      <td>0.171</td>\n",
       "      <td>63</td>\n",
       "      <td>0</td>\n",
       "    </tr>\n",
       "    <tr>\n",
       "      <th>764</th>\n",
       "      <td>2</td>\n",
       "      <td>122</td>\n",
       "      <td>70</td>\n",
       "      <td>27</td>\n",
       "      <td>0</td>\n",
       "      <td>36.8</td>\n",
       "      <td>0.340</td>\n",
       "      <td>27</td>\n",
       "      <td>0</td>\n",
       "    </tr>\n",
       "    <tr>\n",
       "      <th>765</th>\n",
       "      <td>5</td>\n",
       "      <td>121</td>\n",
       "      <td>72</td>\n",
       "      <td>23</td>\n",
       "      <td>112</td>\n",
       "      <td>26.2</td>\n",
       "      <td>0.245</td>\n",
       "      <td>30</td>\n",
       "      <td>0</td>\n",
       "    </tr>\n",
       "    <tr>\n",
       "      <th>766</th>\n",
       "      <td>1</td>\n",
       "      <td>126</td>\n",
       "      <td>60</td>\n",
       "      <td>0</td>\n",
       "      <td>0</td>\n",
       "      <td>30.1</td>\n",
       "      <td>0.349</td>\n",
       "      <td>47</td>\n",
       "      <td>1</td>\n",
       "    </tr>\n",
       "    <tr>\n",
       "      <th>767</th>\n",
       "      <td>1</td>\n",
       "      <td>93</td>\n",
       "      <td>70</td>\n",
       "      <td>31</td>\n",
       "      <td>0</td>\n",
       "      <td>30.4</td>\n",
       "      <td>0.315</td>\n",
       "      <td>23</td>\n",
       "      <td>0</td>\n",
       "    </tr>\n",
       "  </tbody>\n",
       "</table>\n",
       "</div>"
      ],
      "text/plain": [
       "     Pregnancies  Glucose  BloodPressure  SkinThickness  Insulin   BMI  \\\n",
       "763           10      101             76             48      180  32.9   \n",
       "764            2      122             70             27        0  36.8   \n",
       "765            5      121             72             23      112  26.2   \n",
       "766            1      126             60              0        0  30.1   \n",
       "767            1       93             70             31        0  30.4   \n",
       "\n",
       "     DiabetesPedigreeFunction  Age  Outcome  \n",
       "763                     0.171   63        0  \n",
       "764                     0.340   27        0  \n",
       "765                     0.245   30        0  \n",
       "766                     0.349   47        1  \n",
       "767                     0.315   23        0  "
      ]
     },
     "execution_count": 4,
     "metadata": {},
     "output_type": "execute_result"
    }
   ],
   "source": [
    "df.tail()"
   ]
  },
  {
   "cell_type": "code",
   "execution_count": 5,
   "id": "dbea1582",
   "metadata": {
    "execution": {
     "iopub.execute_input": "2022-11-10T15:31:47.117368Z",
     "iopub.status.busy": "2022-11-10T15:31:47.117016Z",
     "iopub.status.idle": "2022-11-10T15:31:47.134622Z",
     "shell.execute_reply": "2022-11-10T15:31:47.133059Z"
    },
    "papermill": {
     "duration": 0.044879,
     "end_time": "2022-11-10T15:31:47.137293",
     "exception": false,
     "start_time": "2022-11-10T15:31:47.092414",
     "status": "completed"
    },
    "tags": []
   },
   "outputs": [
    {
     "data": {
      "text/html": [
       "<div>\n",
       "<style scoped>\n",
       "    .dataframe tbody tr th:only-of-type {\n",
       "        vertical-align: middle;\n",
       "    }\n",
       "\n",
       "    .dataframe tbody tr th {\n",
       "        vertical-align: top;\n",
       "    }\n",
       "\n",
       "    .dataframe thead th {\n",
       "        text-align: right;\n",
       "    }\n",
       "</style>\n",
       "<table border=\"1\" class=\"dataframe\">\n",
       "  <thead>\n",
       "    <tr style=\"text-align: right;\">\n",
       "      <th></th>\n",
       "      <th>Pregnancies</th>\n",
       "      <th>Glucose</th>\n",
       "      <th>BloodPressure</th>\n",
       "      <th>SkinThickness</th>\n",
       "      <th>Insulin</th>\n",
       "      <th>BMI</th>\n",
       "      <th>DiabetesPedigreeFunction</th>\n",
       "      <th>Age</th>\n",
       "      <th>Outcome</th>\n",
       "    </tr>\n",
       "  </thead>\n",
       "  <tbody>\n",
       "    <tr>\n",
       "      <th>238</th>\n",
       "      <td>9</td>\n",
       "      <td>164</td>\n",
       "      <td>84</td>\n",
       "      <td>21</td>\n",
       "      <td>0</td>\n",
       "      <td>30.8</td>\n",
       "      <td>0.831</td>\n",
       "      <td>32</td>\n",
       "      <td>1</td>\n",
       "    </tr>\n",
       "    <tr>\n",
       "      <th>402</th>\n",
       "      <td>5</td>\n",
       "      <td>136</td>\n",
       "      <td>84</td>\n",
       "      <td>41</td>\n",
       "      <td>88</td>\n",
       "      <td>35.0</td>\n",
       "      <td>0.286</td>\n",
       "      <td>35</td>\n",
       "      <td>1</td>\n",
       "    </tr>\n",
       "    <tr>\n",
       "      <th>301</th>\n",
       "      <td>2</td>\n",
       "      <td>144</td>\n",
       "      <td>58</td>\n",
       "      <td>33</td>\n",
       "      <td>135</td>\n",
       "      <td>31.6</td>\n",
       "      <td>0.422</td>\n",
       "      <td>25</td>\n",
       "      <td>1</td>\n",
       "    </tr>\n",
       "    <tr>\n",
       "      <th>153</th>\n",
       "      <td>1</td>\n",
       "      <td>153</td>\n",
       "      <td>82</td>\n",
       "      <td>42</td>\n",
       "      <td>485</td>\n",
       "      <td>40.6</td>\n",
       "      <td>0.687</td>\n",
       "      <td>23</td>\n",
       "      <td>0</td>\n",
       "    </tr>\n",
       "    <tr>\n",
       "      <th>405</th>\n",
       "      <td>2</td>\n",
       "      <td>123</td>\n",
       "      <td>48</td>\n",
       "      <td>32</td>\n",
       "      <td>165</td>\n",
       "      <td>42.1</td>\n",
       "      <td>0.520</td>\n",
       "      <td>26</td>\n",
       "      <td>0</td>\n",
       "    </tr>\n",
       "    <tr>\n",
       "      <th>63</th>\n",
       "      <td>2</td>\n",
       "      <td>141</td>\n",
       "      <td>58</td>\n",
       "      <td>34</td>\n",
       "      <td>128</td>\n",
       "      <td>25.4</td>\n",
       "      <td>0.699</td>\n",
       "      <td>24</td>\n",
       "      <td>0</td>\n",
       "    </tr>\n",
       "    <tr>\n",
       "      <th>171</th>\n",
       "      <td>6</td>\n",
       "      <td>134</td>\n",
       "      <td>70</td>\n",
       "      <td>23</td>\n",
       "      <td>130</td>\n",
       "      <td>35.4</td>\n",
       "      <td>0.542</td>\n",
       "      <td>29</td>\n",
       "      <td>1</td>\n",
       "    </tr>\n",
       "    <tr>\n",
       "      <th>659</th>\n",
       "      <td>3</td>\n",
       "      <td>80</td>\n",
       "      <td>82</td>\n",
       "      <td>31</td>\n",
       "      <td>70</td>\n",
       "      <td>34.2</td>\n",
       "      <td>1.292</td>\n",
       "      <td>27</td>\n",
       "      <td>1</td>\n",
       "    </tr>\n",
       "    <tr>\n",
       "      <th>169</th>\n",
       "      <td>3</td>\n",
       "      <td>111</td>\n",
       "      <td>90</td>\n",
       "      <td>12</td>\n",
       "      <td>78</td>\n",
       "      <td>28.4</td>\n",
       "      <td>0.495</td>\n",
       "      <td>29</td>\n",
       "      <td>0</td>\n",
       "    </tr>\n",
       "    <tr>\n",
       "      <th>38</th>\n",
       "      <td>2</td>\n",
       "      <td>90</td>\n",
       "      <td>68</td>\n",
       "      <td>42</td>\n",
       "      <td>0</td>\n",
       "      <td>38.2</td>\n",
       "      <td>0.503</td>\n",
       "      <td>27</td>\n",
       "      <td>1</td>\n",
       "    </tr>\n",
       "  </tbody>\n",
       "</table>\n",
       "</div>"
      ],
      "text/plain": [
       "     Pregnancies  Glucose  BloodPressure  SkinThickness  Insulin   BMI  \\\n",
       "238            9      164             84             21        0  30.8   \n",
       "402            5      136             84             41       88  35.0   \n",
       "301            2      144             58             33      135  31.6   \n",
       "153            1      153             82             42      485  40.6   \n",
       "405            2      123             48             32      165  42.1   \n",
       "63             2      141             58             34      128  25.4   \n",
       "171            6      134             70             23      130  35.4   \n",
       "659            3       80             82             31       70  34.2   \n",
       "169            3      111             90             12       78  28.4   \n",
       "38             2       90             68             42        0  38.2   \n",
       "\n",
       "     DiabetesPedigreeFunction  Age  Outcome  \n",
       "238                     0.831   32        1  \n",
       "402                     0.286   35        1  \n",
       "301                     0.422   25        1  \n",
       "153                     0.687   23        0  \n",
       "405                     0.520   26        0  \n",
       "63                      0.699   24        0  \n",
       "171                     0.542   29        1  \n",
       "659                     1.292   27        1  \n",
       "169                     0.495   29        0  \n",
       "38                      0.503   27        1  "
      ]
     },
     "execution_count": 5,
     "metadata": {},
     "output_type": "execute_result"
    }
   ],
   "source": [
    "# get the random 10 records\n",
    "df.sample(n=10)"
   ]
  },
  {
   "cell_type": "code",
   "execution_count": 6,
   "id": "7352e41d",
   "metadata": {
    "execution": {
     "iopub.execute_input": "2022-11-10T15:31:47.186450Z",
     "iopub.status.busy": "2022-11-10T15:31:47.186073Z",
     "iopub.status.idle": "2022-11-10T15:31:47.192824Z",
     "shell.execute_reply": "2022-11-10T15:31:47.191930Z"
    },
    "papermill": {
     "duration": 0.033865,
     "end_time": "2022-11-10T15:31:47.194771",
     "exception": false,
     "start_time": "2022-11-10T15:31:47.160906",
     "status": "completed"
    },
    "tags": []
   },
   "outputs": [
    {
     "data": {
      "text/plain": [
       "Index(['Pregnancies', 'Glucose', 'BloodPressure', 'SkinThickness', 'Insulin',\n",
       "       'BMI', 'DiabetesPedigreeFunction', 'Age', 'Outcome'],\n",
       "      dtype='object')"
      ]
     },
     "execution_count": 6,
     "metadata": {},
     "output_type": "execute_result"
    }
   ],
   "source": [
    "# get the columns\n",
    "df.columns"
   ]
  },
  {
   "cell_type": "code",
   "execution_count": 7,
   "id": "2f59564b",
   "metadata": {
    "execution": {
     "iopub.execute_input": "2022-11-10T15:31:47.244016Z",
     "iopub.status.busy": "2022-11-10T15:31:47.243601Z",
     "iopub.status.idle": "2022-11-10T15:31:47.252162Z",
     "shell.execute_reply": "2022-11-10T15:31:47.250780Z"
    },
    "papermill": {
     "duration": 0.036142,
     "end_time": "2022-11-10T15:31:47.254559",
     "exception": false,
     "start_time": "2022-11-10T15:31:47.218417",
     "status": "completed"
    },
    "tags": []
   },
   "outputs": [
    {
     "data": {
      "text/plain": [
       "Pregnancies                   int64\n",
       "Glucose                       int64\n",
       "BloodPressure                 int64\n",
       "SkinThickness                 int64\n",
       "Insulin                       int64\n",
       "BMI                         float64\n",
       "DiabetesPedigreeFunction    float64\n",
       "Age                           int64\n",
       "Outcome                       int64\n",
       "dtype: object"
      ]
     },
     "execution_count": 7,
     "metadata": {},
     "output_type": "execute_result"
    }
   ],
   "source": [
    "# see the datatypes\n",
    "df.dtypes"
   ]
  },
  {
   "cell_type": "code",
   "execution_count": 8,
   "id": "873ed737",
   "metadata": {
    "execution": {
     "iopub.execute_input": "2022-11-10T15:31:47.302891Z",
     "iopub.status.busy": "2022-11-10T15:31:47.302466Z",
     "iopub.status.idle": "2022-11-10T15:31:47.308905Z",
     "shell.execute_reply": "2022-11-10T15:31:47.307547Z"
    },
    "papermill": {
     "duration": 0.033761,
     "end_time": "2022-11-10T15:31:47.311491",
     "exception": false,
     "start_time": "2022-11-10T15:31:47.277730",
     "status": "completed"
    },
    "tags": []
   },
   "outputs": [
    {
     "data": {
      "text/plain": [
       "(768, 9)"
      ]
     },
     "execution_count": 8,
     "metadata": {},
     "output_type": "execute_result"
    }
   ],
   "source": [
    "# see the shape \n",
    "df.shape"
   ]
  },
  {
   "cell_type": "code",
   "execution_count": 9,
   "id": "821ca56b",
   "metadata": {
    "execution": {
     "iopub.execute_input": "2022-11-10T15:31:47.360392Z",
     "iopub.status.busy": "2022-11-10T15:31:47.359948Z",
     "iopub.status.idle": "2022-11-10T15:31:47.366671Z",
     "shell.execute_reply": "2022-11-10T15:31:47.365828Z"
    },
    "papermill": {
     "duration": 0.033548,
     "end_time": "2022-11-10T15:31:47.368727",
     "exception": false,
     "start_time": "2022-11-10T15:31:47.335179",
     "status": "completed"
    },
    "tags": []
   },
   "outputs": [
    {
     "data": {
      "text/plain": [
       "6912"
      ]
     },
     "execution_count": 9,
     "metadata": {},
     "output_type": "execute_result"
    }
   ],
   "source": [
    "df.size"
   ]
  },
  {
   "cell_type": "code",
   "execution_count": 10,
   "id": "1c300bd1",
   "metadata": {
    "execution": {
     "iopub.execute_input": "2022-11-10T15:31:47.707987Z",
     "iopub.status.busy": "2022-11-10T15:31:47.707612Z",
     "iopub.status.idle": "2022-11-10T15:31:47.718324Z",
     "shell.execute_reply": "2022-11-10T15:31:47.716559Z"
    },
    "papermill": {
     "duration": 0.038841,
     "end_time": "2022-11-10T15:31:47.720650",
     "exception": false,
     "start_time": "2022-11-10T15:31:47.681809",
     "status": "completed"
    },
    "tags": []
   },
   "outputs": [
    {
     "data": {
      "text/plain": [
       "Pregnancies                 0\n",
       "Glucose                     0\n",
       "BloodPressure               0\n",
       "SkinThickness               0\n",
       "Insulin                     0\n",
       "BMI                         0\n",
       "DiabetesPedigreeFunction    0\n",
       "Age                         0\n",
       "Outcome                     0\n",
       "dtype: int64"
      ]
     },
     "execution_count": 10,
     "metadata": {},
     "output_type": "execute_result"
    }
   ],
   "source": [
    "df.isna().sum()"
   ]
  },
  {
   "attachments": {},
   "cell_type": "markdown",
   "id": "0cdf1ec1",
   "metadata": {
    "papermill": {
     "duration": 0.02627,
     "end_time": "2022-11-10T15:31:50.020271",
     "exception": false,
     "start_time": "2022-11-10T15:31:49.994001",
     "status": "completed"
    },
    "tags": []
   },
   "source": [
    "**Observations**\n",
    "1. The dataset contains more younger people.\n",
    "2. The BMI of Majority of people is between 30-40 which means that majority of the people are have obesity.\n",
    "3. Majority of People having insuling less than 200\n",
    "4. Majority of people having Skinthickness  between 20-40\n",
    "5. Majority of People having BP  between 60-80\n"
   ]
  },
  {
   "attachments": {},
   "cell_type": "markdown",
   "id": "ba6f9708",
   "metadata": {
    "papermill": {
     "duration": 0.025787,
     "end_time": "2022-11-10T15:31:50.072802",
     "exception": false,
     "start_time": "2022-11-10T15:31:50.047015",
     "status": "completed"
    },
    "tags": []
   },
   "source": []
  },
  {
   "cell_type": "code",
   "execution_count": 11,
   "id": "068418b5",
   "metadata": {
    "execution": {
     "iopub.execute_input": "2022-11-10T15:31:53.630485Z",
     "iopub.status.busy": "2022-11-10T15:31:53.630096Z",
     "iopub.status.idle": "2022-11-10T15:31:53.756572Z",
     "shell.execute_reply": "2022-11-10T15:31:53.755702Z"
    },
    "papermill": {
     "duration": 0.158202,
     "end_time": "2022-11-10T15:31:53.758885",
     "exception": false,
     "start_time": "2022-11-10T15:31:53.600683",
     "status": "completed"
    },
    "tags": []
   },
   "outputs": [
    {
     "name": "stdout",
     "output_type": "stream",
     "text": [
      "Having Diebetes:\t268\n",
      "Not Having Diebetes:\t500\n",
      "diabetes_percentage:\t0.35 %\n",
      "not diabetes_percentage:\t0.65 %\n"
     ]
    },
    {
     "data": {
      "image/png": "[encoded data removed]",
      "text/plain": [
       "<Figure size 640x480 with 1 Axes>"
      ]
     },
     "metadata": {},
     "output_type": "display_data"
    }
   ],
   "source": [
    "having_diabetes = df[df[\"Outcome\"]==1]\n",
    "not_having = df[~(df[\"Outcome\"]==1)]\n",
    "\n",
    "\n",
    "\n",
    "print(\"Having Diebetes:\\t\"+ str(len(having_diabetes)))\n",
    "print(\"Not Having Diebetes:\\t\"+ str(len(not_having\n",
    "                                       )))\n",
    "sns.barplot(x=['Having Diebetes','Not Having Diabetes'], y= [len(having_diabetes),len(not_having)],\n",
    "       \n",
    "           )\n",
    "\n",
    "print(\"diabetes_percentage:\\t\" + str(round(len(having_diabetes)/len(df),2)) + \" %\")\n",
    "print(\"not diabetes_percentage:\\t\" + str(round(len(not_having)/len(df),2)) + \" %\")\n"
   ]
  },
  {
   "cell_type": "code",
   "execution_count": 12,
   "id": "1d685230",
   "metadata": {},
   "outputs": [],
   "source": [
    "# Independant and Dependant features\n",
    "X = df.drop('Outcome',axis=1)\n",
    "y = df['Outcome']\n"
   ]
  },
  {
   "attachments": {},
   "cell_type": "markdown",
   "id": "0bf6af09",
   "metadata": {
    "papermill": {
     "duration": 0.045749,
     "end_time": "2022-11-10T15:32:13.050791",
     "exception": false,
     "start_time": "2022-11-10T15:32:13.005042",
     "status": "completed"
    },
    "tags": []
   },
   "source": [
    "# **Modelling**"
   ]
  },
  {
   "cell_type": "code",
   "execution_count": 13,
   "id": "014f7698",
   "metadata": {
    "execution": {
     "iopub.execute_input": "2022-11-10T15:32:13.144280Z",
     "iopub.status.busy": "2022-11-10T15:32:13.143930Z",
     "iopub.status.idle": "2022-11-10T15:32:13.151086Z",
     "shell.execute_reply": "2022-11-10T15:32:13.150112Z"
    },
    "papermill": {
     "duration": 0.056053,
     "end_time": "2022-11-10T15:32:13.152895",
     "exception": false,
     "start_time": "2022-11-10T15:32:13.096842",
     "status": "completed"
    },
    "tags": []
   },
   "outputs": [],
   "source": [
    "X_train,X_test, y_train, y_test = train_test_split(X,y,random_state=44)"
   ]
  },
  {
   "attachments": {},
   "cell_type": "markdown",
   "id": "2205213f",
   "metadata": {
    "papermill": {
     "duration": 0.045654,
     "end_time": "2022-11-10T15:32:13.242853",
     "exception": false,
     "start_time": "2022-11-10T15:32:13.197199",
     "status": "completed"
    },
    "tags": []
   },
   "source": [
    "# ***Logistic Regression***"
   ]
  },
  {
   "cell_type": "code",
   "execution_count": 14,
   "id": "f8ff7535",
   "metadata": {
    "execution": {
     "iopub.execute_input": "2022-11-10T15:32:13.335075Z",
     "iopub.status.busy": "2022-11-10T15:32:13.334691Z",
     "iopub.status.idle": "2022-11-10T15:32:13.339439Z",
     "shell.execute_reply": "2022-11-10T15:32:13.338579Z"
    },
    "papermill": {
     "duration": 0.053204,
     "end_time": "2022-11-10T15:32:13.341294",
     "exception": false,
     "start_time": "2022-11-10T15:32:13.288090",
     "status": "completed"
    },
    "tags": []
   },
   "outputs": [],
   "source": [
    "model = LogisticRegression(max_iter=200,fit_intercept=True)"
   ]
  },
  {
   "cell_type": "code",
   "execution_count": 15,
   "id": "c14cf227",
   "metadata": {
    "execution": {
     "iopub.execute_input": "2022-11-10T15:32:13.434328Z",
     "iopub.status.busy": "2022-11-10T15:32:13.434008Z",
     "iopub.status.idle": "2022-11-10T15:32:13.468431Z",
     "shell.execute_reply": "2022-11-10T15:32:13.466719Z"
    },
    "papermill": {
     "duration": 0.084344,
     "end_time": "2022-11-10T15:32:13.470653",
     "exception": false,
     "start_time": "2022-11-10T15:32:13.386309",
     "status": "completed"
    },
    "tags": []
   },
   "outputs": [
    {
     "data": {
      "text/plain": [
       "LogisticRegression(max_iter=200)"
      ]
     },
     "execution_count": 15,
     "metadata": {},
     "output_type": "execute_result"
    }
   ],
   "source": [
    " model.fit(X_train,y_train)"
   ]
  },
  {
   "cell_type": "code",
   "execution_count": 16,
   "id": "f892cb1b",
   "metadata": {
    "execution": {
     "iopub.execute_input": "2022-11-10T15:32:13.562688Z",
     "iopub.status.busy": "2022-11-10T15:32:13.562260Z",
     "iopub.status.idle": "2022-11-10T15:32:13.567695Z",
     "shell.execute_reply": "2022-11-10T15:32:13.567051Z"
    },
    "papermill": {
     "duration": 0.053904,
     "end_time": "2022-11-10T15:32:13.569299",
     "exception": false,
     "start_time": "2022-11-10T15:32:13.515395",
     "status": "completed"
    },
    "tags": []
   },
   "outputs": [
    {
     "data": {
      "text/plain": [
       "array([0, 1], dtype=int64)"
      ]
     },
     "execution_count": 16,
     "metadata": {},
     "output_type": "execute_result"
    }
   ],
   "source": [
    "model.classes_"
   ]
  },
  {
   "cell_type": "code",
   "execution_count": 17,
   "id": "3f4d2c15",
   "metadata": {
    "execution": {
     "iopub.execute_input": "2022-11-10T15:32:13.661241Z",
     "iopub.status.busy": "2022-11-10T15:32:13.660882Z",
     "iopub.status.idle": "2022-11-10T15:32:13.666570Z",
     "shell.execute_reply": "2022-11-10T15:32:13.665714Z"
    },
    "papermill": {
     "duration": 0.054603,
     "end_time": "2022-11-10T15:32:13.668364",
     "exception": false,
     "start_time": "2022-11-10T15:32:13.613761",
     "status": "completed"
    },
    "tags": []
   },
   "outputs": [
    {
     "data": {
      "text/plain": [
       "array([-7.68060524])"
      ]
     },
     "execution_count": 17,
     "metadata": {},
     "output_type": "execute_result"
    }
   ],
   "source": [
    "model.intercept_"
   ]
  },
  {
   "cell_type": "code",
   "execution_count": 18,
   "id": "6666f5f1",
   "metadata": {
    "execution": {
     "iopub.execute_input": "2022-11-10T15:32:13.761384Z",
     "iopub.status.busy": "2022-11-10T15:32:13.760967Z",
     "iopub.status.idle": "2022-11-10T15:32:13.767461Z",
     "shell.execute_reply": "2022-11-10T15:32:13.766247Z"
    },
    "papermill": {
     "duration": 0.056227,
     "end_time": "2022-11-10T15:32:13.769773",
     "exception": false,
     "start_time": "2022-11-10T15:32:13.713546",
     "status": "completed"
    },
    "tags": []
   },
   "outputs": [
    {
     "data": {
      "text/plain": [
       "array([[ 0.09188888,  0.0346821 , -0.01523879,  0.00516105, -0.00101416,\n",
       "         0.07238457,  0.6788583 ,  0.01723018]])"
      ]
     },
     "execution_count": 18,
     "metadata": {},
     "output_type": "execute_result"
    }
   ],
   "source": [
    "model.coef_"
   ]
  },
  {
   "cell_type": "code",
   "execution_count": null,
   "id": "0d9cd211",
   "metadata": {
    "papermill": {
     "duration": 0.045495,
     "end_time": "2022-11-10T15:32:13.861643",
     "exception": false,
     "start_time": "2022-11-10T15:32:13.816148",
     "status": "completed"
    },
    "tags": []
   },
   "outputs": [],
   "source": []
  },
  {
   "cell_type": "code",
   "execution_count": 19,
   "id": "e63da7ae",
   "metadata": {
    "execution": {
     "iopub.execute_input": "2022-11-10T15:32:13.955573Z",
     "iopub.status.busy": "2022-11-10T15:32:13.955167Z",
     "iopub.status.idle": "2022-11-10T15:32:13.961118Z",
     "shell.execute_reply": "2022-11-10T15:32:13.960238Z"
    },
    "papermill": {
     "duration": 0.055367,
     "end_time": "2022-11-10T15:32:13.962885",
     "exception": false,
     "start_time": "2022-11-10T15:32:13.907518",
     "status": "completed"
    },
    "tags": []
   },
   "outputs": [],
   "source": [
    "y_pred = model.predict(X_test)"
   ]
  },
  {
   "cell_type": "code",
   "execution_count": 20,
   "id": "dbf2235f",
   "metadata": {
    "execution": {
     "iopub.execute_input": "2022-11-10T15:32:14.055659Z",
     "iopub.status.busy": "2022-11-10T15:32:14.055196Z",
     "iopub.status.idle": "2022-11-10T15:32:14.061828Z",
     "shell.execute_reply": "2022-11-10T15:32:14.060849Z"
    },
    "papermill": {
     "duration": 0.055433,
     "end_time": "2022-11-10T15:32:14.063712",
     "exception": false,
     "start_time": "2022-11-10T15:32:14.008279",
     "status": "completed"
    },
    "tags": []
   },
   "outputs": [
    {
     "data": {
      "text/plain": [
       "array([0, 1, 1, 0, 1, 1, 0, 0, 0, 0, 0, 0, 0, 0, 0, 1, 0, 0, 0, 1, 0, 1,\n",
       "       0, 0, 0, 0, 0, 0, 0, 1, 0, 1, 1, 0, 0, 0, 0, 1, 0, 0, 0, 0, 1, 0,\n",
       "       0, 0, 0, 0, 0, 0, 0, 1, 1, 1, 0, 0, 0, 1, 1, 1, 0, 1, 0, 0, 0, 0,\n",
       "       1, 0, 0, 1, 0, 0, 0, 0, 0, 0, 0, 0, 0, 0, 0, 0, 0, 0, 0, 1, 0, 0,\n",
       "       0, 0, 0, 1, 0, 0, 0, 0, 0, 1, 0, 0, 1, 0, 0, 0, 0, 0, 0, 0, 0, 0,\n",
       "       0, 1, 0, 0, 0, 1, 1, 1, 0, 1, 0, 0, 0, 1, 0, 1, 0, 0, 0, 0, 1, 0,\n",
       "       1, 0, 1, 0, 0, 1, 0, 0, 0, 0, 0, 1, 0, 0, 0, 0, 0, 1, 1, 0, 0, 0,\n",
       "       0, 0, 0, 1, 0, 0, 0, 0, 0, 1, 0, 0, 0, 0, 1, 1, 0, 0, 0, 1, 0, 0,\n",
       "       0, 0, 0, 0, 1, 0, 0, 0, 0, 0, 1, 1, 0, 1, 0, 0], dtype=int64)"
      ]
     },
     "execution_count": 20,
     "metadata": {},
     "output_type": "execute_result"
    }
   ],
   "source": [
    "y_pred"
   ]
  },
  {
   "cell_type": "code",
   "execution_count": 21,
   "id": "2c07911b",
   "metadata": {
    "execution": {
     "iopub.execute_input": "2022-11-10T15:32:14.157899Z",
     "iopub.status.busy": "2022-11-10T15:32:14.157560Z",
     "iopub.status.idle": "2022-11-10T15:32:14.165298Z",
     "shell.execute_reply": "2022-11-10T15:32:14.164014Z"
    },
    "papermill": {
     "duration": 0.058019,
     "end_time": "2022-11-10T15:32:14.167775",
     "exception": false,
     "start_time": "2022-11-10T15:32:14.109756",
     "status": "completed"
    },
    "tags": []
   },
   "outputs": [
    {
     "data": {
      "text/plain": [
       "452    0\n",
       "370    1\n",
       "746    1\n",
       "122    0\n",
       "614    1\n",
       "      ..\n",
       "458    1\n",
       "524    0\n",
       "43     1\n",
       "66     1\n",
       "76     0\n",
       "Name: Outcome, Length: 192, dtype: int64"
      ]
     },
     "execution_count": 21,
     "metadata": {},
     "output_type": "execute_result"
    }
   ],
   "source": [
    "y_test"
   ]
  },
  {
   "cell_type": "code",
   "execution_count": 22,
   "id": "10e0371f",
   "metadata": {
    "execution": {
     "iopub.execute_input": "2022-11-10T15:32:16.484144Z",
     "iopub.status.busy": "2022-11-10T15:32:16.483796Z",
     "iopub.status.idle": "2022-11-10T15:32:16.590584Z",
     "shell.execute_reply": "2022-11-10T15:32:16.589429Z"
    },
    "papermill": {
     "duration": 0.158638,
     "end_time": "2022-11-10T15:32:16.592769",
     "exception": false,
     "start_time": "2022-11-10T15:32:16.434131",
     "status": "completed"
    },
    "tags": []
   },
   "outputs": [
    {
     "data": {
      "image/png": "[encoded data removed]",
      "text/plain": [
       "<Figure size 800x800 with 1 Axes>"
      ]
     },
     "metadata": {},
     "output_type": "display_data"
    }
   ],
   "source": [
    "conf_mat = confusion_matrix(y_test,y_pred)\n",
    "\n",
    "fig, ax = plt.subplots(figsize=(8, 8))\n",
    "ax.imshow(conf_mat)\n",
    "ax.grid(False)\n",
    "ax.xaxis.set(ticks=(0, 1), ticklabels=('Predicted 0s', 'Predicted 1s'))\n",
    "ax.yaxis.set(ticks=(0, 1), ticklabels=('Actual 0s', 'Actual 1s'))\n",
    "ax.set_ylim(1.5, -0.5)\n",
    "for i in range(2):\n",
    "    for j in range(2):\n",
    "        ax.text(j, i, conf_mat[i, j], ha='center', va='center', color='white')\n",
    "plt.show()\n"
   ]
  },
  {
   "cell_type": "code",
   "execution_count": 23,
   "id": "1b31bd73",
   "metadata": {
    "execution": {
     "iopub.execute_input": "2022-11-10T15:32:16.689847Z",
     "iopub.status.busy": "2022-11-10T15:32:16.689359Z",
     "iopub.status.idle": "2022-11-10T15:32:16.696010Z",
     "shell.execute_reply": "2022-11-10T15:32:16.695082Z"
    },
    "papermill": {
     "duration": 0.057306,
     "end_time": "2022-11-10T15:32:16.697842",
     "exception": false,
     "start_time": "2022-11-10T15:32:16.640536",
     "status": "completed"
    },
    "tags": []
   },
   "outputs": [
    {
     "data": {
      "text/plain": [
       "array([[111,   4],\n",
       "       [ 33,  44]], dtype=int64)"
      ]
     },
     "execution_count": 23,
     "metadata": {},
     "output_type": "execute_result"
    }
   ],
   "source": [
    "conf_mat"
   ]
  },
  {
   "cell_type": "code",
   "execution_count": 24,
   "id": "8a29e546",
   "metadata": {
    "execution": {
     "iopub.execute_input": "2022-11-10T15:32:16.795577Z",
     "iopub.status.busy": "2022-11-10T15:32:16.794895Z",
     "iopub.status.idle": "2022-11-10T15:32:16.802435Z",
     "shell.execute_reply": "2022-11-10T15:32:16.800978Z"
    },
    "papermill": {
     "duration": 0.059789,
     "end_time": "2022-11-10T15:32:16.804819",
     "exception": false,
     "start_time": "2022-11-10T15:32:16.745030",
     "status": "completed"
    },
    "tags": []
   },
   "outputs": [
    {
     "name": "stdout",
     "output_type": "stream",
     "text": [
      "Correctly Predicted:\t155\n",
      "Incorrectly Predicted:\t37\n",
      "Correctness Score Percentage:\t81.0 %\n"
     ]
    }
   ],
   "source": [
    "correct_predictions = (conf_mat[0][0] + conf_mat[1][1])\n",
    "incorrect_predictions = (conf_mat[0][1] + conf_mat[1][0])\n",
    "print(\"Correctly Predicted:\\t\" + str(correct_predictions))\n",
    "print(\"Incorrectly Predicted:\\t\" + str(incorrect_predictions))\n",
    "print(\"Correctness Score Percentage:\\t\" + str(round(correct_predictions/np.sum(conf_mat),2)*100) + \" %\")"
   ]
  },
  {
   "cell_type": "code",
   "execution_count": 25,
   "id": "f141a5d7",
   "metadata": {
    "execution": {
     "iopub.execute_input": "2022-11-10T15:32:16.903332Z",
     "iopub.status.busy": "2022-11-10T15:32:16.902724Z",
     "iopub.status.idle": "2022-11-10T15:32:16.908444Z",
     "shell.execute_reply": "2022-11-10T15:32:16.907760Z"
    },
    "papermill": {
     "duration": 0.058476,
     "end_time": "2022-11-10T15:32:16.910935",
     "exception": false,
     "start_time": "2022-11-10T15:32:16.852459",
     "status": "completed"
    },
    "tags": []
   },
   "outputs": [
    {
     "data": {
      "text/plain": [
       "0.81"
      ]
     },
     "execution_count": 25,
     "metadata": {},
     "output_type": "execute_result"
    }
   ],
   "source": [
    "round(accuracy_score(y_test,y_pred),2)"
   ]
  },
  {
   "attachments": {},
   "cell_type": "markdown",
   "id": "0bce7514",
   "metadata": {
    "papermill": {
     "duration": 0.048466,
     "end_time": "2022-11-10T15:32:17.007865",
     "exception": false,
     "start_time": "2022-11-10T15:32:16.959399",
     "status": "completed"
    },
    "tags": []
   },
   "source": [
    "# **Model Evaluation**"
   ]
  },
  {
   "cell_type": "code",
   "execution_count": 26,
   "id": "ea932efd",
   "metadata": {
    "execution": {
     "iopub.execute_input": "2022-11-10T15:32:17.105411Z",
     "iopub.status.busy": "2022-11-10T15:32:17.104995Z",
     "iopub.status.idle": "2022-11-10T15:32:17.110540Z",
     "shell.execute_reply": "2022-11-10T15:32:17.109144Z"
    },
    "papermill": {
     "duration": 0.057211,
     "end_time": "2022-11-10T15:32:17.113090",
     "exception": false,
     "start_time": "2022-11-10T15:32:17.055879",
     "status": "completed"
    },
    "tags": []
   },
   "outputs": [],
   "source": [
    "def calculate_precision(tp,fp):\n",
    "    return tp/(tp+fp)"
   ]
  },
  {
   "cell_type": "code",
   "execution_count": 27,
   "id": "8bbbe1b6",
   "metadata": {
    "execution": {
     "iopub.execute_input": "2022-11-10T15:32:17.212935Z",
     "iopub.status.busy": "2022-11-10T15:32:17.211282Z",
     "iopub.status.idle": "2022-11-10T15:32:17.217219Z",
     "shell.execute_reply": "2022-11-10T15:32:17.216094Z"
    },
    "papermill": {
     "duration": 0.057388,
     "end_time": "2022-11-10T15:32:17.219588",
     "exception": false,
     "start_time": "2022-11-10T15:32:17.162200",
     "status": "completed"
    },
    "tags": []
   },
   "outputs": [],
   "source": [
    "def calculate_recall(tp,fn):\n",
    "    return tp/(tp+fn)"
   ]
  },
  {
   "cell_type": "code",
   "execution_count": 28,
   "id": "54361e20",
   "metadata": {
    "execution": {
     "iopub.execute_input": "2022-11-10T15:32:17.314894Z",
     "iopub.status.busy": "2022-11-10T15:32:17.314562Z",
     "iopub.status.idle": "2022-11-10T15:32:17.319936Z",
     "shell.execute_reply": "2022-11-10T15:32:17.318719Z"
    },
    "papermill": {
     "duration": 0.05603,
     "end_time": "2022-11-10T15:32:17.322289",
     "exception": false,
     "start_time": "2022-11-10T15:32:17.266259",
     "status": "completed"
    },
    "tags": []
   },
   "outputs": [],
   "source": [
    "def calculte_harmonic_mean(precision,recall):\n",
    "    return 2 * precision * recall/(precision + recall)"
   ]
  },
  {
   "cell_type": "code",
   "execution_count": 29,
   "id": "87acd4a3",
   "metadata": {
    "execution": {
     "iopub.execute_input": "2022-11-10T15:32:17.422014Z",
     "iopub.status.busy": "2022-11-10T15:32:17.421063Z",
     "iopub.status.idle": "2022-11-10T15:32:17.428191Z",
     "shell.execute_reply": "2022-11-10T15:32:17.426043Z"
    },
    "papermill": {
     "duration": 0.059539,
     "end_time": "2022-11-10T15:32:17.430576",
     "exception": false,
     "start_time": "2022-11-10T15:32:17.371037",
     "status": "completed"
    },
    "tags": []
   },
   "outputs": [],
   "source": [
    "def calculate_specificity(tn,fp):\n",
    "    return tn/tn+fp"
   ]
  },
  {
   "cell_type": "code",
   "execution_count": 30,
   "id": "e5fbbd2c",
   "metadata": {
    "execution": {
     "iopub.execute_input": "2022-11-10T15:32:17.530078Z",
     "iopub.status.busy": "2022-11-10T15:32:17.529436Z",
     "iopub.status.idle": "2022-11-10T15:32:17.538069Z",
     "shell.execute_reply": "2022-11-10T15:32:17.536534Z"
    },
    "papermill": {
     "duration": 0.061158,
     "end_time": "2022-11-10T15:32:17.540125",
     "exception": false,
     "start_time": "2022-11-10T15:32:17.478967",
     "status": "completed"
    },
    "tags": []
   },
   "outputs": [
    {
     "name": "stdout",
     "output_type": "stream",
     "text": [
      "Precision:\t0.7708333333333334\n",
      "Recall:\t0.9652173913043478\n",
      "F1 Score:\t0.8571428571428572\n",
      "Specificity Score:\t34.0\n"
     ]
    }
   ],
   "source": [
    "precision = calculate_precision(conf_mat[0][0],conf_mat[1][0])\n",
    "recall = calculate_recall(conf_mat[0][0],conf_mat[0][1])\n",
    "harmonic_mean = calculte_harmonic_mean(precision,recall)\n",
    "specificity = calculate_specificity(conf_mat[1][1],conf_mat[1][0])\n",
    "print(\"Precision:\\t\" +str(precision))\n",
    "print(\"Recall:\\t\" +str(recall))\n",
    "print(\"F1 Score:\\t\" +str(harmonic_mean))\n",
    "print(\"Specificity Score:\\t\" + str(specificity))"
   ]
  },
  {
   "cell_type": "code",
   "execution_count": 31,
   "id": "c8aca484",
   "metadata": {
    "execution": {
     "iopub.execute_input": "2022-11-10T15:32:17.636829Z",
     "iopub.status.busy": "2022-11-10T15:32:17.636151Z",
     "iopub.status.idle": "2022-11-10T15:32:17.647292Z",
     "shell.execute_reply": "2022-11-10T15:32:17.646001Z"
    },
    "papermill": {
     "duration": 0.062251,
     "end_time": "2022-11-10T15:32:17.649778",
     "exception": false,
     "start_time": "2022-11-10T15:32:17.587527",
     "status": "completed"
    },
    "tags": []
   },
   "outputs": [
    {
     "name": "stdout",
     "output_type": "stream",
     "text": [
      "              precision    recall  f1-score   support\n",
      "\n",
      "           0       0.77      0.97      0.86       115\n",
      "           1       0.92      0.57      0.70        77\n",
      "\n",
      "    accuracy                           0.81       192\n",
      "   macro avg       0.84      0.77      0.78       192\n",
      "weighted avg       0.83      0.81      0.80       192\n",
      "\n"
     ]
    }
   ],
   "source": [
    "print(classification_report(y_test, y_pred))"
   ]
  },
  {
   "attachments": {},
   "cell_type": "markdown",
   "id": "b452c931",
   "metadata": {
    "papermill": {
     "duration": 0.047768,
     "end_time": "2022-11-10T15:32:17.745721",
     "exception": false,
     "start_time": "2022-11-10T15:32:17.697953",
     "status": "completed"
    },
    "tags": []
   },
   "source": [
    "# **K Nearest Neighbours**"
   ]
  },
  {
   "cell_type": "code",
   "execution_count": 32,
   "id": "c28e2200",
   "metadata": {
    "execution": {
     "iopub.execute_input": "2022-11-10T15:32:17.845315Z",
     "iopub.status.busy": "2022-11-10T15:32:17.844926Z",
     "iopub.status.idle": "2022-11-10T15:32:17.855166Z",
     "shell.execute_reply": "2022-11-10T15:32:17.853919Z"
    },
    "papermill": {
     "duration": 0.06271,
     "end_time": "2022-11-10T15:32:17.856907",
     "exception": false,
     "start_time": "2022-11-10T15:32:17.794197",
     "status": "completed"
    },
    "tags": []
   },
   "outputs": [
    {
     "data": {
      "text/plain": [
       "KNeighborsClassifier(n_neighbors=3)"
      ]
     },
     "execution_count": 32,
     "metadata": {},
     "output_type": "execute_result"
    }
   ],
   "source": [
    "knn_classifier = KNeighborsClassifier(n_neighbors=3)\n",
    "knn_classifier.fit(X_train,y_train)"
   ]
  },
  {
   "cell_type": "code",
   "execution_count": 33,
   "id": "be660371",
   "metadata": {
    "execution": {
     "iopub.execute_input": "2022-11-10T15:32:17.954746Z",
     "iopub.status.busy": "2022-11-10T15:32:17.954239Z",
     "iopub.status.idle": "2022-11-10T15:32:17.965928Z",
     "shell.execute_reply": "2022-11-10T15:32:17.964887Z"
    },
    "papermill": {
     "duration": 0.064039,
     "end_time": "2022-11-10T15:32:17.968117",
     "exception": false,
     "start_time": "2022-11-10T15:32:17.904078",
     "status": "completed"
    },
    "tags": []
   },
   "outputs": [
    {
     "name": "stderr",
     "output_type": "stream",
     "text": [
      "c:\\Users\\sridh\\anaconda3\\lib\\site-packages\\sklearn\\neighbors\\_classification.py:228: FutureWarning: Unlike other reduction functions (e.g. `skew`, `kurtosis`), the default behavior of `mode` typically preserves the axis it acts along. In SciPy 1.11.0, this behavior will change: the default value of `keepdims` will become False, the `axis` over which the statistic is taken will be eliminated, and the value None will no longer be accepted. Set `keepdims` to True or False to avoid this warning.\n",
      "  mode, _ = stats.mode(_y[neigh_ind, k], axis=1)\n"
     ]
    }
   ],
   "source": [
    "knn_pred = knn_classifier.predict(X_test)"
   ]
  },
  {
   "cell_type": "code",
   "execution_count": 34,
   "id": "feaa5c2d",
   "metadata": {
    "execution": {
     "iopub.execute_input": "2022-11-10T15:32:18.066929Z",
     "iopub.status.busy": "2022-11-10T15:32:18.065769Z",
     "iopub.status.idle": "2022-11-10T15:32:18.072364Z",
     "shell.execute_reply": "2022-11-10T15:32:18.071549Z"
    },
    "papermill": {
     "duration": 0.057645,
     "end_time": "2022-11-10T15:32:18.074443",
     "exception": false,
     "start_time": "2022-11-10T15:32:18.016798",
     "status": "completed"
    },
    "tags": []
   },
   "outputs": [
    {
     "data": {
      "text/plain": [
       "array([0, 0, 0, 0, 1, 0, 0, 0, 0, 1, 0, 0, 0, 0, 0, 1, 0, 1, 0, 0, 0, 1,\n",
       "       0, 0, 0, 0, 0, 1, 0, 0, 1, 1, 1, 0, 0, 0, 0, 0, 0, 0, 0, 0, 1, 0,\n",
       "       0, 0, 1, 0, 1, 1, 0, 1, 0, 0, 0, 0, 1, 0, 1, 1, 1, 1, 0, 0, 0, 0,\n",
       "       1, 0, 0, 1, 0, 0, 1, 0, 0, 0, 0, 0, 0, 0, 0, 0, 0, 0, 0, 1, 0, 0,\n",
       "       0, 1, 0, 1, 0, 0, 0, 0, 0, 1, 0, 0, 1, 1, 0, 0, 0, 0, 0, 1, 0, 1,\n",
       "       0, 0, 0, 0, 0, 1, 1, 1, 0, 1, 0, 0, 0, 1, 0, 0, 0, 0, 0, 0, 1, 0,\n",
       "       1, 1, 1, 0, 0, 1, 0, 0, 0, 0, 0, 0, 1, 1, 0, 0, 1, 1, 1, 0, 0, 1,\n",
       "       0, 0, 0, 1, 0, 0, 1, 0, 0, 1, 0, 1, 0, 0, 0, 0, 1, 1, 0, 0, 0, 1,\n",
       "       0, 0, 0, 0, 1, 0, 0, 0, 0, 0, 1, 1, 1, 1, 0, 0], dtype=int64)"
      ]
     },
     "execution_count": 34,
     "metadata": {},
     "output_type": "execute_result"
    }
   ],
   "source": [
    "knn_pred"
   ]
  },
  {
   "cell_type": "code",
   "execution_count": 35,
   "id": "b8643a95",
   "metadata": {
    "execution": {
     "iopub.execute_input": "2022-11-10T15:32:18.175253Z",
     "iopub.status.busy": "2022-11-10T15:32:18.174699Z",
     "iopub.status.idle": "2022-11-10T15:32:18.183396Z",
     "shell.execute_reply": "2022-11-10T15:32:18.182165Z"
    },
    "papermill": {
     "duration": 0.062528,
     "end_time": "2022-11-10T15:32:18.185814",
     "exception": false,
     "start_time": "2022-11-10T15:32:18.123286",
     "status": "completed"
    },
    "tags": []
   },
   "outputs": [
    {
     "data": {
      "text/plain": [
       "452    0\n",
       "370    1\n",
       "746    1\n",
       "122    0\n",
       "614    1\n",
       "      ..\n",
       "458    1\n",
       "524    0\n",
       "43     1\n",
       "66     1\n",
       "76     0\n",
       "Name: Outcome, Length: 192, dtype: int64"
      ]
     },
     "execution_count": 35,
     "metadata": {},
     "output_type": "execute_result"
    }
   ],
   "source": [
    "y_test"
   ]
  },
  {
   "attachments": {},
   "cell_type": "markdown",
   "id": "f5848f78",
   "metadata": {
    "papermill": {
     "duration": 0.047924,
     "end_time": "2022-11-10T15:32:18.282241",
     "exception": false,
     "start_time": "2022-11-10T15:32:18.234317",
     "status": "completed"
    },
    "tags": []
   },
   "source": [
    "# KNN Evaluation"
   ]
  },
  {
   "cell_type": "code",
   "execution_count": 36,
   "id": "2c809349",
   "metadata": {
    "execution": {
     "iopub.execute_input": "2022-11-10T15:32:18.379846Z",
     "iopub.status.busy": "2022-11-10T15:32:18.379206Z",
     "iopub.status.idle": "2022-11-10T15:32:18.386186Z",
     "shell.execute_reply": "2022-11-10T15:32:18.385419Z"
    },
    "papermill": {
     "duration": 0.058395,
     "end_time": "2022-11-10T15:32:18.388522",
     "exception": false,
     "start_time": "2022-11-10T15:32:18.330127",
     "status": "completed"
    },
    "tags": []
   },
   "outputs": [
    {
     "data": {
      "text/plain": [
       "array([[96, 19],\n",
       "       [38, 39]], dtype=int64)"
      ]
     },
     "execution_count": 36,
     "metadata": {},
     "output_type": "execute_result"
    }
   ],
   "source": [
    "accuracy_score(y_test,knn_pred)\n",
    "knn_conf_mat = confusion_matrix(y_test,knn_pred)\n",
    "knn_conf_mat"
   ]
  },
  {
   "cell_type": "code",
   "execution_count": 37,
   "id": "4981f9db",
   "metadata": {
    "execution": {
     "iopub.execute_input": "2022-11-10T15:32:18.485771Z",
     "iopub.status.busy": "2022-11-10T15:32:18.485236Z",
     "iopub.status.idle": "2022-11-10T15:32:18.492837Z",
     "shell.execute_reply": "2022-11-10T15:32:18.491114Z"
    },
    "papermill": {
     "duration": 0.059295,
     "end_time": "2022-11-10T15:32:18.495196",
     "exception": false,
     "start_time": "2022-11-10T15:32:18.435901",
     "status": "completed"
    },
    "tags": []
   },
   "outputs": [
    {
     "name": "stdout",
     "output_type": "stream",
     "text": [
      "Precision:\t0.7164179104477612\n",
      "Recall:\t0.8347826086956521\n",
      "F1 Score:\t0.7710843373493976\n",
      "Specificity Score:\t39.0\n"
     ]
    }
   ],
   "source": [
    "precision = calculate_precision(knn_conf_mat[0][0],knn_conf_mat[1][0])\n",
    "recall = calculate_recall(knn_conf_mat[0][0],knn_conf_mat[0][1])\n",
    "harmonic_mean = calculte_harmonic_mean(precision,recall)\n",
    "specificity = calculate_specificity(knn_conf_mat[1][1],knn_conf_mat[1][0])\n",
    "print(\"Precision:\\t\" +str(precision))\n",
    "print(\"Recall:\\t\" +str(recall))\n",
    "print(\"F1 Score:\\t\" +str(harmonic_mean))\n",
    "print(\"Specificity Score:\\t\" + str(specificity))"
   ]
  },
  {
   "cell_type": "code",
   "execution_count": 38,
   "id": "7a167768",
   "metadata": {
    "execution": {
     "iopub.execute_input": "2022-11-10T15:32:18.593624Z",
     "iopub.status.busy": "2022-11-10T15:32:18.593184Z",
     "iopub.status.idle": "2022-11-10T15:32:18.601951Z",
     "shell.execute_reply": "2022-11-10T15:32:18.601088Z"
    },
    "papermill": {
     "duration": 0.060493,
     "end_time": "2022-11-10T15:32:18.604158",
     "exception": false,
     "start_time": "2022-11-10T15:32:18.543665",
     "status": "completed"
    },
    "tags": []
   },
   "outputs": [
    {
     "name": "stdout",
     "output_type": "stream",
     "text": [
      "              precision    recall  f1-score   support\n",
      "\n",
      "           0       0.72      0.83      0.77       115\n",
      "           1       0.67      0.51      0.58        77\n",
      "\n",
      "    accuracy                           0.70       192\n",
      "   macro avg       0.69      0.67      0.67       192\n",
      "weighted avg       0.70      0.70      0.69       192\n",
      "\n"
     ]
    }
   ],
   "source": [
    "print(classification_report(y_test,knn_pred))"
   ]
  },
  {
   "attachments": {},
   "cell_type": "markdown",
   "id": "6bd813ee",
   "metadata": {
    "papermill": {
     "duration": 0.047448,
     "end_time": "2022-11-10T15:32:18.699294",
     "exception": false,
     "start_time": "2022-11-10T15:32:18.651846",
     "status": "completed"
    },
    "tags": []
   },
   "source": [
    "# Decision Trees"
   ]
  },
  {
   "cell_type": "code",
   "execution_count": 39,
   "id": "d4a342a4",
   "metadata": {
    "execution": {
     "iopub.execute_input": "2022-11-10T15:32:18.797173Z",
     "iopub.status.busy": "2022-11-10T15:32:18.796793Z",
     "iopub.status.idle": "2022-11-10T15:32:18.801697Z",
     "shell.execute_reply": "2022-11-10T15:32:18.800636Z"
    },
    "papermill": {
     "duration": 0.055888,
     "end_time": "2022-11-10T15:32:18.803952",
     "exception": false,
     "start_time": "2022-11-10T15:32:18.748064",
     "status": "completed"
    },
    "tags": []
   },
   "outputs": [],
   "source": [
    "tree_classifier = DecisionTreeClassifier(criterion='gini',max_depth=3,min_samples_leaf=5)"
   ]
  },
  {
   "cell_type": "code",
   "execution_count": 40,
   "id": "8e2b2462",
   "metadata": {
    "execution": {
     "iopub.execute_input": "2022-11-10T15:32:18.901735Z",
     "iopub.status.busy": "2022-11-10T15:32:18.901364Z",
     "iopub.status.idle": "2022-11-10T15:32:18.910738Z",
     "shell.execute_reply": "2022-11-10T15:32:18.910030Z"
    },
    "papermill": {
     "duration": 0.060288,
     "end_time": "2022-11-10T15:32:18.912445",
     "exception": false,
     "start_time": "2022-11-10T15:32:18.852157",
     "status": "completed"
    },
    "tags": []
   },
   "outputs": [
    {
     "data": {
      "text/plain": [
       "DecisionTreeClassifier(max_depth=3, min_samples_leaf=5)"
      ]
     },
     "execution_count": 40,
     "metadata": {},
     "output_type": "execute_result"
    }
   ],
   "source": [
    "tree_classifier.fit(X_train,y_train)"
   ]
  },
  {
   "cell_type": "code",
   "execution_count": 41,
   "id": "2d664506",
   "metadata": {
    "execution": {
     "iopub.execute_input": "2022-11-10T15:32:19.011520Z",
     "iopub.status.busy": "2022-11-10T15:32:19.010328Z",
     "iopub.status.idle": "2022-11-10T15:32:19.017062Z",
     "shell.execute_reply": "2022-11-10T15:32:19.016039Z"
    },
    "papermill": {
     "duration": 0.058549,
     "end_time": "2022-11-10T15:32:19.019147",
     "exception": false,
     "start_time": "2022-11-10T15:32:18.960598",
     "status": "completed"
    },
    "tags": []
   },
   "outputs": [],
   "source": [
    "tree_pred = tree_classifier.predict(X_test)"
   ]
  },
  {
   "cell_type": "code",
   "execution_count": 42,
   "id": "94d9d567",
   "metadata": {
    "execution": {
     "iopub.execute_input": "2022-11-10T15:32:19.118670Z",
     "iopub.status.busy": "2022-11-10T15:32:19.117595Z",
     "iopub.status.idle": "2022-11-10T15:32:19.124197Z",
     "shell.execute_reply": "2022-11-10T15:32:19.123074Z"
    },
    "papermill": {
     "duration": 0.057658,
     "end_time": "2022-11-10T15:32:19.126303",
     "exception": false,
     "start_time": "2022-11-10T15:32:19.068645",
     "status": "completed"
    },
    "tags": []
   },
   "outputs": [
    {
     "data": {
      "text/plain": [
       "array([0, 1, 1, 0, 1, 1, 0, 0, 0, 0, 0, 0, 0, 0, 0, 1, 0, 0, 0, 1, 0, 1,\n",
       "       0, 0, 0, 0, 0, 0, 0, 0, 1, 0, 1, 0, 0, 0, 0, 1, 0, 0, 1, 0, 1, 1,\n",
       "       0, 0, 0, 0, 0, 0, 0, 1, 1, 1, 0, 0, 0, 1, 1, 1, 1, 1, 0, 0, 0, 0,\n",
       "       1, 0, 0, 1, 0, 0, 0, 0, 0, 0, 0, 0, 0, 0, 1, 1, 0, 1, 0, 1, 0, 1,\n",
       "       1, 0, 0, 1, 0, 0, 0, 0, 0, 1, 0, 0, 1, 0, 0, 0, 0, 0, 0, 0, 0, 1,\n",
       "       0, 1, 0, 1, 0, 1, 1, 1, 0, 1, 0, 0, 0, 1, 1, 1, 0, 0, 0, 0, 1, 0,\n",
       "       1, 0, 1, 0, 0, 1, 0, 0, 0, 0, 0, 1, 0, 0, 0, 0, 0, 0, 1, 0, 0, 0,\n",
       "       0, 0, 0, 1, 0, 1, 0, 0, 0, 1, 0, 1, 1, 0, 1, 1, 0, 0, 0, 1, 0, 0,\n",
       "       0, 1, 0, 0, 1, 0, 0, 0, 0, 0, 1, 1, 0, 1, 0, 0], dtype=int64)"
      ]
     },
     "execution_count": 42,
     "metadata": {},
     "output_type": "execute_result"
    }
   ],
   "source": [
    "tree_pred"
   ]
  },
  {
   "cell_type": "code",
   "execution_count": 43,
   "id": "d8d9fd86",
   "metadata": {
    "execution": {
     "iopub.execute_input": "2022-11-10T15:32:19.225975Z",
     "iopub.status.busy": "2022-11-10T15:32:19.224998Z",
     "iopub.status.idle": "2022-11-10T15:32:19.232273Z",
     "shell.execute_reply": "2022-11-10T15:32:19.231397Z"
    },
    "papermill": {
     "duration": 0.059238,
     "end_time": "2022-11-10T15:32:19.234262",
     "exception": false,
     "start_time": "2022-11-10T15:32:19.175024",
     "status": "completed"
    },
    "tags": []
   },
   "outputs": [
    {
     "data": {
      "text/plain": [
       "452    0\n",
       "370    1\n",
       "746    1\n",
       "122    0\n",
       "614    1\n",
       "      ..\n",
       "458    1\n",
       "524    0\n",
       "43     1\n",
       "66     1\n",
       "76     0\n",
       "Name: Outcome, Length: 192, dtype: int64"
      ]
     },
     "execution_count": 43,
     "metadata": {},
     "output_type": "execute_result"
    }
   ],
   "source": [
    "y_test"
   ]
  },
  {
   "cell_type": "code",
   "execution_count": 44,
   "id": "c179a36b",
   "metadata": {
    "execution": {
     "iopub.execute_input": "2022-11-10T15:32:19.332961Z",
     "iopub.status.busy": "2022-11-10T15:32:19.332631Z",
     "iopub.status.idle": "2022-11-10T15:32:19.338615Z",
     "shell.execute_reply": "2022-11-10T15:32:19.337792Z"
    },
    "papermill": {
     "duration": 0.058279,
     "end_time": "2022-11-10T15:32:19.340422",
     "exception": false,
     "start_time": "2022-11-10T15:32:19.282143",
     "status": "completed"
    },
    "tags": []
   },
   "outputs": [
    {
     "data": {
      "text/plain": [
       "0.78125"
      ]
     },
     "execution_count": 44,
     "metadata": {},
     "output_type": "execute_result"
    }
   ],
   "source": [
    "accuracy_score(y_test,tree_pred)"
   ]
  },
  {
   "cell_type": "code",
   "execution_count": 45,
   "id": "5bdfb533",
   "metadata": {
    "execution": {
     "iopub.execute_input": "2022-11-10T15:32:19.437691Z",
     "iopub.status.busy": "2022-11-10T15:32:19.437047Z",
     "iopub.status.idle": "2022-11-10T15:32:19.443040Z",
     "shell.execute_reply": "2022-11-10T15:32:19.442286Z"
    },
    "papermill": {
     "duration": 0.057472,
     "end_time": "2022-11-10T15:32:19.445546",
     "exception": false,
     "start_time": "2022-11-10T15:32:19.388074",
     "status": "completed"
    },
    "tags": []
   },
   "outputs": [
    {
     "data": {
      "text/plain": [
       "array([[102,  13],\n",
       "       [ 29,  48]], dtype=int64)"
      ]
     },
     "execution_count": 45,
     "metadata": {},
     "output_type": "execute_result"
    }
   ],
   "source": [
    "tree_conf_mat = confusion_matrix(y_test,tree_pred)\n",
    "tree_conf_mat"
   ]
  },
  {
   "attachments": {},
   "cell_type": "markdown",
   "id": "f83080e5",
   "metadata": {
    "papermill": {
     "duration": 0.048398,
     "end_time": "2022-11-10T15:32:19.543310",
     "exception": false,
     "start_time": "2022-11-10T15:32:19.494912",
     "status": "completed"
    },
    "tags": []
   },
   "source": [
    "# Decision Tree Evaluation"
   ]
  },
  {
   "cell_type": "code",
   "execution_count": 46,
   "id": "e83263b8",
   "metadata": {
    "execution": {
     "iopub.execute_input": "2022-11-10T15:32:19.641980Z",
     "iopub.status.busy": "2022-11-10T15:32:19.641606Z",
     "iopub.status.idle": "2022-11-10T15:32:19.647849Z",
     "shell.execute_reply": "2022-11-10T15:32:19.647159Z"
    },
    "papermill": {
     "duration": 0.058632,
     "end_time": "2022-11-10T15:32:19.650070",
     "exception": false,
     "start_time": "2022-11-10T15:32:19.591438",
     "status": "completed"
    },
    "tags": []
   },
   "outputs": [
    {
     "name": "stdout",
     "output_type": "stream",
     "text": [
      "Precision:\t0.7786259541984732\n",
      "Recall:\t0.8869565217391304\n",
      "F1 Score:\t0.8292682926829268\n",
      "Specificity Score:\t30.0\n"
     ]
    }
   ],
   "source": [
    "precision = calculate_precision(tree_conf_mat[0][0],tree_conf_mat[1][0])\n",
    "recall = calculate_recall(tree_conf_mat[0][0],tree_conf_mat[0][1])\n",
    "harmonic_mean = calculte_harmonic_mean(precision,recall)\n",
    "specificity = calculate_specificity(tree_conf_mat[1][1],tree_conf_mat[1][0])\n",
    "print(\"Precision:\\t\" +str(precision))\n",
    "print(\"Recall:\\t\" +str(recall))\n",
    "print(\"F1 Score:\\t\" +str(harmonic_mean))\n",
    "print(\"Specificity Score:\\t\" + str(specificity))"
   ]
  },
  {
   "cell_type": "code",
   "execution_count": 47,
   "id": "f8dc9899",
   "metadata": {},
   "outputs": [
    {
     "name": "stdout",
     "output_type": "stream",
     "text": [
      "              precision    recall  f1-score   support\n",
      "\n",
      "           0       0.78      0.89      0.83       115\n",
      "           1       0.79      0.62      0.70        77\n",
      "\n",
      "    accuracy                           0.78       192\n",
      "   macro avg       0.78      0.76      0.76       192\n",
      "weighted avg       0.78      0.78      0.78       192\n",
      "\n"
     ]
    }
   ],
   "source": [
    "print(classification_report(y_test,tree_pred))"
   ]
  },
  {
   "attachments": {},
   "cell_type": "markdown",
   "id": "5528749a",
   "metadata": {
    "papermill": {
     "duration": 0.048217,
     "end_time": "2022-11-10T15:32:19.747461",
     "exception": false,
     "start_time": "2022-11-10T15:32:19.699244",
     "status": "completed"
    },
    "tags": []
   },
   "source": [
    "***Visualizing the Decision Tree***"
   ]
  },
  {
   "attachments": {},
   "cell_type": "markdown",
   "id": "88fee7a5",
   "metadata": {
    "papermill": {
     "duration": 0.051106,
     "end_time": "2022-11-10T15:32:20.812670",
     "exception": false,
     "start_time": "2022-11-10T15:32:20.761564",
     "status": "completed"
    },
    "tags": []
   },
   "source": [
    "# RandomForest"
   ]
  },
  {
   "cell_type": "code",
   "execution_count": 48,
   "id": "02712a04",
   "metadata": {
    "execution": {
     "iopub.execute_input": "2022-11-10T15:32:20.917291Z",
     "iopub.status.busy": "2022-11-10T15:32:20.916536Z",
     "iopub.status.idle": "2022-11-10T15:32:20.920396Z",
     "shell.execute_reply": "2022-11-10T15:32:20.919778Z"
    },
    "papermill": {
     "duration": 0.05866,
     "end_time": "2022-11-10T15:32:20.922275",
     "exception": false,
     "start_time": "2022-11-10T15:32:20.863615",
     "status": "completed"
    },
    "tags": []
   },
   "outputs": [],
   "source": [
    "forest_classifier = RandomForestClassifier(n_estimators=100)"
   ]
  },
  {
   "cell_type": "code",
   "execution_count": 49,
   "id": "f0783a94",
   "metadata": {
    "execution": {
     "iopub.execute_input": "2022-11-10T15:32:21.027222Z",
     "iopub.status.busy": "2022-11-10T15:32:21.026843Z",
     "iopub.status.idle": "2022-11-10T15:32:21.192635Z",
     "shell.execute_reply": "2022-11-10T15:32:21.191678Z"
    },
    "papermill": {
     "duration": 0.220688,
     "end_time": "2022-11-10T15:32:21.194494",
     "exception": false,
     "start_time": "2022-11-10T15:32:20.973806",
     "status": "completed"
    },
    "tags": []
   },
   "outputs": [
    {
     "data": {
      "text/plain": [
       "RandomForestClassifier()"
      ]
     },
     "execution_count": 49,
     "metadata": {},
     "output_type": "execute_result"
    }
   ],
   "source": [
    "forest_classifier.fit(X_train,y_train)"
   ]
  },
  {
   "cell_type": "code",
   "execution_count": 50,
   "id": "6c1e537a",
   "metadata": {
    "execution": {
     "iopub.execute_input": "2022-11-10T15:32:21.297870Z",
     "iopub.status.busy": "2022-11-10T15:32:21.296853Z",
     "iopub.status.idle": "2022-11-10T15:32:21.316492Z",
     "shell.execute_reply": "2022-11-10T15:32:21.315539Z"
    },
    "papermill": {
     "duration": 0.074246,
     "end_time": "2022-11-10T15:32:21.318731",
     "exception": false,
     "start_time": "2022-11-10T15:32:21.244485",
     "status": "completed"
    },
    "tags": []
   },
   "outputs": [],
   "source": [
    "forest_pred = forest_classifier.predict(X_test)"
   ]
  },
  {
   "cell_type": "code",
   "execution_count": 51,
   "id": "4ae833a9",
   "metadata": {
    "execution": {
     "iopub.execute_input": "2022-11-10T15:32:21.422583Z",
     "iopub.status.busy": "2022-11-10T15:32:21.421742Z",
     "iopub.status.idle": "2022-11-10T15:32:21.427876Z",
     "shell.execute_reply": "2022-11-10T15:32:21.427097Z"
    },
    "papermill": {
     "duration": 0.060229,
     "end_time": "2022-11-10T15:32:21.429709",
     "exception": false,
     "start_time": "2022-11-10T15:32:21.369480",
     "status": "completed"
    },
    "tags": []
   },
   "outputs": [
    {
     "data": {
      "text/plain": [
       "array([0, 1, 0, 0, 1, 1, 0, 0, 0, 1, 0, 0, 0, 0, 0, 1, 0, 0, 0, 0, 0, 1,\n",
       "       0, 0, 0, 0, 0, 0, 0, 1, 0, 1, 1, 0, 0, 0, 0, 1, 0, 0, 0, 0, 1, 0,\n",
       "       0, 0, 0, 0, 1, 1, 0, 1, 1, 0, 0, 0, 0, 0, 1, 1, 1, 1, 0, 0, 0, 0,\n",
       "       1, 0, 0, 1, 0, 0, 1, 0, 0, 0, 0, 0, 0, 0, 0, 0, 0, 0, 1, 1, 0, 0,\n",
       "       0, 0, 0, 1, 0, 0, 0, 0, 0, 1, 0, 0, 1, 0, 0, 0, 0, 0, 0, 0, 0, 0,\n",
       "       0, 1, 0, 0, 0, 1, 1, 1, 0, 1, 0, 0, 0, 1, 0, 1, 0, 0, 0, 0, 1, 0,\n",
       "       1, 0, 1, 0, 0, 1, 0, 1, 0, 0, 1, 1, 0, 1, 0, 0, 0, 1, 1, 0, 0, 0,\n",
       "       0, 0, 0, 1, 0, 0, 0, 0, 0, 1, 0, 1, 0, 0, 1, 1, 0, 1, 0, 0, 0, 0,\n",
       "       0, 1, 0, 0, 1, 0, 0, 0, 0, 0, 1, 1, 0, 1, 0, 0], dtype=int64)"
      ]
     },
     "execution_count": 51,
     "metadata": {},
     "output_type": "execute_result"
    }
   ],
   "source": [
    "forest_pred"
   ]
  },
  {
   "cell_type": "code",
   "execution_count": 52,
   "id": "c3363b8a",
   "metadata": {
    "execution": {
     "iopub.execute_input": "2022-11-10T15:32:21.535642Z",
     "iopub.status.busy": "2022-11-10T15:32:21.535159Z",
     "iopub.status.idle": "2022-11-10T15:32:21.543022Z",
     "shell.execute_reply": "2022-11-10T15:32:21.541647Z"
    },
    "papermill": {
     "duration": 0.06405,
     "end_time": "2022-11-10T15:32:21.546089",
     "exception": false,
     "start_time": "2022-11-10T15:32:21.482039",
     "status": "completed"
    },
    "tags": []
   },
   "outputs": [
    {
     "data": {
      "text/plain": [
       "array([0, 1, 1, 0, 1, 1, 0, 0, 0, 1, 0, 0, 0, 1, 0, 1, 0, 0, 0, 1, 0, 1,\n",
       "       0, 1, 0, 0, 0, 0, 0, 1, 0, 1, 1, 1, 0, 0, 0, 1, 0, 0, 1, 1, 1, 1,\n",
       "       0, 0, 0, 1, 1, 1, 0, 1, 1, 1, 0, 0, 1, 1, 1, 1, 0, 1, 0, 0, 0, 0,\n",
       "       1, 0, 0, 1, 0, 0, 0, 1, 1, 1, 0, 0, 0, 0, 1, 1, 0, 0, 0, 0, 0, 0,\n",
       "       0, 0, 0, 1, 0, 0, 0, 0, 0, 1, 0, 1, 1, 0, 1, 0, 0, 0, 0, 0, 0, 0,\n",
       "       0, 1, 0, 0, 1, 1, 1, 1, 0, 1, 0, 0, 1, 1, 1, 0, 1, 0, 0, 0, 1, 0,\n",
       "       1, 1, 1, 0, 0, 1, 1, 0, 0, 0, 1, 1, 0, 0, 0, 0, 0, 1, 1, 0, 1, 1,\n",
       "       0, 0, 0, 1, 0, 0, 1, 1, 0, 1, 0, 0, 1, 0, 1, 0, 0, 0, 0, 1, 0, 1,\n",
       "       0, 1, 0, 0, 0, 0, 0, 0, 0, 0, 1, 1, 0, 1, 1, 0], dtype=int64)"
      ]
     },
     "execution_count": 52,
     "metadata": {},
     "output_type": "execute_result"
    }
   ],
   "source": [
    "y_test.values"
   ]
  },
  {
   "attachments": {},
   "cell_type": "markdown",
   "id": "a4638efe",
   "metadata": {
    "papermill": {
     "duration": 0.050736,
     "end_time": "2022-11-10T15:32:21.647539",
     "exception": false,
     "start_time": "2022-11-10T15:32:21.596803",
     "status": "completed"
    },
    "tags": []
   },
   "source": [
    "# RandomForest Evaluation"
   ]
  },
  {
   "cell_type": "code",
   "execution_count": 53,
   "id": "ad476f4f",
   "metadata": {
    "execution": {
     "iopub.execute_input": "2022-11-10T15:32:21.753962Z",
     "iopub.status.busy": "2022-11-10T15:32:21.753485Z",
     "iopub.status.idle": "2022-11-10T15:32:21.764277Z",
     "shell.execute_reply": "2022-11-10T15:32:21.763084Z"
    },
    "papermill": {
     "duration": 0.066814,
     "end_time": "2022-11-10T15:32:21.766548",
     "exception": false,
     "start_time": "2022-11-10T15:32:21.699734",
     "status": "completed"
    },
    "tags": []
   },
   "outputs": [
    {
     "data": {
      "text/plain": [
       "array([[104,  11],\n",
       "       [ 33,  44]], dtype=int64)"
      ]
     },
     "execution_count": 53,
     "metadata": {},
     "output_type": "execute_result"
    }
   ],
   "source": [
    "forest_conf_mat = confusion_matrix(y_test,forest_pred)\n",
    "forest_conf_mat"
   ]
  },
  {
   "cell_type": "code",
   "execution_count": 54,
   "id": "c06aa6a5",
   "metadata": {
    "execution": {
     "iopub.execute_input": "2022-11-10T15:32:21.870211Z",
     "iopub.status.busy": "2022-11-10T15:32:21.869889Z",
     "iopub.status.idle": "2022-11-10T15:32:21.875022Z",
     "shell.execute_reply": "2022-11-10T15:32:21.874402Z"
    },
    "papermill": {
     "duration": 0.059096,
     "end_time": "2022-11-10T15:32:21.876590",
     "exception": false,
     "start_time": "2022-11-10T15:32:21.817494",
     "status": "completed"
    },
    "tags": []
   },
   "outputs": [
    {
     "data": {
      "text/plain": [
       "0.7708333333333334"
      ]
     },
     "execution_count": 54,
     "metadata": {},
     "output_type": "execute_result"
    }
   ],
   "source": [
    "accuracy_score(y_test,forest_pred)"
   ]
  },
  {
   "cell_type": "code",
   "execution_count": 55,
   "id": "b5c4e64b",
   "metadata": {
    "execution": {
     "iopub.execute_input": "2022-11-10T15:32:21.980120Z",
     "iopub.status.busy": "2022-11-10T15:32:21.979467Z",
     "iopub.status.idle": "2022-11-10T15:32:21.986636Z",
     "shell.execute_reply": "2022-11-10T15:32:21.985353Z"
    },
    "papermill": {
     "duration": 0.062688,
     "end_time": "2022-11-10T15:32:21.989678",
     "exception": false,
     "start_time": "2022-11-10T15:32:21.926990",
     "status": "completed"
    },
    "tags": []
   },
   "outputs": [
    {
     "name": "stdout",
     "output_type": "stream",
     "text": [
      "Precision:\t0.7591240875912408\n",
      "Recall:\t0.9043478260869565\n",
      "F1 Score:\t0.8253968253968254\n",
      "Specificity Score:\t34.0\n"
     ]
    }
   ],
   "source": [
    "precision = calculate_precision(forest_conf_mat[0][0],forest_conf_mat[1][0])\n",
    "recall = calculate_recall(forest_conf_mat[0][0],forest_conf_mat[0][1])\n",
    "harmonic_mean = calculte_harmonic_mean(precision,recall)\n",
    "specificity = calculate_specificity(forest_conf_mat[1][1],forest_conf_mat[1][0])\n",
    "print(\"Precision:\\t\" +str(precision))\n",
    "print(\"Recall:\\t\" +str(recall))\n",
    "print(\"F1 Score:\\t\" +str(harmonic_mean))\n",
    "print(\"Specificity Score:\\t\" + str(specificity))"
   ]
  },
  {
   "cell_type": "code",
   "execution_count": 56,
   "id": "abc576d9",
   "metadata": {},
   "outputs": [
    {
     "name": "stdout",
     "output_type": "stream",
     "text": [
      "              precision    recall  f1-score   support\n",
      "\n",
      "           0       0.76      0.90      0.83       115\n",
      "           1       0.80      0.57      0.67        77\n",
      "\n",
      "    accuracy                           0.77       192\n",
      "   macro avg       0.78      0.74      0.75       192\n",
      "weighted avg       0.78      0.77      0.76       192\n",
      "\n"
     ]
    }
   ],
   "source": [
    "print(classification_report(y_test,forest_pred))"
   ]
  },
  {
   "attachments": {},
   "cell_type": "markdown",
   "id": "6679c205",
   "metadata": {
    "papermill": {
     "duration": 0.050489,
     "end_time": "2022-11-10T15:32:22.091217",
     "exception": false,
     "start_time": "2022-11-10T15:32:22.040728",
     "status": "completed"
    },
    "tags": []
   },
   "source": [
    "***Visualization of Tree in RandomForest***"
   ]
  },
  {
   "cell_type": "code",
   "execution_count": 57,
   "id": "d9d59bd6",
   "metadata": {
    "execution": {
     "iopub.execute_input": "2022-11-10T15:32:32.013471Z",
     "iopub.status.busy": "2022-11-10T15:32:32.013109Z",
     "iopub.status.idle": "2022-11-10T15:32:32.017266Z",
     "shell.execute_reply": "2022-11-10T15:32:32.016181Z"
    },
    "papermill": {
     "duration": 0.060835,
     "end_time": "2022-11-10T15:32:32.019411",
     "exception": false,
     "start_time": "2022-11-10T15:32:31.958576",
     "status": "completed"
    },
    "tags": []
   },
   "outputs": [],
   "source": [
    "svm_classifier = SVC()"
   ]
  },
  {
   "cell_type": "code",
   "execution_count": 58,
   "id": "fb49b455",
   "metadata": {
    "execution": {
     "iopub.execute_input": "2022-11-10T15:32:32.127983Z",
     "iopub.status.busy": "2022-11-10T15:32:32.127074Z",
     "iopub.status.idle": "2022-11-10T15:32:32.143943Z",
     "shell.execute_reply": "2022-11-10T15:32:32.143060Z"
    },
    "papermill": {
     "duration": 0.074557,
     "end_time": "2022-11-10T15:32:32.147223",
     "exception": false,
     "start_time": "2022-11-10T15:32:32.072666",
     "status": "completed"
    },
    "tags": []
   },
   "outputs": [
    {
     "data": {
      "text/plain": [
       "SVC()"
      ]
     },
     "execution_count": 58,
     "metadata": {},
     "output_type": "execute_result"
    }
   ],
   "source": [
    "svm_classifier.fit(X_train,y_train)"
   ]
  },
  {
   "cell_type": "code",
   "execution_count": 59,
   "id": "8597d928",
   "metadata": {
    "execution": {
     "iopub.execute_input": "2022-11-10T15:32:32.256475Z",
     "iopub.status.busy": "2022-11-10T15:32:32.255845Z",
     "iopub.status.idle": "2022-11-10T15:32:32.264082Z",
     "shell.execute_reply": "2022-11-10T15:32:32.263463Z"
    },
    "papermill": {
     "duration": 0.064659,
     "end_time": "2022-11-10T15:32:32.266092",
     "exception": false,
     "start_time": "2022-11-10T15:32:32.201433",
     "status": "completed"
    },
    "tags": []
   },
   "outputs": [],
   "source": [
    "svm_pred = svm_classifier.predict(X_test)"
   ]
  },
  {
   "attachments": {},
   "cell_type": "markdown",
   "id": "ca4f9924",
   "metadata": {
    "papermill": {
     "duration": 0.054449,
     "end_time": "2022-11-10T15:32:32.374554",
     "exception": false,
     "start_time": "2022-11-10T15:32:32.320105",
     "status": "completed"
    },
    "tags": []
   },
   "source": [
    "# SVM Evaluation"
   ]
  },
  {
   "cell_type": "code",
   "execution_count": 60,
   "id": "63cfdf47",
   "metadata": {
    "execution": {
     "iopub.execute_input": "2022-11-10T15:32:32.487615Z",
     "iopub.status.busy": "2022-11-10T15:32:32.486969Z",
     "iopub.status.idle": "2022-11-10T15:32:32.493955Z",
     "shell.execute_reply": "2022-11-10T15:32:32.492542Z"
    },
    "papermill": {
     "duration": 0.065502,
     "end_time": "2022-11-10T15:32:32.496272",
     "exception": false,
     "start_time": "2022-11-10T15:32:32.430770",
     "status": "completed"
    },
    "tags": []
   },
   "outputs": [
    {
     "data": {
      "text/plain": [
       "0.7552083333333334"
      ]
     },
     "execution_count": 60,
     "metadata": {},
     "output_type": "execute_result"
    }
   ],
   "source": [
    "accuracy_score(y_test,svm_pred)"
   ]
  },
  {
   "cell_type": "code",
   "execution_count": 61,
   "id": "f9654d90",
   "metadata": {
    "execution": {
     "iopub.execute_input": "2022-11-10T15:32:32.607986Z",
     "iopub.status.busy": "2022-11-10T15:32:32.607646Z",
     "iopub.status.idle": "2022-11-10T15:32:32.615382Z",
     "shell.execute_reply": "2022-11-10T15:32:32.613823Z"
    },
    "papermill": {
     "duration": 0.06585,
     "end_time": "2022-11-10T15:32:32.617530",
     "exception": false,
     "start_time": "2022-11-10T15:32:32.551680",
     "status": "completed"
    },
    "tags": []
   },
   "outputs": [
    {
     "data": {
      "text/plain": [
       "array([[111,   4],\n",
       "       [ 43,  34]], dtype=int64)"
      ]
     },
     "execution_count": 61,
     "metadata": {},
     "output_type": "execute_result"
    }
   ],
   "source": [
    "svm_conf_mat = confusion_matrix(y_test,svm_pred)\n",
    "svm_conf_mat"
   ]
  },
  {
   "cell_type": "code",
   "execution_count": 62,
   "id": "dc6cb450",
   "metadata": {
    "execution": {
     "iopub.execute_input": "2022-11-10T15:32:32.727037Z",
     "iopub.status.busy": "2022-11-10T15:32:32.726633Z",
     "iopub.status.idle": "2022-11-10T15:32:32.734154Z",
     "shell.execute_reply": "2022-11-10T15:32:32.733168Z"
    },
    "papermill": {
     "duration": 0.064649,
     "end_time": "2022-11-10T15:32:32.736167",
     "exception": false,
     "start_time": "2022-11-10T15:32:32.671518",
     "status": "completed"
    },
    "tags": []
   },
   "outputs": [
    {
     "name": "stdout",
     "output_type": "stream",
     "text": [
      "Precision:\t0.7207792207792207\n",
      "Recall:\t0.9652173913043478\n",
      "F1 Score:\t0.8252788104089218\n",
      "Specificity Score:\t44.0\n"
     ]
    }
   ],
   "source": [
    "precision = calculate_precision(svm_conf_mat[0][0],svm_conf_mat[1][0])\n",
    "recall = calculate_recall(svm_conf_mat[0][0],svm_conf_mat[0][1])\n",
    "harmonic_mean = calculte_harmonic_mean(precision,recall)\n",
    "specificity = calculate_specificity(svm_conf_mat[1][1],svm_conf_mat[1][0])\n",
    "print(\"Precision:\\t\" +str(precision))\n",
    "print(\"Recall:\\t\" +str(recall))\n",
    "print(\"F1 Score:\\t\" +str(harmonic_mean))\n",
    "print(\"Specificity Score:\\t\" + str(specificity))"
   ]
  },
  {
   "cell_type": "code",
   "execution_count": 63,
   "id": "62143c07",
   "metadata": {},
   "outputs": [
    {
     "name": "stdout",
     "output_type": "stream",
     "text": [
      "              precision    recall  f1-score   support\n",
      "\n",
      "           0       0.72      0.97      0.83       115\n",
      "           1       0.89      0.44      0.59        77\n",
      "\n",
      "    accuracy                           0.76       192\n",
      "   macro avg       0.81      0.70      0.71       192\n",
      "weighted avg       0.79      0.76      0.73       192\n",
      "\n"
     ]
    }
   ],
   "source": [
    "print(classification_report(y_test,svm_pred))"
   ]
  },
  {
   "attachments": {},
   "cell_type": "markdown",
   "id": "532aa612",
   "metadata": {
    "papermill": {
     "duration": 0.053479,
     "end_time": "2022-11-10T15:32:33.555767",
     "exception": false,
     "start_time": "2022-11-10T15:32:33.502288",
     "status": "completed"
    },
    "tags": []
   },
   "source": [
    "# Gradient Boosting Classifier"
   ]
  },
  {
   "cell_type": "code",
   "execution_count": 64,
   "id": "1b4d073a",
   "metadata": {
    "execution": {
     "iopub.execute_input": "2022-11-10T15:32:33.667227Z",
     "iopub.status.busy": "2022-11-10T15:32:33.666276Z",
     "iopub.status.idle": "2022-11-10T15:32:33.791487Z",
     "shell.execute_reply": "2022-11-10T15:32:33.790516Z"
    },
    "papermill": {
     "duration": 0.18355,
     "end_time": "2022-11-10T15:32:33.794479",
     "exception": false,
     "start_time": "2022-11-10T15:32:33.610929",
     "status": "completed"
    },
    "tags": []
   },
   "outputs": [
    {
     "data": {
      "text/plain": [
       "GradientBoostingClassifier()"
      ]
     },
     "execution_count": 64,
     "metadata": {},
     "output_type": "execute_result"
    }
   ],
   "source": [
    "GBC = GradientBoostingClassifier()\n",
    "GBC.fit(X_train,y_train)"
   ]
  },
  {
   "cell_type": "code",
   "execution_count": 65,
   "id": "2eaf26f5",
   "metadata": {
    "execution": {
     "iopub.execute_input": "2022-11-10T15:32:33.905030Z",
     "iopub.status.busy": "2022-11-10T15:32:33.904618Z",
     "iopub.status.idle": "2022-11-10T15:32:33.915186Z",
     "shell.execute_reply": "2022-11-10T15:32:33.913799Z"
    },
    "papermill": {
     "duration": 0.068049,
     "end_time": "2022-11-10T15:32:33.917070",
     "exception": false,
     "start_time": "2022-11-10T15:32:33.849021",
     "status": "completed"
    },
    "tags": []
   },
   "outputs": [
    {
     "data": {
      "text/plain": [
       "array([[103,  12],\n",
       "       [ 33,  44]], dtype=int64)"
      ]
     },
     "execution_count": 65,
     "metadata": {},
     "output_type": "execute_result"
    }
   ],
   "source": [
    "gbc_pred = GBC.predict(X_test)\n",
    "gbc_conf_mat = confusion_matrix(y_test, gbc_pred)\n",
    "gbc_conf_mat"
   ]
  },
  {
   "cell_type": "code",
   "execution_count": 66,
   "id": "41dd225c",
   "metadata": {
    "execution": {
     "iopub.execute_input": "2022-11-10T15:32:34.028294Z",
     "iopub.status.busy": "2022-11-10T15:32:34.027888Z",
     "iopub.status.idle": "2022-11-10T15:32:34.034370Z",
     "shell.execute_reply": "2022-11-10T15:32:34.033680Z"
    },
    "papermill": {
     "duration": 0.065142,
     "end_time": "2022-11-10T15:32:34.036890",
     "exception": false,
     "start_time": "2022-11-10T15:32:33.971748",
     "status": "completed"
    },
    "tags": []
   },
   "outputs": [
    {
     "data": {
      "text/plain": [
       "0.765625"
      ]
     },
     "execution_count": 66,
     "metadata": {},
     "output_type": "execute_result"
    }
   ],
   "source": [
    "accuracy_score(y_test,gbc_pred)"
   ]
  },
  {
   "cell_type": "code",
   "execution_count": 67,
   "id": "caed0c36",
   "metadata": {
    "execution": {
     "iopub.execute_input": "2022-11-10T15:32:34.147184Z",
     "iopub.status.busy": "2022-11-10T15:32:34.146805Z",
     "iopub.status.idle": "2022-11-10T15:32:34.153724Z",
     "shell.execute_reply": "2022-11-10T15:32:34.152963Z"
    },
    "papermill": {
     "duration": 0.064429,
     "end_time": "2022-11-10T15:32:34.155846",
     "exception": false,
     "start_time": "2022-11-10T15:32:34.091417",
     "status": "completed"
    },
    "tags": []
   },
   "outputs": [
    {
     "name": "stdout",
     "output_type": "stream",
     "text": [
      "Precision:\t0.7573529411764706\n",
      "Recall:\t0.8956521739130435\n",
      "F1 Score:\t0.8207171314741035\n",
      "Specificity Score:\t34.0\n"
     ]
    }
   ],
   "source": [
    "precision = calculate_precision(gbc_conf_mat[0][0],gbc_conf_mat[1][0])\n",
    "recall = calculate_recall(gbc_conf_mat[0][0],gbc_conf_mat[0][1])\n",
    "harmonic_mean = calculte_harmonic_mean(precision,recall)\n",
    "specificity = calculate_specificity(gbc_conf_mat[1][1],gbc_conf_mat[1][0])\n",
    "print(\"Precision:\\t\" +str(precision))\n",
    "print(\"Recall:\\t\" +str(recall))\n",
    "print(\"F1 Score:\\t\" +str(harmonic_mean))\n",
    "print(\"Specificity Score:\\t\" + str(specificity))"
   ]
  },
  {
   "cell_type": "code",
   "execution_count": 68,
   "id": "f0252c51",
   "metadata": {},
   "outputs": [
    {
     "name": "stdout",
     "output_type": "stream",
     "text": [
      "              precision    recall  f1-score   support\n",
      "\n",
      "           0       0.76      0.90      0.82       115\n",
      "           1       0.79      0.57      0.66        77\n",
      "\n",
      "    accuracy                           0.77       192\n",
      "   macro avg       0.77      0.73      0.74       192\n",
      "weighted avg       0.77      0.77      0.76       192\n",
      "\n"
     ]
    }
   ],
   "source": [
    "print(classification_report(y_test,gbc_pred))"
   ]
  },
  {
   "attachments": {},
   "cell_type": "markdown",
   "id": "f794135d",
   "metadata": {
    "papermill": {
     "duration": 0.054418,
     "end_time": "2022-11-10T15:32:34.265476",
     "exception": false,
     "start_time": "2022-11-10T15:32:34.211058",
     "status": "completed"
    },
    "tags": []
   },
   "source": [
    "# Visualization of Performance of All Models"
   ]
  },
  {
   "cell_type": "code",
   "execution_count": 69,
   "id": "33ec234c",
   "metadata": {
    "execution": {
     "iopub.execute_input": "2022-11-10T15:32:34.376362Z",
     "iopub.status.busy": "2022-11-10T15:32:34.375771Z",
     "iopub.status.idle": "2022-11-10T15:32:34.393144Z",
     "shell.execute_reply": "2022-11-10T15:32:34.391844Z"
    },
    "papermill": {
     "duration": 0.074394,
     "end_time": "2022-11-10T15:32:34.395524",
     "exception": false,
     "start_time": "2022-11-10T15:32:34.321130",
     "status": "completed"
    },
    "tags": []
   },
   "outputs": [],
   "source": [
    "score_df = pd.DataFrame()\n",
    "score_df['Model'] = pd.Series(['Logistic Regression','KNN','DecisionTrees','RandomForest','SVM','GradientBoostingClassifier'])\n",
    "score_df['Recall'] = pd.Series([calculate_recall(conf_mat[0][0],conf_mat[0][1]),\n",
    "                               calculate_recall(knn_conf_mat[0][0],knn_conf_mat[0][1]),\n",
    "                               calculate_recall(tree_conf_mat[0][0],tree_conf_mat[0][1]),\n",
    "                                calculate_recall(forest_conf_mat[0][0],forest_conf_mat[0][1]),\n",
    "                                calculate_recall(svm_conf_mat[0][0],svm_conf_mat[0][1]),\n",
    "                                calculate_recall(gbc_conf_mat[0][0],gbc_conf_mat[0][1]),\n",
    "                               ])\n",
    "score_df[\"Precision\"] = pd.Series([\n",
    "                           calculate_precision(conf_mat[0][0],conf_mat[1][0]), \n",
    "                            calculate_precision(knn_conf_mat[0][0],knn_conf_mat[1][0]), \n",
    "                            calculate_precision(tree_conf_mat[0][0],tree_conf_mat[1][0]), \n",
    "                            calculate_precision(forest_conf_mat[0][0],forest_conf_mat[1][0]), \n",
    "                            calculate_precision(svm_conf_mat[0][0],svm_conf_mat[1][0]), \n",
    "                            calculate_precision(gbc_conf_mat[0][0],gbc_conf_mat[1][0]), \n",
    "])\n",
    "\n",
    "\n",
    "#score_df['F1 Score'] = calculte_harmonic_mean(score_df['Precision'],score_df['Recall'])\n",
    "#score_df['Specificity Score'] = pd.Series([\n",
    "#                       calculate_specificity(conf_mat[1][1],conf_mat[1][0]),\n",
    "#                       calculate_specificity(knn_conf_mat[1][1],knn_conf_mat[1][0]),\n",
    "#                        calculate_specificity(tree_conf_mat[1][1],tree_conf_mat[1][0]),\n",
    "#                        calculate_specificity(forest_conf_mat[1][1],forest_conf_mat[1][0]),\n",
    "#                        calculate_specificity(svm_conf_mat[1][1],svm_conf_mat[1][0]),\n",
    "#                        calculate_specificity(gbc_conf_mat[1][1],gbc_conf_mat[1][0])\n",
    "#])\n",
    "\n",
    "score_df['Accuracy'] = pd.Series([\n",
    "    accuracy_score(y_test,y_pred),\n",
    "    accuracy_score(y_test,knn_pred),\n",
    "    accuracy_score(y_test,tree_pred),\n",
    "    accuracy_score(y_test,forest_pred),\n",
    "    accuracy_score(y_test,svm_pred),\n",
    "    accuracy_score(y_test,gbc_pred)\n",
    "    \n",
    "])\n"
   ]
  },
  {
   "cell_type": "code",
   "execution_count": 70,
   "id": "db90ffad",
   "metadata": {
    "execution": {
     "iopub.execute_input": "2022-11-10T15:32:34.507318Z",
     "iopub.status.busy": "2022-11-10T15:32:34.506881Z",
     "iopub.status.idle": "2022-11-10T15:32:34.525773Z",
     "shell.execute_reply": "2022-11-10T15:32:34.524049Z"
    },
    "papermill": {
     "duration": 0.077761,
     "end_time": "2022-11-10T15:32:34.527780",
     "exception": false,
     "start_time": "2022-11-10T15:32:34.450019",
     "status": "completed"
    },
    "tags": []
   },
   "outputs": [
    {
     "data": {
      "text/html": [
       "<style type=\"text/css\">\n",
       "#T_7257f_row0_col1, #T_7257f_row0_col3, #T_7257f_row2_col2, #T_7257f_row4_col1 {\n",
       "  background-color: #0000ff;\n",
       "  color: #f1f1f1;\n",
       "}\n",
       "#T_7257f_row0_col2 {\n",
       "  background-color: #4040ff;\n",
       "  color: #f1f1f1;\n",
       "}\n",
       "#T_7257f_row1_col1, #T_7257f_row1_col2, #T_7257f_row1_col3 {\n",
       "  background-color: #ff0000;\n",
       "  color: #f1f1f1;\n",
       "}\n",
       "#T_7257f_row2_col1 {\n",
       "  background-color: #ffcccc;\n",
       "  color: #000000;\n",
       "}\n",
       "#T_7257f_row2_col3 {\n",
       "  background-color: #7e7eff;\n",
       "  color: #f1f1f1;\n",
       "}\n",
       "#T_7257f_row3_col1 {\n",
       "  background-color: #eeeeff;\n",
       "  color: #000000;\n",
       "}\n",
       "#T_7257f_row3_col2 {\n",
       "  background-color: #a0a0ff;\n",
       "  color: #f1f1f1;\n",
       "}\n",
       "#T_7257f_row3_col3 {\n",
       "  background-color: #b2b2ff;\n",
       "  color: #000000;\n",
       "}\n",
       "#T_7257f_row4_col2 {\n",
       "  background-color: #ff2222;\n",
       "  color: #f1f1f1;\n",
       "}\n",
       "#T_7257f_row4_col3 {\n",
       "  background-color: #fefeff;\n",
       "  color: #000000;\n",
       "}\n",
       "#T_7257f_row5_col1 {\n",
       "  background-color: #ffeeee;\n",
       "  color: #000000;\n",
       "}\n",
       "#T_7257f_row5_col2 {\n",
       "  background-color: #aeaeff;\n",
       "  color: #000000;\n",
       "}\n",
       "#T_7257f_row5_col3 {\n",
       "  background-color: #ccccff;\n",
       "  color: #000000;\n",
       "}\n",
       "</style>\n",
       "<table id=\"T_7257f\">\n",
       "  <thead>\n",
       "    <tr>\n",
       "      <th class=\"blank level0\" >&nbsp;</th>\n",
       "      <th id=\"T_7257f_level0_col0\" class=\"col_heading level0 col0\" >Model</th>\n",
       "      <th id=\"T_7257f_level0_col1\" class=\"col_heading level0 col1\" >Recall</th>\n",
       "      <th id=\"T_7257f_level0_col2\" class=\"col_heading level0 col2\" >Precision</th>\n",
       "      <th id=\"T_7257f_level0_col3\" class=\"col_heading level0 col3\" >Accuracy</th>\n",
       "    </tr>\n",
       "  </thead>\n",
       "  <tbody>\n",
       "    <tr>\n",
       "      <th id=\"T_7257f_level0_row0\" class=\"row_heading level0 row0\" >0</th>\n",
       "      <td id=\"T_7257f_row0_col0\" class=\"data row0 col0\" >Logistic Regression</td>\n",
       "      <td id=\"T_7257f_row0_col1\" class=\"data row0 col1\" >0.965217</td>\n",
       "      <td id=\"T_7257f_row0_col2\" class=\"data row0 col2\" >0.770833</td>\n",
       "      <td id=\"T_7257f_row0_col3\" class=\"data row0 col3\" >0.807292</td>\n",
       "    </tr>\n",
       "    <tr>\n",
       "      <th id=\"T_7257f_level0_row1\" class=\"row_heading level0 row1\" >1</th>\n",
       "      <td id=\"T_7257f_row1_col0\" class=\"data row1 col0\" >KNN</td>\n",
       "      <td id=\"T_7257f_row1_col1\" class=\"data row1 col1\" >0.834783</td>\n",
       "      <td id=\"T_7257f_row1_col2\" class=\"data row1 col2\" >0.716418</td>\n",
       "      <td id=\"T_7257f_row1_col3\" class=\"data row1 col3\" >0.703125</td>\n",
       "    </tr>\n",
       "    <tr>\n",
       "      <th id=\"T_7257f_level0_row2\" class=\"row_heading level0 row2\" >2</th>\n",
       "      <td id=\"T_7257f_row2_col0\" class=\"data row2 col0\" >DecisionTrees</td>\n",
       "      <td id=\"T_7257f_row2_col1\" class=\"data row2 col1\" >0.886957</td>\n",
       "      <td id=\"T_7257f_row2_col2\" class=\"data row2 col2\" >0.778626</td>\n",
       "      <td id=\"T_7257f_row2_col3\" class=\"data row2 col3\" >0.781250</td>\n",
       "    </tr>\n",
       "    <tr>\n",
       "      <th id=\"T_7257f_level0_row3\" class=\"row_heading level0 row3\" >3</th>\n",
       "      <td id=\"T_7257f_row3_col0\" class=\"data row3 col0\" >RandomForest</td>\n",
       "      <td id=\"T_7257f_row3_col1\" class=\"data row3 col1\" >0.904348</td>\n",
       "      <td id=\"T_7257f_row3_col2\" class=\"data row3 col2\" >0.759124</td>\n",
       "      <td id=\"T_7257f_row3_col3\" class=\"data row3 col3\" >0.770833</td>\n",
       "    </tr>\n",
       "    <tr>\n",
       "      <th id=\"T_7257f_level0_row4\" class=\"row_heading level0 row4\" >4</th>\n",
       "      <td id=\"T_7257f_row4_col0\" class=\"data row4 col0\" >SVM</td>\n",
       "      <td id=\"T_7257f_row4_col1\" class=\"data row4 col1\" >0.965217</td>\n",
       "      <td id=\"T_7257f_row4_col2\" class=\"data row4 col2\" >0.720779</td>\n",
       "      <td id=\"T_7257f_row4_col3\" class=\"data row4 col3\" >0.755208</td>\n",
       "    </tr>\n",
       "    <tr>\n",
       "      <th id=\"T_7257f_level0_row5\" class=\"row_heading level0 row5\" >5</th>\n",
       "      <td id=\"T_7257f_row5_col0\" class=\"data row5 col0\" >GradientBoostingClassifier</td>\n",
       "      <td id=\"T_7257f_row5_col1\" class=\"data row5 col1\" >0.895652</td>\n",
       "      <td id=\"T_7257f_row5_col2\" class=\"data row5 col2\" >0.757353</td>\n",
       "      <td id=\"T_7257f_row5_col3\" class=\"data row5 col3\" >0.765625</td>\n",
       "    </tr>\n",
       "  </tbody>\n",
       "</table>\n"
      ],
      "text/plain": [
       "<pandas.io.formats.style.Styler at 0x22934429af0>"
      ]
     },
     "execution_count": 70,
     "metadata": {},
     "output_type": "execute_result"
    }
   ],
   "source": [
    "score_df.style.background_gradient(cmap='bwr_r')"
   ]
  },
  {
   "cell_type": "code",
   "execution_count": 71,
   "id": "092b6a28",
   "metadata": {},
   "outputs": [
    {
     "data": {
      "text/html": [
       "<div>\n",
       "<style scoped>\n",
       "    .dataframe tbody tr th:only-of-type {\n",
       "        vertical-align: middle;\n",
       "    }\n",
       "\n",
       "    .dataframe tbody tr th {\n",
       "        vertical-align: top;\n",
       "    }\n",
       "\n",
       "    .dataframe thead th {\n",
       "        text-align: right;\n",
       "    }\n",
       "</style>\n",
       "<table border=\"1\" class=\"dataframe\">\n",
       "  <thead>\n",
       "    <tr style=\"text-align: right;\">\n",
       "      <th></th>\n",
       "      <th>Model</th>\n",
       "      <th>Accuracy</th>\n",
       "    </tr>\n",
       "  </thead>\n",
       "  <tbody>\n",
       "    <tr>\n",
       "      <th>0</th>\n",
       "      <td>Logistic Regression</td>\n",
       "      <td>80.729167</td>\n",
       "    </tr>\n",
       "    <tr>\n",
       "      <th>1</th>\n",
       "      <td>KNN</td>\n",
       "      <td>70.312500</td>\n",
       "    </tr>\n",
       "    <tr>\n",
       "      <th>2</th>\n",
       "      <td>DecisionTrees</td>\n",
       "      <td>78.125000</td>\n",
       "    </tr>\n",
       "    <tr>\n",
       "      <th>3</th>\n",
       "      <td>RandomForest</td>\n",
       "      <td>77.083333</td>\n",
       "    </tr>\n",
       "    <tr>\n",
       "      <th>4</th>\n",
       "      <td>SVM</td>\n",
       "      <td>75.520833</td>\n",
       "    </tr>\n",
       "    <tr>\n",
       "      <th>5</th>\n",
       "      <td>GradientBoostingClassifier</td>\n",
       "      <td>76.562500</td>\n",
       "    </tr>\n",
       "  </tbody>\n",
       "</table>\n",
       "</div>"
      ],
      "text/plain": [
       "                        Model   Accuracy\n",
       "0         Logistic Regression  80.729167\n",
       "1                         KNN  70.312500\n",
       "2               DecisionTrees  78.125000\n",
       "3                RandomForest  77.083333\n",
       "4                         SVM  75.520833\n",
       "5  GradientBoostingClassifier  76.562500"
      ]
     },
     "execution_count": 71,
     "metadata": {},
     "output_type": "execute_result"
    }
   ],
   "source": [
    "model_ev = pd.DataFrame({'Model': ['Logistic Regression','KNN','DecisionTrees','RandomForest','SVM','GradientBoostingClassifier'], 'Accuracy': [accuracy_score(y_test,y_pred)*100,\n",
    "                                    accuracy_score(y_test,knn_pred)*100,accuracy_score(y_test,tree_pred)*100,accuracy_score(y_test,forest_pred)*100,\n",
    "                                    accuracy_score(y_test,svm_pred)*100,accuracy_score(y_test,gbc_pred)*100]})\n",
    "model_ev"
   ]
  },
  {
   "cell_type": "code",
   "execution_count": 72,
   "id": "1d58e5b7",
   "metadata": {},
   "outputs": [],
   "source": [
    "import warnings\n",
    "warnings.simplefilter(action='ignore', category=FutureWarning)"
   ]
  },
  {
   "attachments": {},
   "cell_type": "markdown",
   "id": "ad775a87",
   "metadata": {},
   "source": [
    "ENSEMBLE\n"
   ]
  },
  {
   "cell_type": "code",
   "execution_count": 73,
   "id": "5f68b931",
   "metadata": {},
   "outputs": [
    {
     "name": "stdout",
     "output_type": "stream",
     "text": [
      "confussion matrix\n",
      "[[106   9]\n",
      " [ 27  50]]\n",
      "\n",
      "\n",
      "Accuracy of StackingCVClassifier: 81.25 \n",
      "\n",
      "              precision    recall  f1-score   support\n",
      "\n",
      "           0       0.80      0.92      0.85       115\n",
      "           1       0.85      0.65      0.74        77\n",
      "\n",
      "    accuracy                           0.81       192\n",
      "   macro avg       0.82      0.79      0.80       192\n",
      "weighted avg       0.82      0.81      0.81       192\n",
      "\n"
     ]
    }
   ],
   "source": [
    "from mlxtend.classifier import StackingCVClassifier\n",
    "scv=StackingCVClassifier(classifiers=[tree_classifier,knn_classifier,model],meta_classifier= forest_classifier,random_state=42)\n",
    "scv.fit(X_train,y_train)\n",
    "scv_predicted = scv.predict(X_test)\n",
    "scv_conf_matrix = confusion_matrix(y_test, scv_predicted)\n",
    "scv_acc_score = accuracy_score(y_test, scv_predicted)\n",
    "print(\"confussion matrix\")\n",
    "print(scv_conf_matrix)\n",
    "print(\"\\n\")\n",
    "print(\"Accuracy of StackingCVClassifier:\",scv_acc_score*100,'\\n')\n",
    "print(classification_report(y_test,scv_predicted))\n",
    "\n",
    "import pickle\n",
    "pickle.dump(scv, open('diabetes.pkl', 'wb'))"
   ]
  }
 ],
 "metadata": {
  "kernelspec": {
   "display_name": "Python 3",
   "language": "python",
   "name": "python3"
  },
  "language_info": {
   "codemirror_mode": {
    "name": "ipython",
    "version": 3
   },
   "file_extension": ".py",
   "mimetype": "text/x-python",
   "name": "python",
   "nbconvert_exporter": "python",
   "pygments_lexer": "ipython3",
   "version": "3.9.13"
  },
  "papermill": {
   "default_parameters": {},
   "duration": 58.922101,
   "end_time": "2022-11-10T15:32:36.238349",
   "environment_variables": {},
   "exception": null,
   "input_path": "__notebook__.ipynb",
   "output_path": "__notebook__.ipynb",
   "parameters": {},
   "start_time": "2022-11-10T15:31:37.316248",
   "version": "2.3.4"
  }
 },
 "nbformat": 4,
 "nbformat_minor": 5
}
